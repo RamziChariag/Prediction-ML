{
 "cells": [
  {
   "cell_type": "markdown",
   "id": "ed037716",
   "metadata": {},
   "source": [
    "# Assignment 3: Technical Report\n",
    "## Finding fast growing firms!\n",
    "\n",
    "> Summary report and data can be found on my [GitHub page](https://github.com/RamziChariag/Prediction-ML)\n",
    "\n",
    "Task is to build a model to predict fast growth of firms using the bisnode-firms data\n",
    "\n",
    "* You should design the target (fast growth), it can be measured in any way you like over one (2013 vs 2012) or two years (2014 vs 2012)\n",
    "\n",
    "* You need to argue for your choice, discussing a few alternatives.\n",
    "\n",
    "* Build three different models and pick the one you like the most\n",
    " * Should include at least one logit and one random forest\n",
    " \n",
    "### PART I: Probability prediction\n",
    "* Predict probabilities\n",
    "* Look at cross-validated performance and pick your favorite model\n",
    "\n",
    "### PART II: Classification\n",
    "* Think about the business problem, and define your loss function (like FP=X dollars, FN=Y dollars)\n",
    "* For each model, predict probabilities, look for the optimal classification threshold, calculate expected loss with your loss function. \n",
    "* Pick the model that has the smallest average (over 5 folds) expected loss\n",
    "\n",
    "### PART III Discussion of results\n",
    "* Show a confusion table (on a selected fold or holdout set)\n",
    "* Discuss results, evaluate how useful your model may be\n",
    "\n",
    "## Scoring\n",
    "\n",
    "* Data prep, label and feature engineering (25%)\n",
    "* Model building and probability prediction and model selection (25%)\n",
    "* Classification (20%)\n",
    "\n",
    "* Discussion of steps, decisions and results (15%)\n",
    "    * Explain shortly every modelling decisions\n",
    "    * At the end please give a 2-3 paragraph discussion of what you found.\n",
    "\n",
    "* Quality of the write-up (15%)"
   ]
  },
  {
   "cell_type": "markdown",
   "id": "7da504bc",
   "metadata": {},
   "source": [
    "# Part 0: Preparing Data\n",
    "## Importing Data\n",
    "\n",
    "The first thing to be done is to get data, import it, and keep only the variables and observations I need for models"
   ]
  },
  {
   "cell_type": "code",
   "execution_count": 1,
   "id": "ab0c5a97",
   "metadata": {},
   "outputs": [],
   "source": [
    "### SETTING UP DIRECTORIES\n",
    "\n",
    "# import packages\n",
    "import pandas as pd\n",
    "import os\n",
    "import numpy as np\n",
    "import sys\n",
    "import warnings\n",
    "from pathlib import Path\n",
    "import patsy\n",
    "\n",
    "from mizani.formatters import percent_format\n",
    "from plotnine import *\n",
    "from datetime import datetime\n",
    "import statsmodels.api as sm\n",
    "import statsmodels.formula.api as smf\n",
    "from mizani import transforms\n",
    "from scipy.stats import norm\n",
    "from IPython.core.display import HTML\n",
    "from stargazer.stargazer import Stargazer\n",
    "import statsmodels.nonparametric.kernel_regression as loess\n",
    "import seaborn as sns\n",
    "from mizani.formatters import percent_format\n",
    "import regex as re\n",
    "from sklearn.preprocessing import MultiLabelBinarizer, StandardScaler\n",
    "import matplotlib.pyplot as plt\n",
    "from sklearn.linear_model import LinearRegression, LogisticRegression, LogisticRegressionCV\n",
    "from sklearn.model_selection import train_test_split, GridSearchCV, KFold\n",
    "import sklearn.metrics as metrics\n",
    "from sklearn.metrics import brier_score_loss, roc_curve, auc, confusion_matrix, roc_auc_score, mean_squared_error\n",
    "from sklearn.ensemble import RandomForestClassifier\n",
    "from sklearn.impute import SimpleImputer\n",
    "\n",
    "warnings.filterwarnings(\"ignore\")\n",
    "\n",
    "# set working directory \n",
    "os.chdir('/Users/ramzi.chariag/Documents/CEU/PhD/ML prediction/assignment_3/')\n",
    "\n",
    "# location folders\n",
    "data_in = \"/Users/ramzi.chariag/Documents/CEU/PhD/ML prediction/assignment_3/data\"\n",
    "data_out = \"/Users/ramzi.chariag/Documents/CEU/PhD/ML prediction/assignment_3/data\"\n",
    "results = \"/Users/ramzi.chariag/Documents/CEU/PhD/ML prediction/assignment_3/output\"\n",
    "func = '/Users/ramzi.chariag/Documents/CEU/PhD/ML prediction/assignment_3/'\n",
    "\n",
    "sys.path.append(func)\n",
    "from py_helper_functions import *"
   ]
  },
  {
   "cell_type": "code",
   "execution_count": 2,
   "id": "222c0072",
   "metadata": {},
   "outputs": [
    {
     "data": {
      "text/plain": [
       "'/Users/ramzi.chariag/Documents/CEU/PhD/ML prediction/assignment_3'"
      ]
     },
     "execution_count": 2,
     "metadata": {},
     "output_type": "execute_result"
    }
   ],
   "source": [
    "os.getcwd()"
   ]
  },
  {
   "cell_type": "code",
   "execution_count": 3,
   "id": "0efbcafc",
   "metadata": {},
   "outputs": [
    {
     "data": {
      "text/html": [
       "<div>\n",
       "<style scoped>\n",
       "    .dataframe tbody tr th:only-of-type {\n",
       "        vertical-align: middle;\n",
       "    }\n",
       "\n",
       "    .dataframe tbody tr th {\n",
       "        vertical-align: top;\n",
       "    }\n",
       "\n",
       "    .dataframe thead th {\n",
       "        text-align: right;\n",
       "    }\n",
       "</style>\n",
       "<table border=\"1\" class=\"dataframe\">\n",
       "  <thead>\n",
       "    <tr style=\"text-align: right;\">\n",
       "      <th></th>\n",
       "      <th>comp_id</th>\n",
       "      <th>begin</th>\n",
       "      <th>end</th>\n",
       "      <th>COGS</th>\n",
       "      <th>amort</th>\n",
       "      <th>curr_assets</th>\n",
       "      <th>curr_liab</th>\n",
       "      <th>extra_exp</th>\n",
       "      <th>extra_inc</th>\n",
       "      <th>extra_profit_loss</th>\n",
       "      <th>...</th>\n",
       "      <th>gender</th>\n",
       "      <th>origin</th>\n",
       "      <th>nace_main</th>\n",
       "      <th>ind2</th>\n",
       "      <th>ind</th>\n",
       "      <th>urban_m</th>\n",
       "      <th>region_m</th>\n",
       "      <th>founded_date</th>\n",
       "      <th>exit_date</th>\n",
       "      <th>labor_avg</th>\n",
       "    </tr>\n",
       "  </thead>\n",
       "  <tbody>\n",
       "    <tr>\n",
       "      <th>0</th>\n",
       "      <td>1.001034e+06</td>\n",
       "      <td>2005-01-01</td>\n",
       "      <td>2005-12-31</td>\n",
       "      <td>NaN</td>\n",
       "      <td>692.592590</td>\n",
       "      <td>7266.666504</td>\n",
       "      <td>7574.074219</td>\n",
       "      <td>0.0</td>\n",
       "      <td>0.0</td>\n",
       "      <td>0.0</td>\n",
       "      <td>...</td>\n",
       "      <td>mix</td>\n",
       "      <td>Domestic</td>\n",
       "      <td>5630.0</td>\n",
       "      <td>56.0</td>\n",
       "      <td>3.0</td>\n",
       "      <td>1</td>\n",
       "      <td>Central</td>\n",
       "      <td>1990-11-19</td>\n",
       "      <td>NaN</td>\n",
       "      <td>NaN</td>\n",
       "    </tr>\n",
       "    <tr>\n",
       "      <th>1</th>\n",
       "      <td>1.001034e+06</td>\n",
       "      <td>2006-01-01</td>\n",
       "      <td>2006-12-31</td>\n",
       "      <td>NaN</td>\n",
       "      <td>603.703674</td>\n",
       "      <td>13122.222656</td>\n",
       "      <td>12211.111328</td>\n",
       "      <td>0.0</td>\n",
       "      <td>0.0</td>\n",
       "      <td>0.0</td>\n",
       "      <td>...</td>\n",
       "      <td>mix</td>\n",
       "      <td>Domestic</td>\n",
       "      <td>5630.0</td>\n",
       "      <td>56.0</td>\n",
       "      <td>3.0</td>\n",
       "      <td>1</td>\n",
       "      <td>Central</td>\n",
       "      <td>1990-11-19</td>\n",
       "      <td>NaN</td>\n",
       "      <td>NaN</td>\n",
       "    </tr>\n",
       "    <tr>\n",
       "      <th>2</th>\n",
       "      <td>1.001034e+06</td>\n",
       "      <td>2007-01-01</td>\n",
       "      <td>2007-12-31</td>\n",
       "      <td>NaN</td>\n",
       "      <td>425.925934</td>\n",
       "      <td>8196.295898</td>\n",
       "      <td>7800.000000</td>\n",
       "      <td>0.0</td>\n",
       "      <td>0.0</td>\n",
       "      <td>0.0</td>\n",
       "      <td>...</td>\n",
       "      <td>mix</td>\n",
       "      <td>Domestic</td>\n",
       "      <td>5630.0</td>\n",
       "      <td>56.0</td>\n",
       "      <td>3.0</td>\n",
       "      <td>1</td>\n",
       "      <td>Central</td>\n",
       "      <td>1990-11-19</td>\n",
       "      <td>NaN</td>\n",
       "      <td>NaN</td>\n",
       "    </tr>\n",
       "    <tr>\n",
       "      <th>3</th>\n",
       "      <td>1.001034e+06</td>\n",
       "      <td>2008-01-01</td>\n",
       "      <td>2008-12-31</td>\n",
       "      <td>NaN</td>\n",
       "      <td>300.000000</td>\n",
       "      <td>8485.185547</td>\n",
       "      <td>7781.481445</td>\n",
       "      <td>0.0</td>\n",
       "      <td>0.0</td>\n",
       "      <td>0.0</td>\n",
       "      <td>...</td>\n",
       "      <td>mix</td>\n",
       "      <td>Domestic</td>\n",
       "      <td>5630.0</td>\n",
       "      <td>56.0</td>\n",
       "      <td>3.0</td>\n",
       "      <td>1</td>\n",
       "      <td>Central</td>\n",
       "      <td>1990-11-19</td>\n",
       "      <td>NaN</td>\n",
       "      <td>NaN</td>\n",
       "    </tr>\n",
       "    <tr>\n",
       "      <th>4</th>\n",
       "      <td>1.001034e+06</td>\n",
       "      <td>2009-01-01</td>\n",
       "      <td>2009-12-31</td>\n",
       "      <td>NaN</td>\n",
       "      <td>207.407410</td>\n",
       "      <td>5137.037109</td>\n",
       "      <td>15300.000000</td>\n",
       "      <td>0.0</td>\n",
       "      <td>0.0</td>\n",
       "      <td>0.0</td>\n",
       "      <td>...</td>\n",
       "      <td>mix</td>\n",
       "      <td>Domestic</td>\n",
       "      <td>5630.0</td>\n",
       "      <td>56.0</td>\n",
       "      <td>3.0</td>\n",
       "      <td>1</td>\n",
       "      <td>Central</td>\n",
       "      <td>1990-11-19</td>\n",
       "      <td>NaN</td>\n",
       "      <td>0.083333</td>\n",
       "    </tr>\n",
       "    <tr>\n",
       "      <th>...</th>\n",
       "      <td>...</td>\n",
       "      <td>...</td>\n",
       "      <td>...</td>\n",
       "      <td>...</td>\n",
       "      <td>...</td>\n",
       "      <td>...</td>\n",
       "      <td>...</td>\n",
       "      <td>...</td>\n",
       "      <td>...</td>\n",
       "      <td>...</td>\n",
       "      <td>...</td>\n",
       "      <td>...</td>\n",
       "      <td>...</td>\n",
       "      <td>...</td>\n",
       "      <td>...</td>\n",
       "      <td>...</td>\n",
       "      <td>...</td>\n",
       "      <td>...</td>\n",
       "      <td>...</td>\n",
       "      <td>...</td>\n",
       "      <td>...</td>\n",
       "    </tr>\n",
       "    <tr>\n",
       "      <th>287824</th>\n",
       "      <td>4.641209e+11</td>\n",
       "      <td>2011-01-01</td>\n",
       "      <td>2011-12-31</td>\n",
       "      <td>NaN</td>\n",
       "      <td>0.000000</td>\n",
       "      <td>1807.407349</td>\n",
       "      <td>3.703704</td>\n",
       "      <td>0.0</td>\n",
       "      <td>0.0</td>\n",
       "      <td>0.0</td>\n",
       "      <td>...</td>\n",
       "      <td>female</td>\n",
       "      <td>Domestic</td>\n",
       "      <td>5510.0</td>\n",
       "      <td>55.0</td>\n",
       "      <td>3.0</td>\n",
       "      <td>2</td>\n",
       "      <td>East</td>\n",
       "      <td>1990-08-22</td>\n",
       "      <td>NaN</td>\n",
       "      <td>NaN</td>\n",
       "    </tr>\n",
       "    <tr>\n",
       "      <th>287825</th>\n",
       "      <td>4.641209e+11</td>\n",
       "      <td>2012-01-01</td>\n",
       "      <td>2012-12-31</td>\n",
       "      <td>NaN</td>\n",
       "      <td>0.000000</td>\n",
       "      <td>1518.518555</td>\n",
       "      <td>96.296295</td>\n",
       "      <td>0.0</td>\n",
       "      <td>0.0</td>\n",
       "      <td>0.0</td>\n",
       "      <td>...</td>\n",
       "      <td>female</td>\n",
       "      <td>Domestic</td>\n",
       "      <td>5510.0</td>\n",
       "      <td>55.0</td>\n",
       "      <td>3.0</td>\n",
       "      <td>2</td>\n",
       "      <td>East</td>\n",
       "      <td>1990-08-22</td>\n",
       "      <td>NaN</td>\n",
       "      <td>NaN</td>\n",
       "    </tr>\n",
       "    <tr>\n",
       "      <th>287826</th>\n",
       "      <td>4.641209e+11</td>\n",
       "      <td>2013-01-01</td>\n",
       "      <td>2013-12-31</td>\n",
       "      <td>NaN</td>\n",
       "      <td>0.000000</td>\n",
       "      <td>988.888916</td>\n",
       "      <td>77.777779</td>\n",
       "      <td>0.0</td>\n",
       "      <td>0.0</td>\n",
       "      <td>0.0</td>\n",
       "      <td>...</td>\n",
       "      <td>NaN</td>\n",
       "      <td>NaN</td>\n",
       "      <td>5510.0</td>\n",
       "      <td>55.0</td>\n",
       "      <td>3.0</td>\n",
       "      <td>2</td>\n",
       "      <td>East</td>\n",
       "      <td>1990-08-22</td>\n",
       "      <td>NaN</td>\n",
       "      <td>NaN</td>\n",
       "    </tr>\n",
       "    <tr>\n",
       "      <th>287827</th>\n",
       "      <td>4.641209e+11</td>\n",
       "      <td>2014-01-01</td>\n",
       "      <td>2014-12-31</td>\n",
       "      <td>NaN</td>\n",
       "      <td>0.000000</td>\n",
       "      <td>644.444458</td>\n",
       "      <td>233.333328</td>\n",
       "      <td>0.0</td>\n",
       "      <td>0.0</td>\n",
       "      <td>0.0</td>\n",
       "      <td>...</td>\n",
       "      <td>female</td>\n",
       "      <td>Domestic</td>\n",
       "      <td>5510.0</td>\n",
       "      <td>55.0</td>\n",
       "      <td>3.0</td>\n",
       "      <td>2</td>\n",
       "      <td>East</td>\n",
       "      <td>1990-08-22</td>\n",
       "      <td>NaN</td>\n",
       "      <td>NaN</td>\n",
       "    </tr>\n",
       "    <tr>\n",
       "      <th>287828</th>\n",
       "      <td>4.641209e+11</td>\n",
       "      <td>2015-01-01</td>\n",
       "      <td>2015-12-31</td>\n",
       "      <td>NaN</td>\n",
       "      <td>0.000000</td>\n",
       "      <td>166.666672</td>\n",
       "      <td>270.370361</td>\n",
       "      <td>0.0</td>\n",
       "      <td>0.0</td>\n",
       "      <td>0.0</td>\n",
       "      <td>...</td>\n",
       "      <td>female</td>\n",
       "      <td>Domestic</td>\n",
       "      <td>5510.0</td>\n",
       "      <td>55.0</td>\n",
       "      <td>3.0</td>\n",
       "      <td>2</td>\n",
       "      <td>East</td>\n",
       "      <td>1990-08-22</td>\n",
       "      <td>NaN</td>\n",
       "      <td>NaN</td>\n",
       "    </tr>\n",
       "  </tbody>\n",
       "</table>\n",
       "<p>287829 rows × 48 columns</p>\n",
       "</div>"
      ],
      "text/plain": [
       "             comp_id       begin         end  COGS       amort   curr_assets  \\\n",
       "0       1.001034e+06  2005-01-01  2005-12-31   NaN  692.592590   7266.666504   \n",
       "1       1.001034e+06  2006-01-01  2006-12-31   NaN  603.703674  13122.222656   \n",
       "2       1.001034e+06  2007-01-01  2007-12-31   NaN  425.925934   8196.295898   \n",
       "3       1.001034e+06  2008-01-01  2008-12-31   NaN  300.000000   8485.185547   \n",
       "4       1.001034e+06  2009-01-01  2009-12-31   NaN  207.407410   5137.037109   \n",
       "...              ...         ...         ...   ...         ...           ...   \n",
       "287824  4.641209e+11  2011-01-01  2011-12-31   NaN    0.000000   1807.407349   \n",
       "287825  4.641209e+11  2012-01-01  2012-12-31   NaN    0.000000   1518.518555   \n",
       "287826  4.641209e+11  2013-01-01  2013-12-31   NaN    0.000000    988.888916   \n",
       "287827  4.641209e+11  2014-01-01  2014-12-31   NaN    0.000000    644.444458   \n",
       "287828  4.641209e+11  2015-01-01  2015-12-31   NaN    0.000000    166.666672   \n",
       "\n",
       "           curr_liab  extra_exp  extra_inc  extra_profit_loss  ...  gender  \\\n",
       "0        7574.074219        0.0        0.0                0.0  ...     mix   \n",
       "1       12211.111328        0.0        0.0                0.0  ...     mix   \n",
       "2        7800.000000        0.0        0.0                0.0  ...     mix   \n",
       "3        7781.481445        0.0        0.0                0.0  ...     mix   \n",
       "4       15300.000000        0.0        0.0                0.0  ...     mix   \n",
       "...              ...        ...        ...                ...  ...     ...   \n",
       "287824      3.703704        0.0        0.0                0.0  ...  female   \n",
       "287825     96.296295        0.0        0.0                0.0  ...  female   \n",
       "287826     77.777779        0.0        0.0                0.0  ...     NaN   \n",
       "287827    233.333328        0.0        0.0                0.0  ...  female   \n",
       "287828    270.370361        0.0        0.0                0.0  ...  female   \n",
       "\n",
       "          origin  nace_main  ind2  ind  urban_m  region_m  founded_date  \\\n",
       "0       Domestic     5630.0  56.0  3.0        1   Central    1990-11-19   \n",
       "1       Domestic     5630.0  56.0  3.0        1   Central    1990-11-19   \n",
       "2       Domestic     5630.0  56.0  3.0        1   Central    1990-11-19   \n",
       "3       Domestic     5630.0  56.0  3.0        1   Central    1990-11-19   \n",
       "4       Domestic     5630.0  56.0  3.0        1   Central    1990-11-19   \n",
       "...          ...        ...   ...  ...      ...       ...           ...   \n",
       "287824  Domestic     5510.0  55.0  3.0        2      East    1990-08-22   \n",
       "287825  Domestic     5510.0  55.0  3.0        2      East    1990-08-22   \n",
       "287826       NaN     5510.0  55.0  3.0        2      East    1990-08-22   \n",
       "287827  Domestic     5510.0  55.0  3.0        2      East    1990-08-22   \n",
       "287828  Domestic     5510.0  55.0  3.0        2      East    1990-08-22   \n",
       "\n",
       "        exit_date  labor_avg  \n",
       "0             NaN        NaN  \n",
       "1             NaN        NaN  \n",
       "2             NaN        NaN  \n",
       "3             NaN        NaN  \n",
       "4             NaN   0.083333  \n",
       "...           ...        ...  \n",
       "287824        NaN        NaN  \n",
       "287825        NaN        NaN  \n",
       "287826        NaN        NaN  \n",
       "287827        NaN        NaN  \n",
       "287828        NaN        NaN  \n",
       "\n",
       "[287829 rows x 48 columns]"
      ]
     },
     "execution_count": 3,
     "metadata": {},
     "output_type": "execute_result"
    }
   ],
   "source": [
    "# read csv\n",
    "current_csv_path = os.path.join(data_in,\"cs_bisnode_panel.csv\")\n",
    "data = pd.read_csv(current_csv_path)\n",
    "data"
   ]
  },
  {
   "cell_type": "markdown",
   "id": "a73cdf14",
   "metadata": {},
   "source": [
    "The data has 287,829 rows and 48 columns. We need to start with the panel for 2010-2015. Let's delete all other years."
   ]
  },
  {
   "cell_type": "code",
   "execution_count": 4,
   "id": "9b0419fd",
   "metadata": {},
   "outputs": [],
   "source": [
    "data=data.query('year<=2015 & year>=2010')"
   ]
  },
  {
   "cell_type": "markdown",
   "id": "55329ee5",
   "metadata": {},
   "source": [
    "Now we are left with 167,606 observations"
   ]
  },
  {
   "cell_type": "markdown",
   "id": "1dbd15fa",
   "metadata": {},
   "source": [
    "Look at variables with many missing variables\n",
    "\n",
    "`data.isnull().sum()` shows that 'COGS', 'finished_prod', 'net_dom_sales', 'net_exp_sales', 'wages', and 'D' have a lot of missing values (more than 90%). I will delete these columns"
   ]
  },
  {
   "cell_type": "code",
   "execution_count": 5,
   "id": "0717b143",
   "metadata": {},
   "outputs": [],
   "source": [
    "# Set options to see all rows and columns\n",
    "#pd.set_option('display.max_columns', None)\n",
    "#pd.set_option('display.max_rows', None)"
   ]
  },
  {
   "cell_type": "code",
   "execution_count": 6,
   "id": "a3cf98fd",
   "metadata": {},
   "outputs": [],
   "source": [
    "# drop columns with many NAs\n",
    "data = data.drop(columns = ['COGS', 'finished_prod', 'net_dom_sales', 'net_exp_sales', 'wages', 'D'])"
   ]
  },
  {
   "cell_type": "markdown",
   "id": "e19325ae",
   "metadata": {},
   "source": [
    "## Target variable\n",
    "I define fast growing firm as the firm which has high percentage change in sales over a period of time.\n",
    "\n",
    "As I expect the distribution of sales to be skewed, I might swith to log values. "
   ]
  },
  {
   "cell_type": "code",
   "execution_count": 7,
   "id": "765bbd4a",
   "metadata": {},
   "outputs": [
    {
     "data": {
      "text/plain": [
       "count    1.638640e+05\n",
       "mean     4.662059e+05\n",
       "std      3.789100e+06\n",
       "min     -2.553889e+05\n",
       "25%      3.092593e+03\n",
       "50%      2.697037e+04\n",
       "75%      1.060620e+05\n",
       "max      1.110294e+08\n",
       "Name: sales, dtype: float64"
      ]
     },
     "execution_count": 7,
     "metadata": {},
     "output_type": "execute_result"
    }
   ],
   "source": [
    "data['sales'].describe()"
   ]
  },
  {
   "cell_type": "markdown",
   "id": "1ed82d54",
   "metadata": {},
   "source": [
    "There are negative values of sales. I will replace them with 0.\n",
    "\n",
    "I will also create a log of sales variable"
   ]
  },
  {
   "cell_type": "code",
   "execution_count": 8,
   "id": "313deb29",
   "metadata": {},
   "outputs": [],
   "source": [
    "# replace negative values with zeros\n",
    "data['sales']=np.where(data['sales'] < 0, 1, data['sales'])\n",
    "# create log of sales\n",
    "data = data.assign(\n",
    "    ln_sales = np.where(data['sales'] > 0 , np.log(data['sales']), (np.where(data['sales'].isna(),np.nan,0))), #NaN remain NaN\n",
    "  )"
   ]
  },
  {
   "cell_type": "code",
   "execution_count": 9,
   "id": "c88074a1",
   "metadata": {},
   "outputs": [
    {
     "data": {
      "image/png": "[encoded data removed]",
      "text/plain": [
       "<Figure size 640x480 with 1 Axes>"
      ]
     },
     "metadata": {},
     "output_type": "display_data"
    }
   ],
   "source": [
    "ax=data['ln_sales'].plot(kind='hist', color='#9BCC31')"
   ]
  },
  {
   "cell_type": "code",
   "execution_count": 10,
   "id": "e14fb3eb",
   "metadata": {},
   "outputs": [],
   "source": [
    "# create changes of ln_sales from 2011 to 2012\n",
    "data['diff_ln_sales']=data['ln_sales']-data.groupby('comp_id')['ln_sales'].shift(1)"
   ]
  },
  {
   "cell_type": "code",
   "execution_count": 11,
   "id": "f6ca5915",
   "metadata": {},
   "outputs": [],
   "source": [
    "# create age and new variables\n",
    "data['age']=np.where(data['year']-data['founded_year'] < 0, 0, data['year']-data['founded_year'])\n",
    "data['new']=np.where(((data['age']<=1)|(data['balsheet_notfullyear']==1)),1,(np.where(data['age'].isna(),np.nan,0)))\n",
    "\n",
    "# adjust \n",
    "data[\"diff_ln_sales\"] = np.where(\n",
    "    data[\"new\"] == 1, 0, np.where(data[\"new\"].isna(), np.nan, data[\"diff_ln_sales\"])\n",
    ")\n",
    "data[\"new\"] = np.where(data[\"diff_ln_sales\"].isna(), 1, data[\"new\"])\n",
    "data[\"diff_ln_sales\"] = np.where(\n",
    "    data[\"diff_ln_sales\"].isna(), 0, data[\"diff_ln_sales\"]\n",
    ")"
   ]
  },
  {
   "cell_type": "code",
   "execution_count": 12,
   "id": "051e5b50",
   "metadata": {},
   "outputs": [],
   "source": [
    "# create percentage changes of ln_sales from 2012 to 2013 and from 2012 to 2014 \n",
    "data['d1_ln_sales'] = (data.groupby('comp_id')['ln_sales'].shift(-1) - data['ln_sales'] )/ data['ln_sales']\n",
    "data['d2_ln_sales'] = (data.groupby('comp_id')['ln_sales'].shift(-2) - data['ln_sales'] )/ data['ln_sales']\n",
    "\n",
    "# create percentage changes of sales from 2012 to 2013 and from 2012 to 2014 \n",
    "data['d1_sales'] = (data.groupby('comp_id')['sales'].shift(-1) - data['sales'] )/ data['sales']\n",
    "data['d2_sales'] = (data.groupby('comp_id')['sales'].shift(-2) - data['sales'] )/ data['sales']"
   ]
  },
  {
   "cell_type": "markdown",
   "id": "77878cbf",
   "metadata": {},
   "source": [
    "Now look at cross-section"
   ]
  },
  {
   "cell_type": "code",
   "execution_count": 13,
   "id": "a6b1af64",
   "metadata": {},
   "outputs": [
    {
     "data": {
      "text/html": [
       "<div>\n",
       "<style scoped>\n",
       "    .dataframe tbody tr th:only-of-type {\n",
       "        vertical-align: middle;\n",
       "    }\n",
       "\n",
       "    .dataframe tbody tr th {\n",
       "        vertical-align: top;\n",
       "    }\n",
       "\n",
       "    .dataframe thead th {\n",
       "        text-align: right;\n",
       "    }\n",
       "</style>\n",
       "<table border=\"1\" class=\"dataframe\">\n",
       "  <thead>\n",
       "    <tr style=\"text-align: right;\">\n",
       "      <th></th>\n",
       "      <th>comp_id</th>\n",
       "      <th>begin</th>\n",
       "      <th>end</th>\n",
       "      <th>amort</th>\n",
       "      <th>curr_assets</th>\n",
       "      <th>curr_liab</th>\n",
       "      <th>extra_exp</th>\n",
       "      <th>extra_inc</th>\n",
       "      <th>extra_profit_loss</th>\n",
       "      <th>fixed_assets</th>\n",
       "      <th>...</th>\n",
       "      <th>labor_avg</th>\n",
       "      <th>ln_sales</th>\n",
       "      <th>diff_ln_sales</th>\n",
       "      <th>age</th>\n",
       "      <th>new</th>\n",
       "      <th>d1_ln_sales</th>\n",
       "      <th>d2_ln_sales</th>\n",
       "      <th>d1_sales</th>\n",
       "      <th>d2_sales</th>\n",
       "      <th>status_alive</th>\n",
       "    </tr>\n",
       "  </thead>\n",
       "  <tbody>\n",
       "    <tr>\n",
       "      <th>14</th>\n",
       "      <td>1.001541e+06</td>\n",
       "      <td>2012-01-01</td>\n",
       "      <td>2012-12-31</td>\n",
       "      <td>481.481476</td>\n",
       "      <td>9.629630e+03</td>\n",
       "      <td>1.303704e+03</td>\n",
       "      <td>0.000000</td>\n",
       "      <td>0.000000</td>\n",
       "      <td>0.000000</td>\n",
       "      <td>190566.671875</td>\n",
       "      <td>...</td>\n",
       "      <td>NaN</td>\n",
       "      <td>7.093159</td>\n",
       "      <td>7.093159</td>\n",
       "      <td>4.0</td>\n",
       "      <td>0.0</td>\n",
       "      <td>0.215616</td>\n",
       "      <td>0.197593</td>\n",
       "      <td>3.615385</td>\n",
       "      <td>3.061538</td>\n",
       "      <td>1</td>\n",
       "    </tr>\n",
       "    <tr>\n",
       "      <th>23</th>\n",
       "      <td>1.002029e+06</td>\n",
       "      <td>2012-01-01</td>\n",
       "      <td>2012-12-31</td>\n",
       "      <td>14929.629883</td>\n",
       "      <td>2.038852e+05</td>\n",
       "      <td>1.204445e+05</td>\n",
       "      <td>0.000000</td>\n",
       "      <td>0.000000</td>\n",
       "      <td>0.000000</td>\n",
       "      <td>23459.259766</td>\n",
       "      <td>...</td>\n",
       "      <td>0.458333</td>\n",
       "      <td>13.943477</td>\n",
       "      <td>0.684448</td>\n",
       "      <td>6.0</td>\n",
       "      <td>0.0</td>\n",
       "      <td>-0.082835</td>\n",
       "      <td>-0.118835</td>\n",
       "      <td>-0.684947</td>\n",
       "      <td>-0.809284</td>\n",
       "      <td>1</td>\n",
       "    </tr>\n",
       "    <tr>\n",
       "      <th>35</th>\n",
       "      <td>1.003200e+06</td>\n",
       "      <td>2012-01-01</td>\n",
       "      <td>2012-12-31</td>\n",
       "      <td>25.925926</td>\n",
       "      <td>2.222222e+01</td>\n",
       "      <td>1.099630e+04</td>\n",
       "      <td>0.000000</td>\n",
       "      <td>0.000000</td>\n",
       "      <td>0.000000</td>\n",
       "      <td>0.000000</td>\n",
       "      <td>...</td>\n",
       "      <td>NaN</td>\n",
       "      <td>7.932070</td>\n",
       "      <td>-1.424773</td>\n",
       "      <td>9.0</td>\n",
       "      <td>0.0</td>\n",
       "      <td>NaN</td>\n",
       "      <td>NaN</td>\n",
       "      <td>NaN</td>\n",
       "      <td>NaN</td>\n",
       "      <td>1</td>\n",
       "    </tr>\n",
       "    <tr>\n",
       "      <th>56</th>\n",
       "      <td>1.011889e+06</td>\n",
       "      <td>2012-01-01</td>\n",
       "      <td>2012-12-31</td>\n",
       "      <td>36625.925781</td>\n",
       "      <td>1.601667e+05</td>\n",
       "      <td>1.891111e+04</td>\n",
       "      <td>0.000000</td>\n",
       "      <td>0.000000</td>\n",
       "      <td>0.000000</td>\n",
       "      <td>933574.062500</td>\n",
       "      <td>...</td>\n",
       "      <td>1.621212</td>\n",
       "      <td>12.980031</td>\n",
       "      <td>0.097722</td>\n",
       "      <td>20.0</td>\n",
       "      <td>0.0</td>\n",
       "      <td>0.001472</td>\n",
       "      <td>0.006666</td>\n",
       "      <td>0.019293</td>\n",
       "      <td>0.090375</td>\n",
       "      <td>1</td>\n",
       "    </tr>\n",
       "    <tr>\n",
       "      <th>68</th>\n",
       "      <td>1.014183e+06</td>\n",
       "      <td>2012-01-01</td>\n",
       "      <td>2012-12-31</td>\n",
       "      <td>12551.851562</td>\n",
       "      <td>1.999037e+05</td>\n",
       "      <td>8.274074e+03</td>\n",
       "      <td>0.000000</td>\n",
       "      <td>7.407407</td>\n",
       "      <td>7.407407</td>\n",
       "      <td>118229.632812</td>\n",
       "      <td>...</td>\n",
       "      <td>0.715278</td>\n",
       "      <td>11.773208</td>\n",
       "      <td>-0.273087</td>\n",
       "      <td>11.0</td>\n",
       "      <td>0.0</td>\n",
       "      <td>-0.009347</td>\n",
       "      <td>-0.021219</td>\n",
       "      <td>-0.104205</td>\n",
       "      <td>-0.221058</td>\n",
       "      <td>1</td>\n",
       "    </tr>\n",
       "    <tr>\n",
       "      <th>...</th>\n",
       "      <td>...</td>\n",
       "      <td>...</td>\n",
       "      <td>...</td>\n",
       "      <td>...</td>\n",
       "      <td>...</td>\n",
       "      <td>...</td>\n",
       "      <td>...</td>\n",
       "      <td>...</td>\n",
       "      <td>...</td>\n",
       "      <td>...</td>\n",
       "      <td>...</td>\n",
       "      <td>...</td>\n",
       "      <td>...</td>\n",
       "      <td>...</td>\n",
       "      <td>...</td>\n",
       "      <td>...</td>\n",
       "      <td>...</td>\n",
       "      <td>...</td>\n",
       "      <td>...</td>\n",
       "      <td>...</td>\n",
       "      <td>...</td>\n",
       "    </tr>\n",
       "    <tr>\n",
       "      <th>287764</th>\n",
       "      <td>4.638854e+11</td>\n",
       "      <td>2012-01-01</td>\n",
       "      <td>2012-12-31</td>\n",
       "      <td>544.444458</td>\n",
       "      <td>1.437407e+04</td>\n",
       "      <td>1.330000e+04</td>\n",
       "      <td>0.000000</td>\n",
       "      <td>0.000000</td>\n",
       "      <td>0.000000</td>\n",
       "      <td>7985.185059</td>\n",
       "      <td>...</td>\n",
       "      <td>0.121212</td>\n",
       "      <td>11.958560</td>\n",
       "      <td>-0.234990</td>\n",
       "      <td>3.0</td>\n",
       "      <td>0.0</td>\n",
       "      <td>0.071992</td>\n",
       "      <td>0.116584</td>\n",
       "      <td>1.365346</td>\n",
       "      <td>3.031641</td>\n",
       "      <td>1</td>\n",
       "    </tr>\n",
       "    <tr>\n",
       "      <th>287779</th>\n",
       "      <td>4.639820e+11</td>\n",
       "      <td>2012-01-01</td>\n",
       "      <td>2012-12-31</td>\n",
       "      <td>16337.037109</td>\n",
       "      <td>3.140000e+04</td>\n",
       "      <td>8.300000e+03</td>\n",
       "      <td>0.000000</td>\n",
       "      <td>0.000000</td>\n",
       "      <td>0.000000</td>\n",
       "      <td>113266.656250</td>\n",
       "      <td>...</td>\n",
       "      <td>0.548611</td>\n",
       "      <td>12.159136</td>\n",
       "      <td>-0.844769</td>\n",
       "      <td>17.0</td>\n",
       "      <td>0.0</td>\n",
       "      <td>0.054497</td>\n",
       "      <td>0.070672</td>\n",
       "      <td>0.939912</td>\n",
       "      <td>1.361540</td>\n",
       "      <td>1</td>\n",
       "    </tr>\n",
       "    <tr>\n",
       "      <th>287790</th>\n",
       "      <td>4.640212e+11</td>\n",
       "      <td>2012-01-01</td>\n",
       "      <td>2012-12-31</td>\n",
       "      <td>3566.666748</td>\n",
       "      <td>3.149630e+04</td>\n",
       "      <td>1.783704e+04</td>\n",
       "      <td>0.000000</td>\n",
       "      <td>0.000000</td>\n",
       "      <td>0.000000</td>\n",
       "      <td>31707.408203</td>\n",
       "      <td>...</td>\n",
       "      <td>0.083333</td>\n",
       "      <td>10.546608</td>\n",
       "      <td>-0.282607</td>\n",
       "      <td>6.0</td>\n",
       "      <td>0.0</td>\n",
       "      <td>0.040499</td>\n",
       "      <td>0.031267</td>\n",
       "      <td>0.532853</td>\n",
       "      <td>0.390636</td>\n",
       "      <td>1</td>\n",
       "    </tr>\n",
       "    <tr>\n",
       "      <th>287798</th>\n",
       "      <td>4.640446e+11</td>\n",
       "      <td>2012-01-01</td>\n",
       "      <td>2012-12-31</td>\n",
       "      <td>76059.257812</td>\n",
       "      <td>4.776548e+06</td>\n",
       "      <td>1.297552e+06</td>\n",
       "      <td>0.000000</td>\n",
       "      <td>0.000000</td>\n",
       "      <td>0.000000</td>\n",
       "      <td>286355.562500</td>\n",
       "      <td>...</td>\n",
       "      <td>1.840278</td>\n",
       "      <td>15.959566</td>\n",
       "      <td>0.294490</td>\n",
       "      <td>4.0</td>\n",
       "      <td>0.0</td>\n",
       "      <td>0.000762</td>\n",
       "      <td>0.004195</td>\n",
       "      <td>0.012234</td>\n",
       "      <td>0.069247</td>\n",
       "      <td>1</td>\n",
       "    </tr>\n",
       "    <tr>\n",
       "      <th>287814</th>\n",
       "      <td>4.641050e+11</td>\n",
       "      <td>2012-01-01</td>\n",
       "      <td>2012-12-31</td>\n",
       "      <td>1311.111084</td>\n",
       "      <td>3.261481e+04</td>\n",
       "      <td>1.104815e+04</td>\n",
       "      <td>22.222221</td>\n",
       "      <td>0.000000</td>\n",
       "      <td>-22.222221</td>\n",
       "      <td>8125.925781</td>\n",
       "      <td>...</td>\n",
       "      <td>1.060606</td>\n",
       "      <td>11.950392</td>\n",
       "      <td>-0.032630</td>\n",
       "      <td>23.0</td>\n",
       "      <td>0.0</td>\n",
       "      <td>0.001625</td>\n",
       "      <td>0.008279</td>\n",
       "      <td>0.019609</td>\n",
       "      <td>0.104001</td>\n",
       "      <td>1</td>\n",
       "    </tr>\n",
       "  </tbody>\n",
       "</table>\n",
       "<p>21723 rows × 51 columns</p>\n",
       "</div>"
      ],
      "text/plain": [
       "             comp_id       begin         end         amort   curr_assets  \\\n",
       "14      1.001541e+06  2012-01-01  2012-12-31    481.481476  9.629630e+03   \n",
       "23      1.002029e+06  2012-01-01  2012-12-31  14929.629883  2.038852e+05   \n",
       "35      1.003200e+06  2012-01-01  2012-12-31     25.925926  2.222222e+01   \n",
       "56      1.011889e+06  2012-01-01  2012-12-31  36625.925781  1.601667e+05   \n",
       "68      1.014183e+06  2012-01-01  2012-12-31  12551.851562  1.999037e+05   \n",
       "...              ...         ...         ...           ...           ...   \n",
       "287764  4.638854e+11  2012-01-01  2012-12-31    544.444458  1.437407e+04   \n",
       "287779  4.639820e+11  2012-01-01  2012-12-31  16337.037109  3.140000e+04   \n",
       "287790  4.640212e+11  2012-01-01  2012-12-31   3566.666748  3.149630e+04   \n",
       "287798  4.640446e+11  2012-01-01  2012-12-31  76059.257812  4.776548e+06   \n",
       "287814  4.641050e+11  2012-01-01  2012-12-31   1311.111084  3.261481e+04   \n",
       "\n",
       "           curr_liab  extra_exp  extra_inc  extra_profit_loss   fixed_assets  \\\n",
       "14      1.303704e+03   0.000000   0.000000           0.000000  190566.671875   \n",
       "23      1.204445e+05   0.000000   0.000000           0.000000   23459.259766   \n",
       "35      1.099630e+04   0.000000   0.000000           0.000000       0.000000   \n",
       "56      1.891111e+04   0.000000   0.000000           0.000000  933574.062500   \n",
       "68      8.274074e+03   0.000000   7.407407           7.407407  118229.632812   \n",
       "...              ...        ...        ...                ...            ...   \n",
       "287764  1.330000e+04   0.000000   0.000000           0.000000    7985.185059   \n",
       "287779  8.300000e+03   0.000000   0.000000           0.000000  113266.656250   \n",
       "287790  1.783704e+04   0.000000   0.000000           0.000000   31707.408203   \n",
       "287798  1.297552e+06   0.000000   0.000000           0.000000  286355.562500   \n",
       "287814  1.104815e+04  22.222221   0.000000         -22.222221    8125.925781   \n",
       "\n",
       "        ...  labor_avg   ln_sales  diff_ln_sales   age  new  d1_ln_sales  \\\n",
       "14      ...        NaN   7.093159       7.093159   4.0  0.0     0.215616   \n",
       "23      ...   0.458333  13.943477       0.684448   6.0  0.0    -0.082835   \n",
       "35      ...        NaN   7.932070      -1.424773   9.0  0.0          NaN   \n",
       "56      ...   1.621212  12.980031       0.097722  20.0  0.0     0.001472   \n",
       "68      ...   0.715278  11.773208      -0.273087  11.0  0.0    -0.009347   \n",
       "...     ...        ...        ...            ...   ...  ...          ...   \n",
       "287764  ...   0.121212  11.958560      -0.234990   3.0  0.0     0.071992   \n",
       "287779  ...   0.548611  12.159136      -0.844769  17.0  0.0     0.054497   \n",
       "287790  ...   0.083333  10.546608      -0.282607   6.0  0.0     0.040499   \n",
       "287798  ...   1.840278  15.959566       0.294490   4.0  0.0     0.000762   \n",
       "287814  ...   1.060606  11.950392      -0.032630  23.0  0.0     0.001625   \n",
       "\n",
       "        d2_ln_sales  d1_sales  d2_sales  status_alive  \n",
       "14         0.197593  3.615385  3.061538             1  \n",
       "23        -0.118835 -0.684947 -0.809284             1  \n",
       "35              NaN       NaN       NaN             1  \n",
       "56         0.006666  0.019293  0.090375             1  \n",
       "68        -0.021219 -0.104205 -0.221058             1  \n",
       "...             ...       ...       ...           ...  \n",
       "287764     0.116584  1.365346  3.031641             1  \n",
       "287779     0.070672  0.939912  1.361540             1  \n",
       "287790     0.031267  0.532853  0.390636             1  \n",
       "287798     0.004195  0.012234  0.069247             1  \n",
       "287814     0.008279  0.019609  0.104001             1  \n",
       "\n",
       "[21723 rows x 51 columns]"
      ]
     },
     "execution_count": 13,
     "metadata": {},
     "output_type": "execute_result"
    }
   ],
   "source": [
    "# generate status_alive; if sales larger than zero and not-NA, then firm is alive\n",
    "data['status_alive'] = (data['sales'] > 0 & (False == data['sales'].isna())).astype(int)\n",
    "\n",
    "# look at cross section\n",
    "data=data.query('year==2012 & status_alive == 1')\n",
    "\n",
    "# look at firms below 10m euro revenues and above 1000 euros\n",
    "data=data.query('sales <= 10000000 & sales>=1000')\n",
    "data"
   ]
  },
  {
   "cell_type": "markdown",
   "id": "80b3bce5",
   "metadata": {},
   "source": [
    "Now we are left with 21,723 observations.\n",
    "\n",
    "It's time to define a *fast_growth* variable, which is 1 for firms who has at least 20% growth in sales every year. That is where *d1_sales* $\\ge 0.2$ and *d2_sales* $\\ge 0.44$ (because $1.2*1.2 = 1.44$)"
   ]
  },
  {
   "cell_type": "code",
   "execution_count": 14,
   "id": "f1945a92",
   "metadata": {},
   "outputs": [],
   "source": [
    "data[\"fast_growth\"] = (\n",
    "    (data[\"d1_sales\"] >= 0.2)\n",
    "    & (data[\"d2_sales\"] >= 0.44)\n",
    ").astype(int)"
   ]
  },
  {
   "cell_type": "code",
   "execution_count": 15,
   "id": "f3ee059c",
   "metadata": {},
   "outputs": [
    {
     "name": "stdout",
     "output_type": "stream",
     "text": [
      "The number of fast growing firms is 3751 which is 17.27 percent of all firms\n"
     ]
    }
   ],
   "source": [
    "print(\"The number of fast growing firms is {} which is {:.2f} percent of all firms\".format(data.fast_growth.sum(), 100*data.fast_growth.sum()/len(data)))"
   ]
  },
  {
   "cell_type": "markdown",
   "id": "5294a7b0",
   "metadata": {},
   "source": [
    "## Feature Engineering\n",
    "\n",
    "I will create extra variables for the models here"
   ]
  },
  {
   "cell_type": "code",
   "execution_count": 16,
   "id": "73c92fe6",
   "metadata": {},
   "outputs": [],
   "source": [
    "# change some industry category codes\n",
    "data['ind2_cat']=data['ind2'].copy()\n",
    "data['ind2_cat']=np.where(data['ind2']>56,60,data['ind2_cat'])\n",
    "data['ind2_cat']=np.where(data['ind2']<26,20,data['ind2_cat'])\n",
    "data['ind2_cat']=np.where((data['ind2']<55)&(data['ind2']>35),40,data['ind2_cat'])\n",
    "data['ind2_cat']=np.where(data['ind2']==31,30,data['ind2_cat'])\n",
    "data['ind2_cat']=np.where(data['ind2'].isna(),99,data['ind2_cat'])"
   ]
  },
  {
   "cell_type": "code",
   "execution_count": 17,
   "id": "fea7a1ad",
   "metadata": {},
   "outputs": [],
   "source": [
    "# Firm characteristics\n",
    "data['age2'] = data['age']**2\n",
    "data['foreign_management'] = np.where(data['foreign'] >= 0.5, 1, np.where(data['foreign'].isna(), np.nan, 0))\n",
    "data['gender_m'] = data['gender'].astype(\"category\")\n",
    "data['m_region_loc'] = data['region_m'].astype(\"category\")"
   ]
  },
  {
   "cell_type": "code",
   "execution_count": 18,
   "id": "f3d21eae",
   "metadata": {},
   "outputs": [
    {
     "data": {
      "text/plain": [
       "flag_asset_problem\n",
       "0.0    21700\n",
       "1.0       13\n",
       "Name: comp_id, dtype: int64"
      ]
     },
     "execution_count": 18,
     "metadata": {},
     "output_type": "execute_result"
    }
   ],
   "source": [
    "###########################################################\n",
    "# look at more financial variables, create ratios\n",
    "###########################################################\n",
    "\n",
    "# assets can't be negative. Change them to 0 and add a flag.\n",
    "data['flag_asset_problem'] = np.where(((data['intang_assets'] < 0) | (data['curr_assets'] < 0) | (data['fixed_assets'] < 0)), 1, 0)\n",
    "data['flag_asset_problem'] = np.where(((data['intang_assets'].isna()) | (data['curr_assets'].isna()) | (data['fixed_assets'].isna())), np.nan, data['flag_asset_problem'])\n",
    "data.groupby('flag_asset_problem').count()['comp_id']"
   ]
  },
  {
   "cell_type": "code",
   "execution_count": 19,
   "id": "df4e746f",
   "metadata": {},
   "outputs": [],
   "source": [
    "data['intang_assets'] = np.where(data['intang_assets'] < 0, 0, data['intang_assets'])\n",
    "data['curr_assets'] = np.where(data['curr_assets'] < 0, 0, data['curr_assets'])\n",
    "data['fixed_assets'] = np.where(data['fixed_assets'] < 0, 0, data['fixed_assets'])"
   ]
  },
  {
   "cell_type": "code",
   "execution_count": 20,
   "id": "9c8571fe",
   "metadata": {},
   "outputs": [
    {
     "data": {
      "text/plain": [
       "count    2.171300e+04\n",
       "mean     2.525889e+05\n",
       "std      1.383198e+06\n",
       "min      0.000000e+00\n",
       "25%      6.466667e+03\n",
       "50%      2.382963e+04\n",
       "75%      9.346296e+04\n",
       "max      1.046833e+08\n",
       "Name: total_assets_bs, dtype: float64"
      ]
     },
     "execution_count": 20,
     "metadata": {},
     "output_type": "execute_result"
    }
   ],
   "source": [
    "# generate total assets\n",
    "data['total_assets_bs'] = data['intang_assets'] + data['curr_assets'] + data['fixed_assets']\n",
    "data['total_assets_bs'].describe()"
   ]
  },
  {
   "cell_type": "code",
   "execution_count": 21,
   "id": "673d63f3",
   "metadata": {},
   "outputs": [],
   "source": [
    "pl_names = ['extra_exp','extra_inc',  'extra_profit_loss', 'inc_bef_tax' ,'inventories',\n",
    "              'material_exp', 'profit_loss_year', 'personnel_exp']\n",
    "bs_names = ['intang_assets', 'curr_liab', 'fixed_assets', 'liq_assets', 'curr_assets',\n",
    "              'share_eq', 'subscribed_cap', 'tang_assets' ]"
   ]
  },
  {
   "cell_type": "code",
   "execution_count": 22,
   "id": "ae2b205b",
   "metadata": {},
   "outputs": [
    {
     "data": {
      "text/plain": [
       "14        2.001963e+05\n",
       "23        2.273444e+05\n",
       "35        2.222222e+01\n",
       "56        1.095278e+06\n",
       "68        3.181333e+05\n",
       "              ...     \n",
       "287764    2.235926e+04\n",
       "287779    1.446667e+05\n",
       "287790    6.320371e+04\n",
       "287798    5.062904e+06\n",
       "287814    4.074074e+04\n",
       "Name: total_assets_bs, Length: 21723, dtype: float64"
      ]
     },
     "execution_count": 22,
     "metadata": {},
     "output_type": "execute_result"
    }
   ],
   "source": [
    "# divide all pl_names elements by sales and create new column for it\n",
    "data['total_assets_bs']"
   ]
  },
  {
   "cell_type": "code",
   "execution_count": 23,
   "id": "33300635",
   "metadata": {},
   "outputs": [],
   "source": [
    "# divide all pl_names elements by sales and create new column for it\n",
    "data[[col +'_pl' for col in pl_names]] = data[pl_names].div(data['sales'], axis='index')"
   ]
  },
  {
   "cell_type": "code",
   "execution_count": 24,
   "id": "7eaf9d65",
   "metadata": {},
   "outputs": [
    {
     "data": {
      "text/plain": [
       "10"
      ]
     },
     "execution_count": 24,
     "metadata": {},
     "output_type": "execute_result"
    }
   ],
   "source": [
    "data['total_assets_bs'].isna().sum()"
   ]
  },
  {
   "cell_type": "markdown",
   "id": "e75711c1",
   "metadata": {},
   "source": [
    "Since the number of missings is not that high, I impute them with the mean"
   ]
  },
  {
   "cell_type": "code",
   "execution_count": 25,
   "id": "b7d775ef",
   "metadata": {},
   "outputs": [],
   "source": [
    "# Mean Imputation\n",
    "\n",
    "mean_imputer = SimpleImputer(strategy='mean')\n",
    "data['total_assets_bs'] = mean_imputer.fit_transform(data['total_assets_bs'].values.reshape(-1,1))"
   ]
  },
  {
   "cell_type": "code",
   "execution_count": 26,
   "id": "a2ed087a",
   "metadata": {},
   "outputs": [
    {
     "data": {
      "text/plain": [
       "0"
      ]
     },
     "execution_count": 26,
     "metadata": {},
     "output_type": "execute_result"
    }
   ],
   "source": [
    "data['total_assets_bs'].isna().sum()"
   ]
  },
  {
   "cell_type": "code",
   "execution_count": 27,
   "id": "d1a118e7",
   "metadata": {
    "scrolled": false
   },
   "outputs": [],
   "source": [
    "# divide all bs_names elements by total_assets_bs and create new column for it\n",
    "data[[col +'_bs' for col in bs_names]] =  data[bs_names].div(data['total_assets_bs'], axis='index').replace((np.inf, -np.inf, np.nan), (0, 0, 0))\n"
   ]
  },
  {
   "cell_type": "code",
   "execution_count": 28,
   "id": "ab21ed88",
   "metadata": {},
   "outputs": [],
   "source": [
    "########################################################################\n",
    "# creating flags, and winsorizing tails\n",
    "########################################################################\n",
    "\n",
    "# Variables that represent accounting items that cannot be negative (e.g. materials)\n",
    "zero = ['extra_exp_pl', 'extra_inc_pl', 'inventories_pl', 'material_exp_pl', 'personnel_exp_pl',\n",
    "           'curr_liab_bs', 'fixed_assets_bs', 'liq_assets_bs', 'curr_assets_bs', 'subscribed_cap_bs',\n",
    "           'intang_assets_bs']\n",
    "\n",
    "data[[col +'_flag_high' for col in zero]] = np.where(data[zero].isna(), np.nan, (data[zero] > 1).astype(int))\n",
    "data[[col for col in zero]] = np.where(data[zero].isna(), np.nan, np.where(data[zero] > 1, 1, data[zero]))\n",
    "data[[col +'_flag_error' for col in zero]] = np.where(data[zero].isna(), np.nan, (data[zero] < 0).astype(int))\n",
    "data[[col for col in zero]] = np.where(data[zero].isna(), np.nan, np.where(data[zero] < 0, 0, data[zero]))"
   ]
  },
  {
   "cell_type": "code",
   "execution_count": 29,
   "id": "5685ab90",
   "metadata": {},
   "outputs": [],
   "source": [
    "# for vars that could be any, but are mostly between -1 and 1\n",
    "anyof = ['extra_profit_loss_pl', 'inc_bef_tax_pl', 'profit_loss_year_pl', 'share_eq_bs']\n",
    "\n",
    "data[[col +'_flag_low' for col in anyof]] = np.where(data[anyof].isna(), np.nan, (data[anyof] < -1).astype(int))\n",
    "data[[col for col in anyof]] = np.where(data[anyof].isna(), np.nan, np.where((data[anyof] < -1), -1, data[anyof]))\n",
    "data[[col +'_flag_high' for col in anyof]] = np.where(data[anyof].isna(), np.nan, (data[anyof] > 1).astype(int))\n",
    "data[[col for col in anyof]] = np.where(data[anyof].isna(), np.nan, np.where((data[anyof] > 1), 1, data[anyof]))\n",
    "data[[col +'_flag_zero' for col in anyof]] = np.where(data[anyof].isna(), np.nan, (data[anyof] == 0).astype(int))\n",
    "data[[col +'_quad' for col in anyof]] = np.where(data[anyof].isna(), np.nan, data[anyof]**2)"
   ]
  },
  {
   "cell_type": "code",
   "execution_count": 30,
   "id": "33fd2846",
   "metadata": {},
   "outputs": [],
   "source": [
    "# dropping flags with no variation\n",
    "flag_columns = [col for col in data.columns if 'flag' in col]\n",
    "data = data.drop(data[flag_columns].std()[(data[flag_columns].std() == 0)].index, axis=1)"
   ]
  },
  {
   "cell_type": "code",
   "execution_count": 31,
   "id": "10744da3",
   "metadata": {},
   "outputs": [],
   "source": [
    "########################################################################\n",
    "# additional\n",
    "# including some imputation\n",
    "########################################################################\n",
    "\n",
    "# CEO age\n",
    "data['ceo_age'] = data['year'] - data['birth_year']\n",
    "data = data.assign(\n",
    "    flag_low_ceo_age = (data['ceo_age'] < 25).astype(int),\n",
    "    flag_high_ceo_age = (data['ceo_age'] > 75).astype(int),\n",
    "    flag_miss_ceo_age = (data['ceo_age'].isna()).astype(int))\n",
    "\n",
    "\n",
    "data['ceo_age'] = np.where(data['ceo_age'] < 25, 25, data['ceo_age'])\n",
    "data['ceo_age'] = np.where(data['ceo_age'] > 75, 75, data['ceo_age'])\n",
    "data['ceo_age'] = np.where(data['ceo_age'].isna(), data['ceo_age'].mean(), data['ceo_age'])\n",
    "data['ceo_young'] = (data['ceo_age'] < 40).astype(int)"
   ]
  },
  {
   "cell_type": "code",
   "execution_count": 32,
   "id": "d087a289",
   "metadata": {},
   "outputs": [],
   "source": [
    "# number emp, very noisy measure\n",
    "data['labor_avg_mod'] = np.where(data['labor_avg'].isna(), data['labor_avg'].mean(), data['labor_avg'])\n",
    "data['flag_miss_labor_avg'] = (data['labor_avg'].isna()).astype(int)"
   ]
  },
  {
   "cell_type": "code",
   "execution_count": 33,
   "id": "fe5bf032",
   "metadata": {},
   "outputs": [
    {
     "data": {
      "text/plain": [
       "count    18569.000000\n",
       "mean         0.621691\n",
       "std          1.586800\n",
       "min          0.083333\n",
       "25%          0.097222\n",
       "50%          0.229167\n",
       "75%          0.513889\n",
       "max         42.118057\n",
       "Name: labor_avg, dtype: float64"
      ]
     },
     "execution_count": 33,
     "metadata": {},
     "output_type": "execute_result"
    }
   ],
   "source": [
    "data['labor_avg'].describe()"
   ]
  },
  {
   "cell_type": "code",
   "execution_count": 34,
   "id": "c6afa174",
   "metadata": {},
   "outputs": [
    {
     "data": {
      "text/plain": [
       "count    21723.000000\n",
       "mean         0.621691\n",
       "std          1.467084\n",
       "min          0.083333\n",
       "25%          0.125000\n",
       "50%          0.284722\n",
       "75%          0.621691\n",
       "max         42.118057\n",
       "Name: labor_avg_mod, dtype: float64"
      ]
     },
     "execution_count": 34,
     "metadata": {},
     "output_type": "execute_result"
    }
   ],
   "source": [
    "data['labor_avg_mod'].describe()"
   ]
  },
  {
   "cell_type": "code",
   "execution_count": 35,
   "id": "8f29a7d1",
   "metadata": {},
   "outputs": [],
   "source": [
    "data = data.drop(['labor_avg'], axis=1)"
   ]
  },
  {
   "cell_type": "code",
   "execution_count": 36,
   "id": "a516d30c",
   "metadata": {},
   "outputs": [],
   "source": [
    "# create category type variables\n",
    "data['urban_m'] = data['urban_m'].astype(\"category\")\n",
    "data['ind2_cat'] = data['ind2_cat'].astype(\"category\")\n",
    "data['fast_growth_f'] = data['fast_growth'].astype(\"category\")\n",
    "data['fast_growth_f'] = data['fast_growth_f'].cat.rename_categories(['no_fast_growth', 'fast_growth'])"
   ]
  },
  {
   "cell_type": "code",
   "execution_count": 37,
   "id": "ed9f5ad6",
   "metadata": {},
   "outputs": [],
   "source": [
    "########################################################################\n",
    " # sales squared\n",
    "########################################################################\n",
    "data['ln_sales_sq'] = data['ln_sales']**2"
   ]
  },
  {
   "cell_type": "markdown",
   "id": "481fa476",
   "metadata": {},
   "source": [
    "## Create financial ratios variables\n",
    "\n",
    "* ROE = inc_bef_tax / share_eq_bs\n",
    "* ROA = inc_bef_tax / total_assets_bs\n",
    "* ROTA = (inc_bef_tax + amort) / total_assets_bs\n",
    "* Current Ratio = curr_assets_bs / curr_liab_bs"
   ]
  },
  {
   "cell_type": "code",
   "execution_count": 38,
   "id": "3648bf9c",
   "metadata": {},
   "outputs": [],
   "source": [
    "# ROE\n",
    "data = data.assign(ROE=lambda x: x[\"inc_bef_tax\"] / x[\"share_eq\"])\n",
    "\n",
    "# ROA\n",
    "data = data.assign(ROA=lambda x: x[\"inc_bef_tax\"] / x[\"total_assets_bs\"])\n",
    "\n",
    "# ROTA\n",
    "data = data.assign(ROTA=lambda x: (x[\"inc_bef_tax\"]+x[\"amort\"]) / x[\"total_assets_bs\"])\n",
    "\n",
    "# Current Ratio (CR)\n",
    "data = data.assign(CR=lambda x: x[\"curr_assets_bs\"] / x[\"curr_liab_bs\"])"
   ]
  },
  {
   "cell_type": "code",
   "execution_count": 39,
   "id": "b17113a7",
   "metadata": {},
   "outputs": [
    {
     "data": {
      "text/plain": [
       "62"
      ]
     },
     "execution_count": 39,
     "metadata": {},
     "output_type": "execute_result"
    }
   ],
   "source": [
    "data[(data['ROA'] == np.inf) | (data['ROA'] == -np.inf)]['ROA'].count()"
   ]
  },
  {
   "cell_type": "code",
   "execution_count": 40,
   "id": "7cb80300",
   "metadata": {},
   "outputs": [
    {
     "data": {
      "text/plain": [
       "7"
      ]
     },
     "execution_count": 40,
     "metadata": {},
     "output_type": "execute_result"
    }
   ],
   "source": [
    "data[(data['ROE'] == np.inf) | (data['ROE'] == -np.inf)]['ROE'].count()"
   ]
  },
  {
   "cell_type": "code",
   "execution_count": 41,
   "id": "2a251b43",
   "metadata": {},
   "outputs": [
    {
     "data": {
      "text/plain": [
       "388"
      ]
     },
     "execution_count": 41,
     "metadata": {},
     "output_type": "execute_result"
    }
   ],
   "source": [
    "data[(data['CR'] == np.inf) | (data['CR'] == -np.inf)]['CR'].count()"
   ]
  },
  {
   "cell_type": "code",
   "execution_count": 42,
   "id": "551c36a8",
   "metadata": {},
   "outputs": [
    {
     "data": {
      "text/plain": [
       "77"
      ]
     },
     "execution_count": 42,
     "metadata": {},
     "output_type": "execute_result"
    }
   ],
   "source": [
    "data.CR.isnull().values.ravel().sum()"
   ]
  },
  {
   "cell_type": "markdown",
   "id": "287a0dd7",
   "metadata": {},
   "source": [
    "There are financial ratios variables with inf in the data.\n",
    "That is because *share_eq* in ROE or *total_assets_bs* in ROA/ROTA or *curr_liab_bs* in CR are equal to zero.\n",
    "\n",
    "I will replace those values with median values."
   ]
  },
  {
   "cell_type": "code",
   "execution_count": 43,
   "id": "fb67fd78",
   "metadata": {},
   "outputs": [],
   "source": [
    "data[\"ROE\"] = np.where( (data[\"ROE\"] == np.inf) | (data[\"ROE\"] == -np.inf) | (data.ROE.isnull() == True),\n",
    "    data[\"ROE\"].median(),\n",
    "    data[\"ROE\"]\n",
    ")\n",
    "\n",
    "data[\"ROA\"] = np.where( (data[\"ROA\"] == np.inf) | (data[\"ROA\"] == -np.inf) | (data.ROA.isnull() == True),\n",
    "    data[\"ROA\"].median(),\n",
    "    data[\"ROA\"]\n",
    ")\n",
    "\n",
    "data[\"ROTA\"] = np.where( (data[\"ROTA\"] == np.inf) | (data[\"ROTA\"] == -np.inf) | (data.ROTA.isnull() == True),\n",
    "    data[\"ROTA\"].median(),\n",
    "    data[\"ROTA\"]\n",
    ")\n",
    "\n",
    "data[\"CR\"] = np.where( (data[\"CR\"] == np.inf) | (data[\"CR\"] == -np.inf) | (data.CR.isnull() == True),\n",
    "    data[\"CR\"].median(),\n",
    "    data[\"CR\"]\n",
    ")"
   ]
  },
  {
   "cell_type": "code",
   "execution_count": 44,
   "id": "41530de5",
   "metadata": {},
   "outputs": [
    {
     "data": {
      "image/png": "[encoded data removed]",
      "text/plain": [
       "<Figure size 640x480 with 1 Axes>"
      ]
     },
     "metadata": {},
     "output_type": "display_data"
    },
    {
     "data": {
      "text/plain": [
       "<ggplot: (8782929688185)>"
      ]
     },
     "execution_count": 44,
     "metadata": {},
     "output_type": "execute_result"
    }
   ],
   "source": [
    "ggplot(data, aes(x = \"ln_sales\", y = \"fast_growth\")) + geom_point(\n",
    "    color = 'blue') + geom_smooth(\n",
    "    method='lm', formula='y ~ x + I(x**2)',  color=color[3], se = False) + geom_smooth(\n",
    "    method = \"loess\", color=color[4], se = False, size=1.5, span=0.9) + labs(\n",
    "    x=\"ln_sales\", y=\"fast_growth\"\n",
    ") + theme_bw()"
   ]
  },
  {
   "cell_type": "code",
   "execution_count": 45,
   "id": "b59ed4aa",
   "metadata": {},
   "outputs": [
    {
     "name": "stdout",
     "output_type": "stream",
     "text": [
      "                            OLS Regression Results                            \n",
      "==============================================================================\n",
      "Dep. Variable:            fast_growth   R-squared:                       0.014\n",
      "Model:                            OLS   Adj. R-squared:                  0.014\n",
      "Method:                 Least Squares   F-statistic:                     153.2\n",
      "Date:                Sat, 11 Mar 2023   Prob (F-statistic):           8.76e-67\n",
      "Time:                        17:47:49   Log-Likelihood:                -9536.0\n",
      "No. Observations:               21723   AIC:                         1.908e+04\n",
      "Df Residuals:                   21720   BIC:                         1.910e+04\n",
      "Df Model:                           2                                         \n",
      "Covariance Type:            nonrobust                                         \n",
      "===============================================================================\n",
      "                  coef    std err          t      P>|t|      [0.025      0.975]\n",
      "-------------------------------------------------------------------------------\n",
      "Intercept       0.9399      0.075     12.614      0.000       0.794       1.086\n",
      "ln_sales       -0.1195      0.014     -8.736      0.000      -0.146      -0.093\n",
      "ln_sales_sq     0.0044      0.001      7.034      0.000       0.003       0.006\n",
      "==============================================================================\n",
      "Omnibus:                     5702.148   Durbin-Watson:                   1.993\n",
      "Prob(Omnibus):                  0.000   Jarque-Bera (JB):            11337.595\n",
      "Skew:                           1.699   Prob(JB):                         0.00\n",
      "Kurtosis:                       3.989   Cond. No.                     3.69e+03\n",
      "==============================================================================\n",
      "\n",
      "Notes:\n",
      "[1] Standard Errors assume that the covariance matrix of the errors is correctly specified.\n",
      "[2] The condition number is large, 3.69e+03. This might indicate that there are\n",
      "strong multicollinearity or other numerical problems.\n"
     ]
    }
   ],
   "source": [
    "# Linear regressions\n",
    "ols_s = smf.ols('fast_growth ~ ln_sales + ln_sales_sq', data = data).fit()\n",
    "print(ols_s.summary())"
   ]
  },
  {
   "cell_type": "code",
   "execution_count": 46,
   "id": "8da7abe7",
   "metadata": {},
   "outputs": [
    {
     "data": {
      "image/png": "[encoded data removed]",
      "text/plain": [
       "<Figure size 640x480 with 1 Axes>"
      ]
     },
     "metadata": {},
     "output_type": "display_data"
    },
    {
     "data": {
      "text/plain": [
       "<ggplot: (8782889852450)>"
      ]
     },
     "execution_count": 46,
     "metadata": {},
     "output_type": "execute_result"
    }
   ],
   "source": [
    "ggplot(data, aes(x = 'diff_ln_sales', y = 'fast_growth')) + geom_point(\n",
    "    color=color[1]) + geom_smooth(\n",
    "    method = 'loess', color=color[0], se = False, size=1.5, span=0.9) + labs(\n",
    "    x='Growth rate (Diff of ln sales)', y='fast_growth') + scale_x_continuous(\n",
    "    limits=(-6, 16), breaks = seq(-5, 16, by = 5)\n",
    ") + theme_bw() "
   ]
  },
  {
   "cell_type": "markdown",
   "id": "837524d3",
   "metadata": {},
   "source": [
    "The shape is weird now. Let us look on the values from 0 to 8. We expect *fast_growth* to increase as growth rate is increasing"
   ]
  },
  {
   "cell_type": "markdown",
   "id": "08413610",
   "metadata": {},
   "source": [
    "I will winsorize *diff_ln_sales*: \n",
    "1. Replace values below -0.5 with -0.5\n",
    "2. Replace values above 14 with 14"
   ]
  },
  {
   "cell_type": "code",
   "execution_count": 47,
   "id": "fffffc90",
   "metadata": {},
   "outputs": [],
   "source": [
    "# generate winsorized variables \n",
    "\n",
    "data['flag_low_diff_ln_sales'] = np.where(data['diff_ln_sales'] < -0.5, 1, 0)\n",
    "data['flag_high_diff_ln_sales'] = np.where(data['diff_ln_sales'] > 14, 1, 0)\n",
    "data['diff_ln_sales_mod'] = np.where(data['diff_ln_sales'] < -0.5, -0.5, \n",
    "                                        np.where(data['diff_ln_sales'] > 14, 14, data['diff_ln_sales']))\n",
    "data['diff_ln_sales_mod_sq'] = data['diff_ln_sales_mod']**2"
   ]
  },
  {
   "cell_type": "markdown",
   "id": "e889507c",
   "metadata": {},
   "source": [
    "Below I depict how winsorized variable looks like:"
   ]
  },
  {
   "cell_type": "code",
   "execution_count": 48,
   "id": "f5ee5e59",
   "metadata": {},
   "outputs": [
    {
     "data": {
      "image/png": "[encoded data removed]",
      "text/plain": [
       "<Figure size 640x480 with 1 Axes>"
      ]
     },
     "metadata": {},
     "output_type": "display_data"
    },
    {
     "data": {
      "text/plain": [
       "<ggplot: (8782908583551)>"
      ]
     },
     "execution_count": 48,
     "metadata": {},
     "output_type": "execute_result"
    }
   ],
   "source": [
    "ggplot(data, aes(x = 'diff_ln_sales', y = 'diff_ln_sales_mod')) + geom_point(\n",
    "    size = 0.1, color = color[1]) + labs(\n",
    "    x='Growth rate (Diff of ln sales) (original)', y='Growth rate (Diff of ln sales) (winsorized)'\n",
    ") + scale_x_continuous(limits=(-5, 15), breaks = seq(-5, 17, by = 1)\n",
    ") + scale_y_continuous(limits=(-1, 15), breaks = seq(-1, 17, by = 1)\n",
    ") + theme_bw()  "
   ]
  },
  {
   "cell_type": "code",
   "execution_count": 49,
   "id": "753227a1",
   "metadata": {},
   "outputs": [],
   "source": [
    "# no more imputation, drop obs if key vars missing\n",
    "data = data.dropna(subset = ['liq_assets_bs', 'foreign', 'ind'])"
   ]
  },
  {
   "cell_type": "code",
   "execution_count": 50,
   "id": "fa2648be",
   "metadata": {},
   "outputs": [
    {
     "data": {
      "text/plain": [
       "count    19045.000000\n",
       "mean         8.701339\n",
       "std          6.924812\n",
       "min          0.000000\n",
       "25%          2.000000\n",
       "50%          7.000000\n",
       "75%         15.000000\n",
       "max         34.000000\n",
       "Name: age, dtype: float64"
      ]
     },
     "execution_count": 50,
     "metadata": {},
     "output_type": "execute_result"
    }
   ],
   "source": [
    "# drop missing\n",
    "data = data.dropna(subset = ['age', 'foreign', 'material_exp_pl', 'm_region_loc'])\n",
    "data['age'].describe()"
   ]
  },
  {
   "cell_type": "code",
   "execution_count": 51,
   "id": "d9728a44",
   "metadata": {},
   "outputs": [],
   "source": [
    "# drop unused factor levels\n",
    "for col in data.select_dtypes(include=['category']).columns:\n",
    "    data[col] = data[col].cat.remove_unused_categories()"
   ]
  },
  {
   "cell_type": "code",
   "execution_count": 52,
   "id": "eda5fa1a",
   "metadata": {},
   "outputs": [],
   "source": [
    "data = data.reset_index()"
   ]
  },
  {
   "cell_type": "code",
   "execution_count": 53,
   "id": "92183f5d",
   "metadata": {},
   "outputs": [],
   "source": [
    "# drop unnecessary columns\n",
    "data = data.drop(['index','d1_ln_sales', 'd2_ln_sales', 'exit_date' , 'birth_year', 'exit_year'], axis=1)"
   ]
  },
  {
   "cell_type": "code",
   "execution_count": 54,
   "id": "d66bc387",
   "metadata": {},
   "outputs": [],
   "source": [
    "data.to_csv(data_out+'bisnode_firms_clean.csv',index=False)"
   ]
  },
  {
   "cell_type": "markdown",
   "id": "97019510",
   "metadata": {},
   "source": [
    "The final data has 19,036 observations"
   ]
  },
  {
   "cell_type": "code",
   "execution_count": 55,
   "id": "77b70177",
   "metadata": {},
   "outputs": [
    {
     "data": {
      "text/html": [
       "<div>\n",
       "<style scoped>\n",
       "    .dataframe tbody tr th:only-of-type {\n",
       "        vertical-align: middle;\n",
       "    }\n",
       "\n",
       "    .dataframe tbody tr th {\n",
       "        vertical-align: top;\n",
       "    }\n",
       "\n",
       "    .dataframe thead th {\n",
       "        text-align: right;\n",
       "    }\n",
       "</style>\n",
       "<table border=\"1\" class=\"dataframe\">\n",
       "  <thead>\n",
       "    <tr style=\"text-align: right;\">\n",
       "      <th></th>\n",
       "      <th>comp_id</th>\n",
       "      <th>amort</th>\n",
       "      <th>curr_assets</th>\n",
       "      <th>curr_liab</th>\n",
       "      <th>extra_exp</th>\n",
       "      <th>extra_inc</th>\n",
       "      <th>extra_profit_loss</th>\n",
       "      <th>fixed_assets</th>\n",
       "      <th>inc_bef_tax</th>\n",
       "      <th>intang_assets</th>\n",
       "      <th>...</th>\n",
       "      <th>flag_miss_labor_avg</th>\n",
       "      <th>ln_sales_sq</th>\n",
       "      <th>ROE</th>\n",
       "      <th>ROA</th>\n",
       "      <th>ROTA</th>\n",
       "      <th>CR</th>\n",
       "      <th>flag_low_diff_ln_sales</th>\n",
       "      <th>flag_high_diff_ln_sales</th>\n",
       "      <th>diff_ln_sales_mod</th>\n",
       "      <th>diff_ln_sales_mod_sq</th>\n",
       "    </tr>\n",
       "  </thead>\n",
       "  <tbody>\n",
       "    <tr>\n",
       "      <th>count</th>\n",
       "      <td>1.904500e+04</td>\n",
       "      <td>1.904500e+04</td>\n",
       "      <td>1.903600e+04</td>\n",
       "      <td>1.903600e+04</td>\n",
       "      <td>19045.000000</td>\n",
       "      <td>1.904500e+04</td>\n",
       "      <td>1.904500e+04</td>\n",
       "      <td>1.903600e+04</td>\n",
       "      <td>1.904500e+04</td>\n",
       "      <td>1.903600e+04</td>\n",
       "      <td>...</td>\n",
       "      <td>19045.000000</td>\n",
       "      <td>19045.000000</td>\n",
       "      <td>19045.000000</td>\n",
       "      <td>19045.000000</td>\n",
       "      <td>19045.000000</td>\n",
       "      <td>19045.000000</td>\n",
       "      <td>19045.000000</td>\n",
       "      <td>19045.000000</td>\n",
       "      <td>19045.000000</td>\n",
       "      <td>19045.000000</td>\n",
       "    </tr>\n",
       "    <tr>\n",
       "      <th>mean</th>\n",
       "      <td>1.529528e+11</td>\n",
       "      <td>9.270972e+03</td>\n",
       "      <td>9.914862e+04</td>\n",
       "      <td>8.567028e+04</td>\n",
       "      <td>417.819625</td>\n",
       "      <td>1.641118e+03</td>\n",
       "      <td>1.219623e+03</td>\n",
       "      <td>1.451590e+05</td>\n",
       "      <td>5.863911e+03</td>\n",
       "      <td>3.365268e+03</td>\n",
       "      <td>...</td>\n",
       "      <td>0.135994</td>\n",
       "      <td>118.628945</td>\n",
       "      <td>0.690792</td>\n",
       "      <td>-7.707517</td>\n",
       "      <td>-7.545223</td>\n",
       "      <td>10.174791</td>\n",
       "      <td>0.116776</td>\n",
       "      <td>0.000158</td>\n",
       "      <td>0.186913</td>\n",
       "      <td>1.600895</td>\n",
       "    </tr>\n",
       "    <tr>\n",
       "      <th>std</th>\n",
       "      <td>1.377226e+11</td>\n",
       "      <td>4.973874e+04</td>\n",
       "      <td>4.377075e+05</td>\n",
       "      <td>4.202974e+05</td>\n",
       "      <td>7140.248047</td>\n",
       "      <td>3.282766e+04</td>\n",
       "      <td>3.211808e+04</td>\n",
       "      <td>1.105861e+06</td>\n",
       "      <td>1.305331e+05</td>\n",
       "      <td>5.193336e+04</td>\n",
       "      <td>...</td>\n",
       "      <td>0.342791</td>\n",
       "      <td>37.738092</td>\n",
       "      <td>20.577446</td>\n",
       "      <td>323.470951</td>\n",
       "      <td>323.217576</td>\n",
       "      <td>284.752163</td>\n",
       "      <td>0.321162</td>\n",
       "      <td>0.012550</td>\n",
       "      <td>1.251416</td>\n",
       "      <td>11.877037</td>\n",
       "    </tr>\n",
       "    <tr>\n",
       "      <th>min</th>\n",
       "      <td>1.001541e+06</td>\n",
       "      <td>-1.489630e+04</td>\n",
       "      <td>0.000000e+00</td>\n",
       "      <td>-8.759259e+03</td>\n",
       "      <td>-1418.518555</td>\n",
       "      <td>-1.740741e+02</td>\n",
       "      <td>-2.484481e+05</td>\n",
       "      <td>0.000000e+00</td>\n",
       "      <td>-1.091879e+07</td>\n",
       "      <td>0.000000e+00</td>\n",
       "      <td>...</td>\n",
       "      <td>0.000000</td>\n",
       "      <td>47.717083</td>\n",
       "      <td>-591.624985</td>\n",
       "      <td>-39847.001446</td>\n",
       "      <td>-39847.001446</td>\n",
       "      <td>0.000000</td>\n",
       "      <td>0.000000</td>\n",
       "      <td>0.000000</td>\n",
       "      <td>-0.500000</td>\n",
       "      <td>0.000000</td>\n",
       "    </tr>\n",
       "    <tr>\n",
       "      <th>25%</th>\n",
       "      <td>2.869650e+10</td>\n",
       "      <td>1.185185e+02</td>\n",
       "      <td>3.314815e+03</td>\n",
       "      <td>3.822222e+03</td>\n",
       "      <td>0.000000</td>\n",
       "      <td>0.000000e+00</td>\n",
       "      <td>0.000000e+00</td>\n",
       "      <td>1.074074e+02</td>\n",
       "      <td>-6.518519e+03</td>\n",
       "      <td>0.000000e+00</td>\n",
       "      <td>...</td>\n",
       "      <td>0.000000</td>\n",
       "      <td>92.676344</td>\n",
       "      <td>0.008885</td>\n",
       "      <td>-0.435821</td>\n",
       "      <td>-0.365586</td>\n",
       "      <td>0.759082</td>\n",
       "      <td>0.000000</td>\n",
       "      <td>0.000000</td>\n",
       "      <td>-0.173476</td>\n",
       "      <td>0.000695</td>\n",
       "    </tr>\n",
       "    <tr>\n",
       "      <th>50%</th>\n",
       "      <td>1.143081e+11</td>\n",
       "      <td>8.814815e+02</td>\n",
       "      <td>1.146852e+04</td>\n",
       "      <td>1.485185e+04</td>\n",
       "      <td>0.000000</td>\n",
       "      <td>0.000000e+00</td>\n",
       "      <td>0.000000e+00</td>\n",
       "      <td>4.600000e+03</td>\n",
       "      <td>2.370370e+02</td>\n",
       "      <td>0.000000e+00</td>\n",
       "      <td>...</td>\n",
       "      <td>0.000000</td>\n",
       "      <td>114.270839</td>\n",
       "      <td>0.181087</td>\n",
       "      <td>0.006538</td>\n",
       "      <td>0.032090</td>\n",
       "      <td>1.085480</td>\n",
       "      <td>0.000000</td>\n",
       "      <td>0.000000</td>\n",
       "      <td>0.000000</td>\n",
       "      <td>0.025891</td>\n",
       "    </tr>\n",
       "    <tr>\n",
       "      <th>75%</th>\n",
       "      <td>2.556270e+11</td>\n",
       "      <td>4.070370e+03</td>\n",
       "      <td>4.023333e+04</td>\n",
       "      <td>4.803796e+04</td>\n",
       "      <td>0.000000</td>\n",
       "      <td>0.000000e+00</td>\n",
       "      <td>0.000000e+00</td>\n",
       "      <td>3.940926e+04</td>\n",
       "      <td>4.062963e+03</td>\n",
       "      <td>0.000000e+00</td>\n",
       "      <td>...</td>\n",
       "      <td>0.000000</td>\n",
       "      <td>139.695685</td>\n",
       "      <td>0.616709</td>\n",
       "      <td>0.097421</td>\n",
       "      <td>0.157610</td>\n",
       "      <td>2.564171</td>\n",
       "      <td>0.000000</td>\n",
       "      <td>0.000000</td>\n",
       "      <td>0.148790</td>\n",
       "      <td>0.190318</td>\n",
       "    </tr>\n",
       "    <tr>\n",
       "      <th>max</th>\n",
       "      <td>4.641050e+11</td>\n",
       "      <td>3.570863e+06</td>\n",
       "      <td>1.874527e+07</td>\n",
       "      <td>3.660118e+07</td>\n",
       "      <td>666300.000000</td>\n",
       "      <td>3.266667e+06</td>\n",
       "      <td>3.253704e+06</td>\n",
       "      <td>1.036673e+08</td>\n",
       "      <td>4.378226e+06</td>\n",
       "      <td>3.409752e+06</td>\n",
       "      <td>...</td>\n",
       "      <td>1.000000</td>\n",
       "      <td>259.758533</td>\n",
       "      <td>1633.545408</td>\n",
       "      <td>178.250002</td>\n",
       "      <td>287.400005</td>\n",
       "      <td>33519.002903</td>\n",
       "      <td>1.000000</td>\n",
       "      <td>1.000000</td>\n",
       "      <td>14.000000</td>\n",
       "      <td>196.000000</td>\n",
       "    </tr>\n",
       "  </tbody>\n",
       "</table>\n",
       "<p>8 rows × 107 columns</p>\n",
       "</div>"
      ],
      "text/plain": [
       "            comp_id         amort   curr_assets     curr_liab      extra_exp  \\\n",
       "count  1.904500e+04  1.904500e+04  1.903600e+04  1.903600e+04   19045.000000   \n",
       "mean   1.529528e+11  9.270972e+03  9.914862e+04  8.567028e+04     417.819625   \n",
       "std    1.377226e+11  4.973874e+04  4.377075e+05  4.202974e+05    7140.248047   \n",
       "min    1.001541e+06 -1.489630e+04  0.000000e+00 -8.759259e+03   -1418.518555   \n",
       "25%    2.869650e+10  1.185185e+02  3.314815e+03  3.822222e+03       0.000000   \n",
       "50%    1.143081e+11  8.814815e+02  1.146852e+04  1.485185e+04       0.000000   \n",
       "75%    2.556270e+11  4.070370e+03  4.023333e+04  4.803796e+04       0.000000   \n",
       "max    4.641050e+11  3.570863e+06  1.874527e+07  3.660118e+07  666300.000000   \n",
       "\n",
       "          extra_inc  extra_profit_loss  fixed_assets   inc_bef_tax  \\\n",
       "count  1.904500e+04       1.904500e+04  1.903600e+04  1.904500e+04   \n",
       "mean   1.641118e+03       1.219623e+03  1.451590e+05  5.863911e+03   \n",
       "std    3.282766e+04       3.211808e+04  1.105861e+06  1.305331e+05   \n",
       "min   -1.740741e+02      -2.484481e+05  0.000000e+00 -1.091879e+07   \n",
       "25%    0.000000e+00       0.000000e+00  1.074074e+02 -6.518519e+03   \n",
       "50%    0.000000e+00       0.000000e+00  4.600000e+03  2.370370e+02   \n",
       "75%    0.000000e+00       0.000000e+00  3.940926e+04  4.062963e+03   \n",
       "max    3.266667e+06       3.253704e+06  1.036673e+08  4.378226e+06   \n",
       "\n",
       "       intang_assets  ...  flag_miss_labor_avg   ln_sales_sq           ROE  \\\n",
       "count   1.903600e+04  ...         19045.000000  19045.000000  19045.000000   \n",
       "mean    3.365268e+03  ...             0.135994    118.628945      0.690792   \n",
       "std     5.193336e+04  ...             0.342791     37.738092     20.577446   \n",
       "min     0.000000e+00  ...             0.000000     47.717083   -591.624985   \n",
       "25%     0.000000e+00  ...             0.000000     92.676344      0.008885   \n",
       "50%     0.000000e+00  ...             0.000000    114.270839      0.181087   \n",
       "75%     0.000000e+00  ...             0.000000    139.695685      0.616709   \n",
       "max     3.409752e+06  ...             1.000000    259.758533   1633.545408   \n",
       "\n",
       "                ROA          ROTA            CR  flag_low_diff_ln_sales  \\\n",
       "count  19045.000000  19045.000000  19045.000000            19045.000000   \n",
       "mean      -7.707517     -7.545223     10.174791                0.116776   \n",
       "std      323.470951    323.217576    284.752163                0.321162   \n",
       "min   -39847.001446 -39847.001446      0.000000                0.000000   \n",
       "25%       -0.435821     -0.365586      0.759082                0.000000   \n",
       "50%        0.006538      0.032090      1.085480                0.000000   \n",
       "75%        0.097421      0.157610      2.564171                0.000000   \n",
       "max      178.250002    287.400005  33519.002903                1.000000   \n",
       "\n",
       "       flag_high_diff_ln_sales  diff_ln_sales_mod  diff_ln_sales_mod_sq  \n",
       "count             19045.000000       19045.000000          19045.000000  \n",
       "mean                  0.000158           0.186913              1.600895  \n",
       "std                   0.012550           1.251416             11.877037  \n",
       "min                   0.000000          -0.500000              0.000000  \n",
       "25%                   0.000000          -0.173476              0.000695  \n",
       "50%                   0.000000           0.000000              0.025891  \n",
       "75%                   0.000000           0.148790              0.190318  \n",
       "max                   1.000000          14.000000            196.000000  \n",
       "\n",
       "[8 rows x 107 columns]"
      ]
     },
     "execution_count": 55,
     "metadata": {},
     "output_type": "execute_result"
    }
   ],
   "source": [
    "data.describe()"
   ]
  },
  {
   "cell_type": "markdown",
   "id": "3640060f",
   "metadata": {},
   "source": [
    "# Part I: Probability prediction"
   ]
  },
  {
   "cell_type": "markdown",
   "id": "2a778278",
   "metadata": {},
   "source": [
    "## Define helper functions"
   ]
  },
  {
   "cell_type": "code",
   "execution_count": 56,
   "id": "1252005a",
   "metadata": {},
   "outputs": [],
   "source": [
    "def regression_results(y_true, y_pred):\n",
    "\n",
    "    # Regression metrics\n",
    "    explained_variance=metrics.explained_variance_score(y_true, y_pred)\n",
    "    mean_absolute_error=metrics.mean_absolute_error(y_true, y_pred) \n",
    "    mse=metrics.mean_squared_error(y_true, y_pred) \n",
    "    median_absolute_error=metrics.median_absolute_error(y_true, y_pred)\n",
    "    r2=metrics.r2_score(y_true, y_pred)\n",
    "\n",
    "    print('explained_variance: ', round(explained_variance,4))    \n",
    "    print('r2: ', round(r2,4))\n",
    "    print('MAE: ', round(mean_absolute_error,4))\n",
    "    print('MSE: ', round(mse,4))\n",
    "    print('RMSE: ', round(np.sqrt(mse),4))\n",
    "    \n",
    "def coef_matrix(X, model):\n",
    "\n",
    "    coef_matrix = pd.concat([pd.DataFrame(X.columns),pd.DataFrame(np.transpose(model.coef_))], axis = 1)\n",
    "    coef_matrix.columns = ['variable', 'coefficient']\n",
    "    coef_matrix = coef_matrix.append({'variable': 'Intercept', 'coefficient': np.asscalar(model.intercept_)}, ignore_index=True)\n",
    "    return(coef_matrix)\n",
    "\n",
    "def cv_summary(lambdas, C_values, model):\n",
    "    d = {'lambdas': lambdas, 'C_values': C_values, 'mean_cv_score': model.scores_[1].mean(axis = 0)}\n",
    "    return(pd.DataFrame(data=d))\n",
    "\n",
    "def create_roc_plot(y_true, y_pred):\n",
    "    fpr, tpr, thresholds = roc_curve(y_true, y_pred)\n",
    "    all_coords = pd.DataFrame({\n",
    "        'fpr': fpr,\n",
    "        'tpr': tpr,\n",
    "        'thresholds': thresholds\n",
    "    })\n",
    "    \n",
    "    plot = ggplot(all_coords, aes(x = 'fpr', y = 'tpr')) \\\n",
    "        + geom_line(color=color[0], size = 0.7) \\\n",
    "        + geom_area(position = 'identity', fill = 'mediumaquamarine', alpha = 0.3) \\\n",
    "        + xlab(\"False Positive Rate (1-Specifity)\") \\\n",
    "        + ylab(\"True Positive Rate (Sensitivity)\") \\\n",
    "        + geom_abline(intercept = 0, slope = 1,  linetype = \"dotted\", color = \"black\") \\\n",
    "        + scale_y_continuous(limits = (0, 1), breaks = seq(0, 1, .1), expand = (0, 0.01)) \\\n",
    "        + scale_x_continuous(limits = (0, 1), breaks = seq(0, 1, .1), expand = (0.01, 0)) \\\n",
    "        + theme_bw()\n",
    "    return(plot)\n",
    "\n",
    "def sigmoid_array(x):\n",
    "    return(1 / (1 + np.exp(-x)))\n",
    "\n",
    "def generate_fold_prediction(model, X, fold, param_index):\n",
    "    fold_coef = model.coefs_paths_[1][fold,param_index,:]\n",
    "    return(sigmoid_array(np.dot(X, np.transpose(fold_coef)[:-1]) +  np.transpose(fold_coef)[-1]))\n",
    "\n",
    "def create_loss_plot(all_coords, optimal_threshold, curr_exp_loss):\n",
    "    all_coords_copy = all_coords.copy()\n",
    "    all_coords_copy['loss'] = (all_coords_copy.false_pos*FP + all_coords_copy.false_neg*FN)/all_coords_copy.n\n",
    "    \n",
    "    t = optimal_threshold\n",
    "    l = curr_exp_loss\n",
    "    \n",
    "    plot = ggplot(all_coords_copy, aes(x = 'thresholds', y = 'loss')) + \\\n",
    "        geom_line(color=color[0], size=0.7) + \\\n",
    "        scale_x_continuous(breaks = seq(0, 1.1, by = 0.1)) + \\\n",
    "        coord_cartesian(xlim=(0,1))+ \\\n",
    "        geom_vline(xintercept = t , color = color[0] ) + \\\n",
    "        annotate(geom = \"text\", x = t - 0.01, y= max(all_coords_copy.loss) - 0.4,\n",
    "                 label=\"best threshold: \" + str(round(t,2)),\n",
    "                 colour=color[1], angle=90, size = 7) +\\\n",
    "        annotate(geom = \"text\", x = t + 0.06, y= l,\\\n",
    "                 label= str(round(l, 2)), size = 7) +\\\n",
    "        theme_bw()\n",
    "    return(plot)\n",
    "\n",
    "\n",
    "def create_roc_plot_with_optimal(all_coords, optimal_threshold):\n",
    "    all_coords_copy = all_coords.copy()\n",
    "    all_coords_copy['sp'] = all_coords_copy.true_neg/all_coords_copy.neg\n",
    "    all_coords_copy['se'] = all_coords_copy.true_pos/all_coords_copy.pos\n",
    "    \n",
    "    best_coords = all_coords_copy[all_coords_copy.thresholds == optimal_threshold]\n",
    "    sp = best_coords.sp.values[0]\n",
    "    se = best_coords.se.values[0]\n",
    "\n",
    "    plot = ggplot(all_coords_copy, aes(x = 'sp', y = 'se')) +\\\n",
    "        geom_line(color=color[0], size=0.7) +\\\n",
    "        scale_y_continuous(breaks = seq(0, 1.1, by = 0.1)) +\\\n",
    "        scale_x_reverse(breaks = seq(0, 1.1, by = 0.1)) +\\\n",
    "        geom_point(data = pd.DataFrame({'sp': [sp], 'se': [se]})) +\\\n",
    "        annotate(geom = \"text\", x = sp, y = se + 0.03,\n",
    "                 label = str(round(sp, 2)) + ', ' + str(round(se, 2)), size = 7) +\\\n",
    "        theme_bw()\n",
    "    return(plot)"
   ]
  },
  {
   "cell_type": "markdown",
   "id": "bcf7de7c",
   "metadata": {},
   "source": [
    "## Define variable sets "
   ]
  },
  {
   "cell_type": "code",
   "execution_count": 57,
   "id": "799784f3",
   "metadata": {},
   "outputs": [],
   "source": [
    "rawvars = [\"curr_assets\", \"curr_liab\", \"extra_exp\", \"extra_inc\", \"extra_profit_loss\", \"fixed_assets\",\n",
    "              \"inc_bef_tax\", \"intang_assets\", \"inventories\", \"liq_assets\", \"material_exp\", \"personnel_exp\",\n",
    "              \"profit_loss_year\", \"sales\", \"share_eq\", \"subscribed_cap\", \"amort\"]\n",
    "qualityvars = [\"balsheet_flag\", \"balsheet_length\", \"balsheet_notfullyear\"]\n",
    "engvar = [\"total_assets_bs\", \"fixed_assets_bs\", \"liq_assets_bs\", \"curr_assets_bs\",\n",
    "            \"share_eq_bs\", \"subscribed_cap_bs\", \"intang_assets_bs\", \"extra_exp_pl\",\n",
    "            \"extra_inc_pl\", \"extra_profit_loss_pl\", \"inc_bef_tax_pl\", \"inventories_pl\",\n",
    "            \"material_exp_pl\", \"profit_loss_year_pl\", \"personnel_exp_pl\", \"ROE\", \"ROA\", \"ROTA\", \"CR\"]\n",
    "engvar2 = [\"extra_profit_loss_pl_quad\", \"inc_bef_tax_pl_quad\",\n",
    "             \"profit_loss_year_pl_quad\", \"share_eq_bs_quad\"]\n",
    "engvar3=[]\n",
    "for col in data.columns:\n",
    "    if col.endswith('flag_low') or col.endswith('flag_high') or col.endswith('flag_error') or col.endswith('flag_zero'):\n",
    "        engvar3.append(col)\n",
    "\n",
    "\n",
    "d1 =  [\"diff_ln_sales_mod\", \"diff_ln_sales_mod_sq\",\n",
    "         \"flag_low_diff_ln_sales\", \"flag_high_diff_ln_sales\"]\n",
    "hr = [\"female\", \"ceo_age\", \"flag_high_ceo_age\", \"flag_low_ceo_age\",\n",
    "        \"flag_miss_ceo_age\", \"ceo_count\", \"labor_avg_mod\",\n",
    "        \"flag_miss_labor_avg\", \"foreign_management\"]"
   ]
  },
  {
   "cell_type": "code",
   "execution_count": 58,
   "id": "759f1106",
   "metadata": {},
   "outputs": [],
   "source": [
    "#Creat dummy columns from category variables and drop first level\n",
    "ind2_catmat = patsy.dmatrix(\"0 + C(ind2_cat)\",data, return_type=\"dataframe\")\n",
    "ind2_catmat = ind2_catmat.drop(['C(ind2_cat)[26.0]'], axis=1)\n",
    "\n",
    "m_region_locmat = patsy.dmatrix(\"0 + C(m_region_loc)\",data, return_type=\"dataframe\")\n",
    "m_region_locmat = m_region_locmat.drop(['C(m_region_loc)[Central]'], axis=1)\n",
    "\n",
    "urban_mmat = patsy.dmatrix(\"0 + C(urban_m)\",data, return_type=\"dataframe\")\n",
    "urban_mmat = urban_mmat.drop(['C(urban_m)[1]'], axis=1)"
   ]
  },
  {
   "cell_type": "code",
   "execution_count": 59,
   "id": "327d55cd",
   "metadata": {},
   "outputs": [],
   "source": [
    "# Define X1\n",
    "basevars = data[[\"ln_sales\", \"ln_sales_sq\", \"diff_ln_sales_mod\", \"profit_loss_year_pl\"]]\n",
    "X1 = pd.concat([basevars, ind2_catmat], axis=1)\n",
    "\n",
    "# Define X2\n",
    "X2additional_vars = data[[\"fixed_assets_bs\", \"share_eq_bs\",\"curr_liab_bs\", \"curr_liab_bs_flag_high\", \\\n",
    "                          \"curr_liab_bs_flag_error\",  \"age\", \"foreign_management\"]]\n",
    "X2 = pd.concat([X1, X2additional_vars], axis=1)\n",
    "\n",
    "# Define X3\n",
    "firm = pd.concat([data[[\"age\", \"age2\", \"new\"]], ind2_catmat, m_region_locmat, urban_mmat], axis=1)\n",
    "X3 = pd.concat([data[[\"ln_sales\", \"ln_sales_sq\"] + engvar + d1], firm], axis=1)\n",
    "\n",
    "# Define X4\n",
    "X4 = pd.concat([data[[\"ln_sales\", \"ln_sales_sq\"] + engvar + d1 \\\n",
    "                                 + engvar2 + engvar3 + hr + qualityvars], firm], axis=1)"
   ]
  },
  {
   "cell_type": "code",
   "execution_count": 60,
   "id": "b9856aa2",
   "metadata": {
    "scrolled": true
   },
   "outputs": [],
   "source": [
    "# Define X5\n",
    "#Creat matrix for interactions1 variables\n",
    "int1mat = patsy.dmatrix(\"0 + C(ind2_cat):age + C(ind2_cat):age2 + C(ind2_cat):diff_ln_sales_mod \\\n",
    "                + C(ind2_cat):ln_sales + C(ind2_cat):ceo_age + C(ind2_cat):foreign_management \\\n",
    "                + C(ind2_cat):female + C(ind2_cat):C(urban_m) + C(ind2_cat):labor_avg_mod\", data, return_type=\"dataframe\")\n",
    "#Drop first level to get k-1 dummies out of k categorical levels \n",
    "for col in int1mat.columns:\n",
    "    if col.startswith('C(ind2_cat)[26.0]') or col.endswith('C(urban_m)[1.0]'):\n",
    "        int1mat = int1mat.drop([col], axis=1)\n",
    "        \n",
    "#Creat matrix for interactions2 variables        \n",
    "int2mat = patsy.dmatrix(\"0 + ln_sales:age + ln_sales:female + ln_sales:profit_loss_year_pl \\\n",
    "                + ln_sales:foreign_management\", data, return_type=\"dataframe\")\n",
    "X5 = pd.concat([X4, int1mat, int2mat], axis=1)"
   ]
  },
  {
   "cell_type": "code",
   "execution_count": 61,
   "id": "129277a3",
   "metadata": {},
   "outputs": [],
   "source": [
    "# Define logitvars for LASSO\n",
    "logitvars = pd.concat([X4, int1mat, int2mat], axis=1)"
   ]
  },
  {
   "cell_type": "code",
   "execution_count": 62,
   "id": "1f529a04",
   "metadata": {},
   "outputs": [],
   "source": [
    "# Define rfvars for RF (no interactions, no modified features)\n",
    "rfvars  = pd.concat([data[[\"sales\", \"diff_ln_sales\"] + rawvars + hr + qualityvars], firm], axis=1)"
   ]
  },
  {
   "cell_type": "code",
   "execution_count": 63,
   "id": "0b920926",
   "metadata": {},
   "outputs": [],
   "source": [
    "y = data['fast_growth']"
   ]
  },
  {
   "cell_type": "code",
   "execution_count": 64,
   "id": "1893c22c",
   "metadata": {},
   "outputs": [
    {
     "data": {
      "text/html": [
       "<div>\n",
       "<style scoped>\n",
       "    .dataframe tbody tr th:only-of-type {\n",
       "        vertical-align: middle;\n",
       "    }\n",
       "\n",
       "    .dataframe tbody tr th {\n",
       "        vertical-align: top;\n",
       "    }\n",
       "\n",
       "    .dataframe thead th {\n",
       "        text-align: right;\n",
       "    }\n",
       "</style>\n",
       "<table border=\"1\" class=\"dataframe\">\n",
       "  <thead>\n",
       "    <tr style=\"text-align: right;\">\n",
       "      <th></th>\n",
       "      <th>ln_sales</th>\n",
       "      <th>ln_sales_sq</th>\n",
       "      <th>diff_ln_sales_mod</th>\n",
       "      <th>profit_loss_year_pl</th>\n",
       "      <th>C(ind2_cat)[27.0]</th>\n",
       "      <th>C(ind2_cat)[28.0]</th>\n",
       "      <th>C(ind2_cat)[29.0]</th>\n",
       "      <th>C(ind2_cat)[30.0]</th>\n",
       "      <th>C(ind2_cat)[33.0]</th>\n",
       "      <th>C(ind2_cat)[55.0]</th>\n",
       "      <th>C(ind2_cat)[56.0]</th>\n",
       "    </tr>\n",
       "  </thead>\n",
       "  <tbody>\n",
       "    <tr>\n",
       "      <th>0</th>\n",
       "      <td>7.093159</td>\n",
       "      <td>50.312898</td>\n",
       "      <td>7.093159</td>\n",
       "      <td>-1.000000</td>\n",
       "      <td>0.0</td>\n",
       "      <td>0.0</td>\n",
       "      <td>0.0</td>\n",
       "      <td>0.0</td>\n",
       "      <td>0.0</td>\n",
       "      <td>0.0</td>\n",
       "      <td>1.0</td>\n",
       "    </tr>\n",
       "    <tr>\n",
       "      <th>1</th>\n",
       "      <td>13.943477</td>\n",
       "      <td>194.420551</td>\n",
       "      <td>0.684448</td>\n",
       "      <td>0.008554</td>\n",
       "      <td>1.0</td>\n",
       "      <td>0.0</td>\n",
       "      <td>0.0</td>\n",
       "      <td>0.0</td>\n",
       "      <td>0.0</td>\n",
       "      <td>0.0</td>\n",
       "      <td>0.0</td>\n",
       "    </tr>\n",
       "    <tr>\n",
       "      <th>2</th>\n",
       "      <td>7.932070</td>\n",
       "      <td>62.917730</td>\n",
       "      <td>-0.500000</td>\n",
       "      <td>-0.840425</td>\n",
       "      <td>0.0</td>\n",
       "      <td>0.0</td>\n",
       "      <td>0.0</td>\n",
       "      <td>0.0</td>\n",
       "      <td>0.0</td>\n",
       "      <td>0.0</td>\n",
       "      <td>1.0</td>\n",
       "    </tr>\n",
       "    <tr>\n",
       "      <th>3</th>\n",
       "      <td>12.980031</td>\n",
       "      <td>168.481216</td>\n",
       "      <td>0.097722</td>\n",
       "      <td>0.223102</td>\n",
       "      <td>0.0</td>\n",
       "      <td>0.0</td>\n",
       "      <td>0.0</td>\n",
       "      <td>0.0</td>\n",
       "      <td>0.0</td>\n",
       "      <td>1.0</td>\n",
       "      <td>0.0</td>\n",
       "    </tr>\n",
       "    <tr>\n",
       "      <th>4</th>\n",
       "      <td>11.773208</td>\n",
       "      <td>138.608422</td>\n",
       "      <td>-0.273087</td>\n",
       "      <td>-0.018129</td>\n",
       "      <td>0.0</td>\n",
       "      <td>0.0</td>\n",
       "      <td>0.0</td>\n",
       "      <td>0.0</td>\n",
       "      <td>0.0</td>\n",
       "      <td>1.0</td>\n",
       "      <td>0.0</td>\n",
       "    </tr>\n",
       "  </tbody>\n",
       "</table>\n",
       "</div>"
      ],
      "text/plain": [
       "    ln_sales  ln_sales_sq  diff_ln_sales_mod  profit_loss_year_pl  \\\n",
       "0   7.093159    50.312898           7.093159            -1.000000   \n",
       "1  13.943477   194.420551           0.684448             0.008554   \n",
       "2   7.932070    62.917730          -0.500000            -0.840425   \n",
       "3  12.980031   168.481216           0.097722             0.223102   \n",
       "4  11.773208   138.608422          -0.273087            -0.018129   \n",
       "\n",
       "   C(ind2_cat)[27.0]  C(ind2_cat)[28.0]  C(ind2_cat)[29.0]  C(ind2_cat)[30.0]  \\\n",
       "0                0.0                0.0                0.0                0.0   \n",
       "1                1.0                0.0                0.0                0.0   \n",
       "2                0.0                0.0                0.0                0.0   \n",
       "3                0.0                0.0                0.0                0.0   \n",
       "4                0.0                0.0                0.0                0.0   \n",
       "\n",
       "   C(ind2_cat)[33.0]  C(ind2_cat)[55.0]  C(ind2_cat)[56.0]  \n",
       "0                0.0                0.0                1.0  \n",
       "1                0.0                0.0                0.0  \n",
       "2                0.0                0.0                1.0  \n",
       "3                0.0                1.0                0.0  \n",
       "4                0.0                1.0                0.0  "
      ]
     },
     "execution_count": 64,
     "metadata": {},
     "output_type": "execute_result"
    }
   ],
   "source": [
    "X1.head()"
   ]
  },
  {
   "cell_type": "markdown",
   "id": "5823a78c",
   "metadata": {},
   "source": [
    "## Check simple linear and logistic models"
   ]
  },
  {
   "cell_type": "code",
   "execution_count": 65,
   "id": "45b4bbc3",
   "metadata": {},
   "outputs": [],
   "source": [
    "# Check simplest model X1\n",
    "X1.fillna(X1.mean(), inplace=True)\n",
    "ols_modelx1 = LinearRegression().fit(X1, y)"
   ]
  },
  {
   "cell_type": "code",
   "execution_count": 66,
   "id": "64844c37",
   "metadata": {},
   "outputs": [
    {
     "name": "stdout",
     "output_type": "stream",
     "text": [
      "explained_variance:  0.0196\n",
      "r2:  0.0196\n",
      "MAE:  0.2715\n",
      "MSE:  0.1357\n",
      "RMSE:  0.3684\n"
     ]
    }
   ],
   "source": [
    "regression_results(y, ols_modelx1.predict(X1))"
   ]
  },
  {
   "cell_type": "code",
   "execution_count": 67,
   "id": "d6aaacd6",
   "metadata": {},
   "outputs": [
    {
     "name": "stdout",
     "output_type": "stream",
     "text": [
      "explained_variance:  -0.004\n",
      "r2:  -0.2014\n",
      "MAE:  0.1663\n",
      "MSE:  0.1663\n",
      "RMSE:  0.4079\n"
     ]
    }
   ],
   "source": [
    "glm_modelx1 = LogisticRegression(solver=\"newton-cg\",max_iter=1000, penalty=\"none\").fit(X1, y)\n",
    "regression_results(y, glm_modelx1.predict(X1))"
   ]
  },
  {
   "cell_type": "code",
   "execution_count": 68,
   "id": "4ddcb449",
   "metadata": {},
   "outputs": [
    {
     "name": "stdout",
     "output_type": "stream",
     "text": [
      "explained_variance:  -0.0098\n",
      "r2:  -0.2033\n",
      "MAE:  0.1666\n",
      "MSE:  0.1666\n",
      "RMSE:  0.4082\n"
     ]
    }
   ],
   "source": [
    "# Check model X2\n",
    "X2.fillna(X2.mean(), inplace=True)\n",
    "glm_modelx2 = LogisticRegression(solver=\"newton-cg\", max_iter=1000, penalty=\"none\").fit(X2, y)\n",
    "regression_results(y, glm_modelx2.predict(X2))"
   ]
  },
  {
   "cell_type": "code",
   "execution_count": 69,
   "id": "94f32ce7",
   "metadata": {
    "scrolled": true
   },
   "outputs": [
    {
     "data": {
      "text/html": [
       "<div>\n",
       "<style scoped>\n",
       "    .dataframe tbody tr th:only-of-type {\n",
       "        vertical-align: middle;\n",
       "    }\n",
       "\n",
       "    .dataframe tbody tr th {\n",
       "        vertical-align: top;\n",
       "    }\n",
       "\n",
       "    .dataframe thead th {\n",
       "        text-align: right;\n",
       "    }\n",
       "</style>\n",
       "<table border=\"1\" class=\"dataframe\">\n",
       "  <thead>\n",
       "    <tr style=\"text-align: right;\">\n",
       "      <th></th>\n",
       "      <th>variable</th>\n",
       "      <th>coefficient</th>\n",
       "    </tr>\n",
       "  </thead>\n",
       "  <tbody>\n",
       "    <tr>\n",
       "      <th>0</th>\n",
       "      <td>ln_sales</td>\n",
       "      <td>-0.444435</td>\n",
       "    </tr>\n",
       "    <tr>\n",
       "      <th>1</th>\n",
       "      <td>ln_sales_sq</td>\n",
       "      <td>0.013395</td>\n",
       "    </tr>\n",
       "    <tr>\n",
       "      <th>2</th>\n",
       "      <td>diff_ln_sales_mod</td>\n",
       "      <td>0.092421</td>\n",
       "    </tr>\n",
       "    <tr>\n",
       "      <th>3</th>\n",
       "      <td>profit_loss_year_pl</td>\n",
       "      <td>-0.318503</td>\n",
       "    </tr>\n",
       "    <tr>\n",
       "      <th>4</th>\n",
       "      <td>C(ind2_cat)[27.0]</td>\n",
       "      <td>0.062993</td>\n",
       "    </tr>\n",
       "    <tr>\n",
       "      <th>5</th>\n",
       "      <td>C(ind2_cat)[28.0]</td>\n",
       "      <td>0.041340</td>\n",
       "    </tr>\n",
       "    <tr>\n",
       "      <th>6</th>\n",
       "      <td>C(ind2_cat)[29.0]</td>\n",
       "      <td>0.517547</td>\n",
       "    </tr>\n",
       "    <tr>\n",
       "      <th>7</th>\n",
       "      <td>C(ind2_cat)[30.0]</td>\n",
       "      <td>0.234020</td>\n",
       "    </tr>\n",
       "    <tr>\n",
       "      <th>8</th>\n",
       "      <td>C(ind2_cat)[33.0]</td>\n",
       "      <td>-0.004905</td>\n",
       "    </tr>\n",
       "    <tr>\n",
       "      <th>9</th>\n",
       "      <td>C(ind2_cat)[55.0]</td>\n",
       "      <td>-0.259803</td>\n",
       "    </tr>\n",
       "    <tr>\n",
       "      <th>10</th>\n",
       "      <td>C(ind2_cat)[56.0]</td>\n",
       "      <td>-0.365621</td>\n",
       "    </tr>\n",
       "    <tr>\n",
       "      <th>11</th>\n",
       "      <td>fixed_assets_bs</td>\n",
       "      <td>0.194215</td>\n",
       "    </tr>\n",
       "    <tr>\n",
       "      <th>12</th>\n",
       "      <td>share_eq_bs</td>\n",
       "      <td>0.245001</td>\n",
       "    </tr>\n",
       "    <tr>\n",
       "      <th>13</th>\n",
       "      <td>curr_liab_bs</td>\n",
       "      <td>0.347948</td>\n",
       "    </tr>\n",
       "    <tr>\n",
       "      <th>14</th>\n",
       "      <td>curr_liab_bs_flag_high</td>\n",
       "      <td>-0.297714</td>\n",
       "    </tr>\n",
       "    <tr>\n",
       "      <th>15</th>\n",
       "      <td>curr_liab_bs_flag_error</td>\n",
       "      <td>0.437356</td>\n",
       "    </tr>\n",
       "    <tr>\n",
       "      <th>16</th>\n",
       "      <td>age</td>\n",
       "      <td>-0.063311</td>\n",
       "    </tr>\n",
       "    <tr>\n",
       "      <th>17</th>\n",
       "      <td>foreign_management</td>\n",
       "      <td>0.093798</td>\n",
       "    </tr>\n",
       "    <tr>\n",
       "      <th>18</th>\n",
       "      <td>Intercept</td>\n",
       "      <td>2.013909</td>\n",
       "    </tr>\n",
       "  </tbody>\n",
       "</table>\n",
       "</div>"
      ],
      "text/plain": [
       "                   variable  coefficient\n",
       "0                  ln_sales    -0.444435\n",
       "1               ln_sales_sq     0.013395\n",
       "2         diff_ln_sales_mod     0.092421\n",
       "3       profit_loss_year_pl    -0.318503\n",
       "4         C(ind2_cat)[27.0]     0.062993\n",
       "5         C(ind2_cat)[28.0]     0.041340\n",
       "6         C(ind2_cat)[29.0]     0.517547\n",
       "7         C(ind2_cat)[30.0]     0.234020\n",
       "8         C(ind2_cat)[33.0]    -0.004905\n",
       "9         C(ind2_cat)[55.0]    -0.259803\n",
       "10        C(ind2_cat)[56.0]    -0.365621\n",
       "11          fixed_assets_bs     0.194215\n",
       "12              share_eq_bs     0.245001\n",
       "13             curr_liab_bs     0.347948\n",
       "14   curr_liab_bs_flag_high    -0.297714\n",
       "15  curr_liab_bs_flag_error     0.437356\n",
       "16                      age    -0.063311\n",
       "17       foreign_management     0.093798\n",
       "18                Intercept     2.013909"
      ]
     },
     "execution_count": 69,
     "metadata": {},
     "output_type": "execute_result"
    }
   ],
   "source": [
    "coef_matrix(X2, glm_modelx2)"
   ]
  },
  {
   "cell_type": "code",
   "execution_count": 70,
   "id": "35901880",
   "metadata": {
    "scrolled": true
   },
   "outputs": [
    {
     "name": "stdout",
     "output_type": "stream",
     "text": [
      "Optimization terminated successfully.\n",
      "         Current function value: 0.429157\n",
      "         Iterations 6\n"
     ]
    },
    {
     "data": {
      "text/html": [
       "<table class=\"simpletable\">\n",
       "<caption>Logit Marginal Effects</caption>\n",
       "<tr>\n",
       "  <th>Dep. Variable:</th> <td>fast_growth</td>\n",
       "</tr>\n",
       "<tr>\n",
       "  <th>Method:</th>           <td>dydx</td>    \n",
       "</tr>\n",
       "<tr>\n",
       "  <th>At:</th>              <td>overall</td>  \n",
       "</tr>\n",
       "</table>\n",
       "<table class=\"simpletable\">\n",
       "<tr>\n",
       "             <th></th>                <th>dy/dx</th>    <th>std err</th>      <th>z</th>      <th>P>|z|</th>  <th>[0.025</th>    <th>0.975]</th>  \n",
       "</tr>\n",
       "<tr>\n",
       "  <th>ln_sales</th>                <td>   -0.0589</td> <td>    0.015</td> <td>   -3.970</td> <td> 0.000</td> <td>   -0.088</td> <td>   -0.030</td>\n",
       "</tr>\n",
       "<tr>\n",
       "  <th>ln_sales_sq</th>             <td>    0.0018</td> <td>    0.001</td> <td>    2.585</td> <td> 0.010</td> <td>    0.000</td> <td>    0.003</td>\n",
       "</tr>\n",
       "<tr>\n",
       "  <th>diff_ln_sales_mod</th>       <td>    0.0123</td> <td>    0.002</td> <td>    7.253</td> <td> 0.000</td> <td>    0.009</td> <td>    0.016</td>\n",
       "</tr>\n",
       "<tr>\n",
       "  <th>profit_loss_year_pl</th>     <td>   -0.0422</td> <td>    0.008</td> <td>   -5.114</td> <td> 0.000</td> <td>   -0.058</td> <td>   -0.026</td>\n",
       "</tr>\n",
       "<tr>\n",
       "  <th>C(ind2_cat)[27.0]</th>       <td>    0.0083</td> <td>    0.019</td> <td>    0.443</td> <td> 0.658</td> <td>   -0.029</td> <td>    0.045</td>\n",
       "</tr>\n",
       "<tr>\n",
       "  <th>C(ind2_cat)[28.0]</th>       <td>    0.0055</td> <td>    0.014</td> <td>    0.378</td> <td> 0.705</td> <td>   -0.023</td> <td>    0.034</td>\n",
       "</tr>\n",
       "<tr>\n",
       "  <th>C(ind2_cat)[29.0]</th>       <td>    0.0686</td> <td>    0.023</td> <td>    2.989</td> <td> 0.003</td> <td>    0.024</td> <td>    0.114</td>\n",
       "</tr>\n",
       "<tr>\n",
       "  <th>C(ind2_cat)[30.0]</th>       <td>    0.0310</td> <td>    0.030</td> <td>    1.048</td> <td> 0.294</td> <td>   -0.027</td> <td>    0.089</td>\n",
       "</tr>\n",
       "<tr>\n",
       "  <th>C(ind2_cat)[33.0]</th>       <td>   -0.0007</td> <td>    0.014</td> <td>   -0.046</td> <td> 0.964</td> <td>   -0.029</td> <td>    0.027</td>\n",
       "</tr>\n",
       "<tr>\n",
       "  <th>C(ind2_cat)[55.0]</th>       <td>   -0.0344</td> <td>    0.014</td> <td>   -2.380</td> <td> 0.017</td> <td>   -0.063</td> <td>   -0.006</td>\n",
       "</tr>\n",
       "<tr>\n",
       "  <th>C(ind2_cat)[56.0]</th>       <td>   -0.0485</td> <td>    0.013</td> <td>   -3.840</td> <td> 0.000</td> <td>   -0.073</td> <td>   -0.024</td>\n",
       "</tr>\n",
       "<tr>\n",
       "  <th>fixed_assets_bs</th>         <td>    0.0257</td> <td>    0.008</td> <td>    3.039</td> <td> 0.002</td> <td>    0.009</td> <td>    0.042</td>\n",
       "</tr>\n",
       "<tr>\n",
       "  <th>share_eq_bs</th>             <td>    0.0325</td> <td>    0.007</td> <td>    4.753</td> <td> 0.000</td> <td>    0.019</td> <td>    0.046</td>\n",
       "</tr>\n",
       "<tr>\n",
       "  <th>curr_liab_bs</th>            <td>    0.0461</td> <td>    0.012</td> <td>    3.964</td> <td> 0.000</td> <td>    0.023</td> <td>    0.069</td>\n",
       "</tr>\n",
       "<tr>\n",
       "  <th>curr_liab_bs_flag_high</th>  <td>   -0.0395</td> <td>    0.010</td> <td>   -3.885</td> <td> 0.000</td> <td>   -0.059</td> <td>   -0.020</td>\n",
       "</tr>\n",
       "<tr>\n",
       "  <th>curr_liab_bs_flag_error</th> <td>    0.0580</td> <td>    0.108</td> <td>    0.537</td> <td> 0.591</td> <td>   -0.154</td> <td>    0.269</td>\n",
       "</tr>\n",
       "<tr>\n",
       "  <th>age</th>                     <td>   -0.0084</td> <td>    0.000</td> <td>  -18.332</td> <td> 0.000</td> <td>   -0.009</td> <td>   -0.007</td>\n",
       "</tr>\n",
       "<tr>\n",
       "  <th>foreign_management</th>      <td>    0.0124</td> <td>    0.009</td> <td>    1.431</td> <td> 0.153</td> <td>   -0.005</td> <td>    0.029</td>\n",
       "</tr>\n",
       "</table>"
      ],
      "text/plain": [
       "<class 'statsmodels.iolib.summary.Summary'>\n",
       "\"\"\"\n",
       "        Logit Marginal Effects       \n",
       "=====================================\n",
       "Dep. Variable:            fast_growth\n",
       "Method:                          dydx\n",
       "At:                           overall\n",
       "===========================================================================================\n",
       "                             dy/dx    std err          z      P>|z|      [0.025      0.975]\n",
       "-------------------------------------------------------------------------------------------\n",
       "ln_sales                   -0.0589      0.015     -3.970      0.000      -0.088      -0.030\n",
       "ln_sales_sq                 0.0018      0.001      2.585      0.010       0.000       0.003\n",
       "diff_ln_sales_mod           0.0123      0.002      7.253      0.000       0.009       0.016\n",
       "profit_loss_year_pl        -0.0422      0.008     -5.114      0.000      -0.058      -0.026\n",
       "C(ind2_cat)[27.0]           0.0083      0.019      0.443      0.658      -0.029       0.045\n",
       "C(ind2_cat)[28.0]           0.0055      0.014      0.378      0.705      -0.023       0.034\n",
       "C(ind2_cat)[29.0]           0.0686      0.023      2.989      0.003       0.024       0.114\n",
       "C(ind2_cat)[30.0]           0.0310      0.030      1.048      0.294      -0.027       0.089\n",
       "C(ind2_cat)[33.0]          -0.0007      0.014     -0.046      0.964      -0.029       0.027\n",
       "C(ind2_cat)[55.0]          -0.0344      0.014     -2.380      0.017      -0.063      -0.006\n",
       "C(ind2_cat)[56.0]          -0.0485      0.013     -3.840      0.000      -0.073      -0.024\n",
       "fixed_assets_bs             0.0257      0.008      3.039      0.002       0.009       0.042\n",
       "share_eq_bs                 0.0325      0.007      4.753      0.000       0.019       0.046\n",
       "curr_liab_bs                0.0461      0.012      3.964      0.000       0.023       0.069\n",
       "curr_liab_bs_flag_high     -0.0395      0.010     -3.885      0.000      -0.059      -0.020\n",
       "curr_liab_bs_flag_error     0.0580      0.108      0.537      0.591      -0.154       0.269\n",
       "age                        -0.0084      0.000    -18.332      0.000      -0.009      -0.007\n",
       "foreign_management          0.0124      0.009      1.431      0.153      -0.005       0.029\n",
       "===========================================================================================\n",
       "\"\"\""
      ]
     },
     "execution_count": 70,
     "metadata": {},
     "output_type": "execute_result"
    }
   ],
   "source": [
    "mx2 = sm.Logit(y,sm.add_constant(X2)).fit().get_margeff()\n",
    "mx2.summary()"
   ]
  },
  {
   "cell_type": "code",
   "execution_count": 71,
   "id": "eaef4349",
   "metadata": {},
   "outputs": [
    {
     "name": "stdout",
     "output_type": "stream",
     "text": [
      "explained_variance:  -0.0124\n",
      "r2:  -0.1942\n",
      "MAE:  0.1653\n",
      "MSE:  0.1653\n",
      "RMSE:  0.4066\n"
     ]
    }
   ],
   "source": [
    "# Check model X3\n",
    "X3.fillna(X3.mean(), inplace=True)\n",
    "glm_modelx3 = LogisticRegression(solver=\"newton-cg\", max_iter=1000, penalty=\"none\").fit(X3, y)\n",
    "regression_results(y, glm_modelx3.predict(X3))"
   ]
  },
  {
   "cell_type": "code",
   "execution_count": 72,
   "id": "f66d60b4",
   "metadata": {},
   "outputs": [
    {
     "name": "stdout",
     "output_type": "stream",
     "text": [
      "explained_variance:  -0.0136\n",
      "r2:  -0.1691\n",
      "MAE:  0.1619\n",
      "MSE:  0.1619\n",
      "RMSE:  0.4023\n"
     ]
    }
   ],
   "source": [
    "# Check model X4\n",
    "X4.fillna(X4.mean(), inplace=True)\n",
    "glm_modelx4 = LogisticRegression(solver=\"newton-cg\", max_iter=1000, penalty=\"none\").fit(X4, y)\n",
    "regression_results(y, glm_modelx4.predict(X4))"
   ]
  },
  {
   "cell_type": "code",
   "execution_count": 73,
   "id": "5388aad6",
   "metadata": {},
   "outputs": [
    {
     "name": "stdout",
     "output_type": "stream",
     "text": [
      "explained_variance:  -0.0026\n",
      "r2:  -0.154\n",
      "MAE:  0.1598\n",
      "MSE:  0.1598\n",
      "RMSE:  0.3997\n"
     ]
    }
   ],
   "source": [
    "# Check model X5\n",
    "X5.fillna(X5.mean(), inplace=True)\n",
    "glm_modelx5 = LogisticRegression(solver=\"newton-cg\", max_iter=1000, penalty=\"none\").fit(X5, y)\n",
    "regression_results(y, glm_modelx5.predict(X5))"
   ]
  },
  {
   "cell_type": "markdown",
   "id": "2340cadc",
   "metadata": {},
   "source": [
    "## Separate train and holdout data"
   ]
  },
  {
   "cell_type": "code",
   "execution_count": 74,
   "id": "1821fe38",
   "metadata": {},
   "outputs": [],
   "source": [
    "index_train, index_holdout= train_test_split(\n",
    "    data.index.values, train_size=round(0.8*len(data.index)), random_state=42)\n",
    "\n",
    "y_train = y.iloc[index_train]\n",
    "y_holdout = y.iloc[index_holdout]"
   ]
  },
  {
   "cell_type": "code",
   "execution_count": 75,
   "id": "bfc92c16",
   "metadata": {},
   "outputs": [
    {
     "name": "stdout",
     "output_type": "stream",
     "text": [
      "Total\n",
      "0    0.833972\n",
      "1    0.166028\n",
      "Name: fast_growth, dtype: float64\n",
      "Train\n",
      "0    0.833486\n",
      "1    0.166514\n",
      "Name: fast_growth, dtype: float64\n",
      "Holdout\n",
      "0    0.835915\n",
      "1    0.164085\n",
      "Name: fast_growth, dtype: float64\n"
     ]
    }
   ],
   "source": [
    "print('Total')\n",
    "print(data['fast_growth'].value_counts(normalize=True))\n",
    "print('Train')\n",
    "print(data.iloc[index_train]['fast_growth'].value_counts(normalize=True))\n",
    "print('Holdout')\n",
    "print(data.iloc[index_holdout]['fast_growth'].value_counts(normalize=True))"
   ]
  },
  {
   "cell_type": "markdown",
   "id": "3a6d5571",
   "metadata": {},
   "source": [
    "## PREDICT PROBABILITIES"
   ]
  },
  {
   "cell_type": "code",
   "execution_count": 76,
   "id": "bfe546b1",
   "metadata": {},
   "outputs": [],
   "source": [
    "#specify cross-validation method\n",
    "k = KFold(n_splits=5, shuffle=True, random_state=42)"
   ]
  },
  {
   "cell_type": "markdown",
   "id": "2a6f35e1",
   "metadata": {},
   "source": [
    "## Train logit models"
   ]
  },
  {
   "cell_type": "code",
   "execution_count": 77,
   "id": "205aa259",
   "metadata": {},
   "outputs": [],
   "source": [
    "# no regularisation needed so setting the paremeter to very high value\n",
    "C_value_logit=[1e20]"
   ]
  },
  {
   "cell_type": "code",
   "execution_count": 78,
   "id": "29d8b728",
   "metadata": {},
   "outputs": [],
   "source": [
    "# Train Logit Models ----------------------------------------------\n",
    "logit_model_vars = [X1.iloc[index_train], X2.iloc[index_train], X3.iloc[index_train], X4.iloc[index_train], X5.iloc[index_train]]\n",
    "\n",
    "logit_models = dict()\n",
    "CV_RMSE_folds = dict()\n",
    "\n",
    "for i in range(len(logit_model_vars)):\n",
    "    LRCV_brier = LogisticRegressionCV(Cs=C_value_logit, cv=k, refit=True, scoring='neg_brier_score', \n",
    "                            solver=\"newton-cg\", tol=1e-7, random_state=42)\n",
    "    logit_models['X'+str(i+1)] = LRCV_brier.fit(logit_model_vars[i], y_train)\n",
    "    # Calculate RMSE on test for each fold\n",
    "    CV_RMSE_folds['X'+str(i+1)] = np.sqrt(-1*(logit_models['X'+str(i+1)].scores_[1])).tolist()"
   ]
  },
  {
   "cell_type": "markdown",
   "id": "d4bd993b",
   "metadata": {},
   "source": [
    "## Lasso logit"
   ]
  },
  {
   "cell_type": "code",
   "execution_count": 79,
   "id": "aac87d33",
   "metadata": {},
   "outputs": [],
   "source": [
    "normalized_logitvars=pd.DataFrame(StandardScaler().fit_transform(logitvars.iloc[index_train]))\n",
    "normalized_logitvars.columns=logitvars.columns"
   ]
  },
  {
   "cell_type": "code",
   "execution_count": 80,
   "id": "20be0dae",
   "metadata": {},
   "outputs": [],
   "source": [
    "lambdas=list(10**np.arange(-1,-4.01, -1/3))\n",
    "n_obs = normalized_logitvars.shape[0]*4/5\n",
    "C_values = [1/(l*n_obs) for l in lambdas]\n",
    "\n",
    "logLasso = LogisticRegressionCV(Cs=C_values, penalty='l1', cv=k, refit=True, scoring='accuracy', solver='liblinear',\n",
    "                             random_state=42)"
   ]
  },
  {
   "cell_type": "code",
   "execution_count": 83,
   "id": "3ceae340",
   "metadata": {},
   "outputs": [],
   "source": [
    "normalized_logitvars.fillna(normalized_logitvars.mean(), inplace=True)\n",
    "logit_models[\"LASSO\"] = logLasso.fit(normalized_logitvars, y_train)"
   ]
  },
  {
   "cell_type": "code",
   "execution_count": 84,
   "id": "b167f8d9",
   "metadata": {},
   "outputs": [
    {
     "data": {
      "text/html": [
       "<div>\n",
       "<style scoped>\n",
       "    .dataframe tbody tr th:only-of-type {\n",
       "        vertical-align: middle;\n",
       "    }\n",
       "\n",
       "    .dataframe tbody tr th {\n",
       "        vertical-align: top;\n",
       "    }\n",
       "\n",
       "    .dataframe thead th {\n",
       "        text-align: right;\n",
       "    }\n",
       "</style>\n",
       "<table border=\"1\" class=\"dataframe\">\n",
       "  <thead>\n",
       "    <tr style=\"text-align: right;\">\n",
       "      <th></th>\n",
       "      <th>lambdas</th>\n",
       "      <th>C_values</th>\n",
       "      <th>mean_cv_score</th>\n",
       "    </tr>\n",
       "  </thead>\n",
       "  <tbody>\n",
       "    <tr>\n",
       "      <th>0</th>\n",
       "      <td>0.100000</td>\n",
       "      <td>0.000820</td>\n",
       "      <td>0.833487</td>\n",
       "    </tr>\n",
       "    <tr>\n",
       "      <th>1</th>\n",
       "      <td>0.046416</td>\n",
       "      <td>0.001768</td>\n",
       "      <td>0.833487</td>\n",
       "    </tr>\n",
       "    <tr>\n",
       "      <th>2</th>\n",
       "      <td>0.021544</td>\n",
       "      <td>0.003808</td>\n",
       "      <td>0.833487</td>\n",
       "    </tr>\n",
       "    <tr>\n",
       "      <th>3</th>\n",
       "      <td>0.010000</td>\n",
       "      <td>0.008204</td>\n",
       "      <td>0.835784</td>\n",
       "    </tr>\n",
       "    <tr>\n",
       "      <th>4</th>\n",
       "      <td>0.004642</td>\n",
       "      <td>0.017676</td>\n",
       "      <td>0.835849</td>\n",
       "    </tr>\n",
       "    <tr>\n",
       "      <th>5</th>\n",
       "      <td>0.002154</td>\n",
       "      <td>0.038081</td>\n",
       "      <td>0.836834</td>\n",
       "    </tr>\n",
       "    <tr>\n",
       "      <th>6</th>\n",
       "      <td>0.001000</td>\n",
       "      <td>0.082043</td>\n",
       "      <td>0.837096</td>\n",
       "    </tr>\n",
       "    <tr>\n",
       "      <th>7</th>\n",
       "      <td>0.000464</td>\n",
       "      <td>0.176755</td>\n",
       "      <td>0.836768</td>\n",
       "    </tr>\n",
       "    <tr>\n",
       "      <th>8</th>\n",
       "      <td>0.000215</td>\n",
       "      <td>0.380808</td>\n",
       "      <td>0.837228</td>\n",
       "    </tr>\n",
       "    <tr>\n",
       "      <th>9</th>\n",
       "      <td>0.000100</td>\n",
       "      <td>0.820425</td>\n",
       "      <td>0.837031</td>\n",
       "    </tr>\n",
       "  </tbody>\n",
       "</table>\n",
       "</div>"
      ],
      "text/plain": [
       "    lambdas  C_values  mean_cv_score\n",
       "0  0.100000  0.000820       0.833487\n",
       "1  0.046416  0.001768       0.833487\n",
       "2  0.021544  0.003808       0.833487\n",
       "3  0.010000  0.008204       0.835784\n",
       "4  0.004642  0.017676       0.835849\n",
       "5  0.002154  0.038081       0.836834\n",
       "6  0.001000  0.082043       0.837096\n",
       "7  0.000464  0.176755       0.836768\n",
       "8  0.000215  0.380808       0.837228\n",
       "9  0.000100  0.820425       0.837031"
      ]
     },
     "execution_count": 84,
     "metadata": {},
     "output_type": "execute_result"
    }
   ],
   "source": [
    "cv_summary_lasso = cv_summary(lambdas, C_values, logit_models[\"LASSO\"])\n",
    "cv_summary_lasso"
   ]
  },
  {
   "cell_type": "code",
   "execution_count": 85,
   "id": "6ebe1806",
   "metadata": {},
   "outputs": [],
   "source": [
    "best_lambda = cv_summary_lasso.sort_values('mean_cv_score', ascending = False).iloc[0,0]"
   ]
  },
  {
   "cell_type": "code",
   "execution_count": 86,
   "id": "0b15ca90",
   "metadata": {
    "scrolled": true
   },
   "outputs": [
    {
     "data": {
      "text/html": [
       "<div>\n",
       "<style scoped>\n",
       "    .dataframe tbody tr th:only-of-type {\n",
       "        vertical-align: middle;\n",
       "    }\n",
       "\n",
       "    .dataframe tbody tr th {\n",
       "        vertical-align: top;\n",
       "    }\n",
       "\n",
       "    .dataframe thead th {\n",
       "        text-align: right;\n",
       "    }\n",
       "</style>\n",
       "<table border=\"1\" class=\"dataframe\">\n",
       "  <thead>\n",
       "    <tr style=\"text-align: right;\">\n",
       "      <th></th>\n",
       "      <th>variable</th>\n",
       "      <th>coefficient</th>\n",
       "    </tr>\n",
       "  </thead>\n",
       "  <tbody>\n",
       "    <tr>\n",
       "      <th>0</th>\n",
       "      <td>ln_sales</td>\n",
       "      <td>-0.292380</td>\n",
       "    </tr>\n",
       "    <tr>\n",
       "      <th>1</th>\n",
       "      <td>ln_sales_sq</td>\n",
       "      <td>0.000000</td>\n",
       "    </tr>\n",
       "    <tr>\n",
       "      <th>2</th>\n",
       "      <td>total_assets_bs</td>\n",
       "      <td>0.066236</td>\n",
       "    </tr>\n",
       "    <tr>\n",
       "      <th>3</th>\n",
       "      <td>fixed_assets_bs</td>\n",
       "      <td>0.122285</td>\n",
       "    </tr>\n",
       "    <tr>\n",
       "      <th>4</th>\n",
       "      <td>liq_assets_bs</td>\n",
       "      <td>0.084736</td>\n",
       "    </tr>\n",
       "    <tr>\n",
       "      <th>...</th>\n",
       "      <td>...</td>\n",
       "      <td>...</td>\n",
       "    </tr>\n",
       "    <tr>\n",
       "      <th>160</th>\n",
       "      <td>ln_sales:age</td>\n",
       "      <td>-0.024293</td>\n",
       "    </tr>\n",
       "    <tr>\n",
       "      <th>161</th>\n",
       "      <td>ln_sales:female</td>\n",
       "      <td>-0.065547</td>\n",
       "    </tr>\n",
       "    <tr>\n",
       "      <th>162</th>\n",
       "      <td>ln_sales:profit_loss_year_pl</td>\n",
       "      <td>-0.031438</td>\n",
       "    </tr>\n",
       "    <tr>\n",
       "      <th>163</th>\n",
       "      <td>ln_sales:foreign_management</td>\n",
       "      <td>0.157836</td>\n",
       "    </tr>\n",
       "    <tr>\n",
       "      <th>164</th>\n",
       "      <td>Intercept</td>\n",
       "      <td>-1.761910</td>\n",
       "    </tr>\n",
       "  </tbody>\n",
       "</table>\n",
       "<p>165 rows × 2 columns</p>\n",
       "</div>"
      ],
      "text/plain": [
       "                         variable  coefficient\n",
       "0                        ln_sales    -0.292380\n",
       "1                     ln_sales_sq     0.000000\n",
       "2                 total_assets_bs     0.066236\n",
       "3                 fixed_assets_bs     0.122285\n",
       "4                   liq_assets_bs     0.084736\n",
       "..                            ...          ...\n",
       "160                  ln_sales:age    -0.024293\n",
       "161               ln_sales:female    -0.065547\n",
       "162  ln_sales:profit_loss_year_pl    -0.031438\n",
       "163   ln_sales:foreign_management     0.157836\n",
       "164                     Intercept    -1.761910\n",
       "\n",
       "[165 rows x 2 columns]"
      ]
     },
     "execution_count": 86,
     "metadata": {},
     "output_type": "execute_result"
    }
   ],
   "source": [
    "coef_matrix(normalized_logitvars, logit_models[\"LASSO\"])"
   ]
  },
  {
   "cell_type": "code",
   "execution_count": 87,
   "id": "0c4b1654",
   "metadata": {},
   "outputs": [],
   "source": [
    "#refit with negative brier score so we have RMSE values for the same cv split\n",
    "logLasso_brier = LogisticRegressionCV(Cs=C_values, penalty='l1', cv=k, refit=True, scoring='neg_brier_score', \n",
    "                            solver=\"liblinear\", random_state=42)\n",
    "logLasso_brier_fitted = logLasso_brier.fit(normalized_logitvars, y_train)"
   ]
  },
  {
   "cell_type": "code",
   "execution_count": 88,
   "id": "5f60d46a",
   "metadata": {},
   "outputs": [],
   "source": [
    "for i, l in enumerate(lambdas):\n",
    "    if l == best_lambda:\n",
    "        best_lambda_i = i\n",
    "        CV_RMSE_folds['LASSO'] = np.sqrt(-1*(logLasso_brier_fitted.scores_[1][:,i])).tolist()"
   ]
  },
  {
   "cell_type": "markdown",
   "id": "61b2ad1b",
   "metadata": {},
   "source": [
    "Let's see what we have now. Compare 6 models X1 to X5 and a Lasso one.\n",
    "\n",
    "I will compare models by Average CV RMSE (average for five folds)"
   ]
  },
  {
   "cell_type": "code",
   "execution_count": 89,
   "id": "1714e0e0",
   "metadata": {},
   "outputs": [],
   "source": [
    "CV_RMSE_wo_loss = dict()\n",
    "\n",
    "for key in logit_models:\n",
    "    CV_RMSE_wo_loss[key] = np.mean(CV_RMSE_folds[key])"
   ]
  },
  {
   "cell_type": "code",
   "execution_count": 90,
   "id": "9b90e803",
   "metadata": {},
   "outputs": [
    {
     "data": {
      "text/html": [
       "<div>\n",
       "<style scoped>\n",
       "    .dataframe tbody tr th:only-of-type {\n",
       "        vertical-align: middle;\n",
       "    }\n",
       "\n",
       "    .dataframe tbody tr th {\n",
       "        vertical-align: top;\n",
       "    }\n",
       "\n",
       "    .dataframe thead th {\n",
       "        text-align: right;\n",
       "    }\n",
       "</style>\n",
       "<table border=\"1\" class=\"dataframe\">\n",
       "  <thead>\n",
       "    <tr style=\"text-align: right;\">\n",
       "      <th></th>\n",
       "      <th>Model</th>\n",
       "      <th>CV RMSE</th>\n",
       "    </tr>\n",
       "  </thead>\n",
       "  <tbody>\n",
       "    <tr>\n",
       "      <th>0</th>\n",
       "      <td>X1</td>\n",
       "      <td>0.369202</td>\n",
       "    </tr>\n",
       "    <tr>\n",
       "      <th>1</th>\n",
       "      <td>X2</td>\n",
       "      <td>0.364582</td>\n",
       "    </tr>\n",
       "    <tr>\n",
       "      <th>2</th>\n",
       "      <td>X3</td>\n",
       "      <td>0.361908</td>\n",
       "    </tr>\n",
       "    <tr>\n",
       "      <th>3</th>\n",
       "      <td>X4</td>\n",
       "      <td>0.359364</td>\n",
       "    </tr>\n",
       "    <tr>\n",
       "      <th>4</th>\n",
       "      <td>X5</td>\n",
       "      <td>0.359817</td>\n",
       "    </tr>\n",
       "    <tr>\n",
       "      <th>5</th>\n",
       "      <td>LASSO</td>\n",
       "      <td>0.359821</td>\n",
       "    </tr>\n",
       "  </tbody>\n",
       "</table>\n",
       "</div>"
      ],
      "text/plain": [
       "   Model   CV RMSE\n",
       "0     X1  0.369202\n",
       "1     X2  0.364582\n",
       "2     X3  0.361908\n",
       "3     X4  0.359364\n",
       "4     X5  0.359817\n",
       "5  LASSO  0.359821"
      ]
     },
     "execution_count": 90,
     "metadata": {},
     "output_type": "execute_result"
    }
   ],
   "source": [
    "summary_results = pd.DataFrame({\n",
    "    \"Model\": list(CV_RMSE_folds.keys()),\n",
    "    \"CV RMSE\": list(CV_RMSE_wo_loss.values())\n",
    "                               })\n",
    "summary_results"
   ]
  },
  {
   "cell_type": "markdown",
   "id": "8d2b6691",
   "metadata": {},
   "source": [
    "As we can see, for now Models 4 and 5 are very comparable, but 5 is more complicated. The difference in CVRMSE might as well be due to the inherent randomness (CVRMSE itself is a random variable here due to the fact that it depends on the random split of the sample), but it is preferable to model 5, because it is less complex"
   ]
  },
  {
   "cell_type": "markdown",
   "id": "dbcff423",
   "metadata": {},
   "source": [
    "## No loss fn"
   ]
  },
  {
   "cell_type": "code",
   "execution_count": 91,
   "id": "dc5ad37f",
   "metadata": {},
   "outputs": [],
   "source": [
    "# Calculate AUC for each folds --------------------------------\n",
    "CV_AUC_folds = dict()\n",
    "\n",
    "#refit logit models with AUC so we have AUC values for the same cv split\n",
    "for i in range(len(logit_model_vars)):\n",
    "    LRCV_auc = LogisticRegressionCV(Cs=C_value_logit, cv=k, refit=True, scoring='roc_auc', \n",
    "                            solver=\"newton-cg\", tol=1e-7, random_state=42)\n",
    "    LRCV_auc_fit = LRCV_auc.fit(logit_model_vars[i], y_train)\n",
    "    # Calculate AUC on test for each fold\n",
    "    CV_AUC_folds['X'+str(i+1)] = LRCV_auc_fit.scores_[1][:,0].tolist()"
   ]
  },
  {
   "cell_type": "code",
   "execution_count": 92,
   "id": "226b7555",
   "metadata": {},
   "outputs": [],
   "source": [
    "#refit with AUC so we have AUC values for the same cv split\n",
    "logLasso_auc = LogisticRegressionCV(Cs=C_values, penalty='l1', cv=k, refit=True, scoring='roc_auc', \n",
    "                            solver=\"liblinear\", random_state=42)\n",
    "logLasso_auc_fitted = logLasso_auc.fit(normalized_logitvars, y_train)\n",
    "CV_AUC_folds['LASSO'] = logLasso_auc_fitted.scores_[1][:,best_lambda_i].tolist()"
   ]
  },
  {
   "cell_type": "code",
   "execution_count": 93,
   "id": "cb383ab9",
   "metadata": {},
   "outputs": [],
   "source": [
    "# For each model: average RMSE and average AUC for models ----------------------------------\n",
    "CV_RMSE = dict()\n",
    "CV_AUC = dict()\n",
    "nvars = dict()\n",
    "\n",
    "for key in logit_models:\n",
    "    CV_RMSE[key] = np.mean(CV_RMSE_folds[key])\n",
    "    CV_AUC[key] = np.mean(CV_AUC_folds[key])\n",
    "    \n",
    "for key in logit_models:\n",
    "    if key != 'LASSO':\n",
    "        nvars[key] = logit_models[key].n_features_in_\n",
    "    else:\n",
    "        nvars[key] = sum(x != 0 for x in logit_models[key].coef_[0].tolist())"
   ]
  },
  {
   "cell_type": "code",
   "execution_count": 94,
   "id": "a2c3b05f",
   "metadata": {},
   "outputs": [],
   "source": [
    "# We have 6 models, (5 logit and the logit lasso). For each we have a 5-CV RMSE and AUC.\n",
    "# We pick our preferred model based on that. -----------------------------------------------\n",
    "logit_summary1 = np.transpose(pd.DataFrame.from_dict([nvars,CV_RMSE,CV_AUC], orient='columns'))\n",
    "logit_summary1.columns = ['Number of predictors', 'CV RMSE', 'CV AUC']"
   ]
  },
  {
   "cell_type": "code",
   "execution_count": 95,
   "id": "6b752143",
   "metadata": {},
   "outputs": [
    {
     "data": {
      "text/html": [
       "<div>\n",
       "<style scoped>\n",
       "    .dataframe tbody tr th:only-of-type {\n",
       "        vertical-align: middle;\n",
       "    }\n",
       "\n",
       "    .dataframe tbody tr th {\n",
       "        vertical-align: top;\n",
       "    }\n",
       "\n",
       "    .dataframe thead th {\n",
       "        text-align: right;\n",
       "    }\n",
       "</style>\n",
       "<table border=\"1\" class=\"dataframe\">\n",
       "  <thead>\n",
       "    <tr style=\"text-align: right;\">\n",
       "      <th></th>\n",
       "      <th>Number of predictors</th>\n",
       "      <th>CV RMSE</th>\n",
       "      <th>CV AUC</th>\n",
       "    </tr>\n",
       "  </thead>\n",
       "  <tbody>\n",
       "    <tr>\n",
       "      <th>X1</th>\n",
       "      <td>11.0</td>\n",
       "      <td>0.369202</td>\n",
       "      <td>0.597642</td>\n",
       "    </tr>\n",
       "    <tr>\n",
       "      <th>X2</th>\n",
       "      <td>18.0</td>\n",
       "      <td>0.364582</td>\n",
       "      <td>0.645786</td>\n",
       "    </tr>\n",
       "    <tr>\n",
       "      <th>X3</th>\n",
       "      <td>39.0</td>\n",
       "      <td>0.361908</td>\n",
       "      <td>0.663511</td>\n",
       "    </tr>\n",
       "    <tr>\n",
       "      <th>X4</th>\n",
       "      <td>83.0</td>\n",
       "      <td>0.359364</td>\n",
       "      <td>0.669700</td>\n",
       "    </tr>\n",
       "    <tr>\n",
       "      <th>X5</th>\n",
       "      <td>164.0</td>\n",
       "      <td>0.359817</td>\n",
       "      <td>0.669209</td>\n",
       "    </tr>\n",
       "    <tr>\n",
       "      <th>LASSO</th>\n",
       "      <td>131.0</td>\n",
       "      <td>0.359821</td>\n",
       "      <td>0.669833</td>\n",
       "    </tr>\n",
       "  </tbody>\n",
       "</table>\n",
       "</div>"
      ],
      "text/plain": [
       "       Number of predictors   CV RMSE    CV AUC\n",
       "X1                     11.0  0.369202  0.597642\n",
       "X2                     18.0  0.364582  0.645786\n",
       "X3                     39.0  0.361908  0.663511\n",
       "X4                     83.0  0.359364  0.669700\n",
       "X5                    164.0  0.359817  0.669209\n",
       "LASSO                 131.0  0.359821  0.669833"
      ]
     },
     "execution_count": 95,
     "metadata": {},
     "output_type": "execute_result"
    }
   ],
   "source": [
    "logit_summary1"
   ]
  },
  {
   "cell_type": "code",
   "execution_count": 96,
   "id": "180043a3",
   "metadata": {},
   "outputs": [
    {
     "data": {
      "text/plain": [
       "0.358"
      ]
     },
     "execution_count": 96,
     "metadata": {},
     "output_type": "execute_result"
    }
   ],
   "source": [
    "# Take best model and estimate RMSE on holdout  -------------------------------------------\n",
    "# X4, X5 and LASSO are practically the same - go with the simplest model \n",
    "\n",
    "best_model = logit_models['X4']\n",
    "best_model_X_holdout = X4.iloc[index_holdout]\n",
    "\n",
    "logit_predicted_probabilities_holdout = best_model.predict_proba(best_model_X_holdout)[:,1]\n",
    "best_rmse_holdout = np.sqrt(metrics.mean_squared_error(y_holdout, logit_predicted_probabilities_holdout))\n",
    "round(best_rmse_holdout, 3)"
   ]
  },
  {
   "cell_type": "code",
   "execution_count": 97,
   "id": "3acead46",
   "metadata": {},
   "outputs": [],
   "source": [
    "# discrete ROC (with thresholds in steps) on holdout -------------------------------------------------\n",
    "\n",
    "thresholds = seq(0.05, 0.8, by = 0.05)\n",
    "cm = dict()\n",
    "true_positive_rates = []\n",
    "false_positive_rates = []\n",
    "holdout_prediction = []\n",
    "for thr in thresholds:\n",
    "    holdout_prediction = np.where(logit_predicted_probabilities_holdout < thr, 0, 1)\n",
    "    cm_thr = confusion_matrix(y_holdout, holdout_prediction, labels=[0,1])\n",
    "    cm[thr] = cm_thr\n",
    "    tn, fp, fn, tp = cm_thr.ravel()\n",
    "    true_positive_rates.append(tp/(tp+fn))\n",
    "    false_positive_rates.append(fp/(fp+tn))"
   ]
  },
  {
   "cell_type": "code",
   "execution_count": 98,
   "id": "f5300332",
   "metadata": {},
   "outputs": [],
   "source": [
    "tpr_fpr_for_thresholds = pd.DataFrame(\n",
    "    {'thresholds': thresholds,\n",
    "     'true_positive_rates': true_positive_rates,\n",
    "     'false_positive_rates': false_positive_rates})"
   ]
  },
  {
   "cell_type": "code",
   "execution_count": 99,
   "id": "0f57b4ec",
   "metadata": {},
   "outputs": [
    {
     "data": {
      "image/png": "[encoded data removed]",
      "text/plain": [
       "<Figure size 640x480 with 1 Axes>"
      ]
     },
     "metadata": {},
     "output_type": "display_data"
    },
    {
     "data": {
      "text/plain": [
       "<ggplot: (8782889622498)>"
      ]
     },
     "execution_count": 99,
     "metadata": {},
     "output_type": "execute_result"
    }
   ],
   "source": [
    "ggplot(tpr_fpr_for_thresholds, aes(x = 'false_positive_rates', y = 'true_positive_rates', color='thresholds'))\\\n",
    "        + labs(x = \"False positive rate (1 - Specificity)\", y = \"True positive rate (Sensitivity)\")\\\n",
    "        + geom_point(size=2, alpha=0.8) + scale_color_continuous(trans = 'reverse')\\\n",
    "        + scale_x_continuous(limits=(0,1), breaks = seq(0, 1.01, by = 0.1))\\\n",
    "        + scale_y_continuous(limits=(0,1), breaks = seq(0, 1.01, by = 0.1))\\\n",
    "        + theme_bw()\\\n",
    "        +theme(legend_position=\"right\",\n",
    "            axis_text=element_text(size=5),\n",
    "            axis_title=element_text(size=5),\n",
    "            legend_text = element_text(size = 4),\n",
    "            legend_title = element_text(size = 4),\n",
    "            legend_key_size=6)"
   ]
  },
  {
   "cell_type": "code",
   "execution_count": 100,
   "id": "3ea36d5c",
   "metadata": {},
   "outputs": [
    {
     "data": {
      "image/png": "[encoded data removed]",
      "text/plain": [
       "<Figure size 640x480 with 1 Axes>"
      ]
     },
     "metadata": {},
     "output_type": "display_data"
    },
    {
     "data": {
      "text/plain": [
       "<ggplot: (8782908557725)>"
      ]
     },
     "execution_count": 100,
     "metadata": {},
     "output_type": "execute_result"
    }
   ],
   "source": [
    "# continuous ROC on holdout with best model (Logit 4) -------------------------------------------\n",
    "\n",
    "create_roc_plot(y_holdout, logit_predicted_probabilities_holdout)"
   ]
  },
  {
   "cell_type": "code",
   "execution_count": 101,
   "id": "d16f4845",
   "metadata": {},
   "outputs": [
    {
     "name": "stdout",
     "output_type": "stream",
     "text": [
      "0  (no fast growth):  3735\n",
      "1  (fast growth):  74\n"
     ]
    }
   ],
   "source": [
    "# Confusion table with different thresholds ----------------------------------------------------------\n",
    "\n",
    "# default: the threshold 0.5 is used to convert probabilities to binary classes\n",
    "logit_class_prediction = best_model.predict(best_model_X_holdout)\n",
    "\n",
    "values, counts = np.unique(logit_class_prediction.tolist(), return_counts=True)\n",
    "print(values[0],' (no fast growth): ',counts[0])\n",
    "print(values[1],' (fast growth): ',counts[1])"
   ]
  },
  {
   "cell_type": "code",
   "execution_count": 102,
   "id": "479b9777",
   "metadata": {},
   "outputs": [
    {
     "data": {
      "text/html": [
       "<div>\n",
       "<style scoped>\n",
       "    .dataframe tbody tr th:only-of-type {\n",
       "        vertical-align: middle;\n",
       "    }\n",
       "\n",
       "    .dataframe tbody tr th {\n",
       "        vertical-align: top;\n",
       "    }\n",
       "\n",
       "    .dataframe thead th {\n",
       "        text-align: right;\n",
       "    }\n",
       "</style>\n",
       "<table border=\"1\" class=\"dataframe\">\n",
       "  <thead>\n",
       "    <tr style=\"text-align: right;\">\n",
       "      <th></th>\n",
       "      <th>Predicted not fast-growing</th>\n",
       "      <th>Predicted fast-growing</th>\n",
       "    </tr>\n",
       "  </thead>\n",
       "  <tbody>\n",
       "    <tr>\n",
       "      <th>Actual not fast-growing</th>\n",
       "      <td>3153</td>\n",
       "      <td>31</td>\n",
       "    </tr>\n",
       "    <tr>\n",
       "      <th>Actual fast-growing</th>\n",
       "      <td>582</td>\n",
       "      <td>43</td>\n",
       "    </tr>\n",
       "  </tbody>\n",
       "</table>\n",
       "</div>"
      ],
      "text/plain": [
       "                         Predicted not fast-growing  Predicted fast-growing\n",
       "Actual not fast-growing                        3153                      31\n",
       "Actual fast-growing                             582                      43"
      ]
     },
     "execution_count": 102,
     "metadata": {},
     "output_type": "execute_result"
    }
   ],
   "source": [
    "# confusion matrix: summarize different type of errors and successfully predicted cases\n",
    "# positive = \"yes\": explicitly specify the positive case\n",
    "cm_object1 = confusion_matrix(y_holdout, logit_class_prediction, labels=[0,1])\n",
    "cm1 = pd.DataFrame(cm_object1, \n",
    "    index=['Actual not fast-growing', 'Actual fast-growing'], \n",
    "    columns=['Predicted not fast-growing', 'Predicted fast-growing'])\n",
    "cm1"
   ]
  },
  {
   "cell_type": "code",
   "execution_count": 103,
   "id": "bcdbce74",
   "metadata": {},
   "outputs": [
    {
     "data": {
      "text/html": [
       "<div>\n",
       "<style scoped>\n",
       "    .dataframe tbody tr th:only-of-type {\n",
       "        vertical-align: middle;\n",
       "    }\n",
       "\n",
       "    .dataframe tbody tr th {\n",
       "        vertical-align: top;\n",
       "    }\n",
       "\n",
       "    .dataframe thead th {\n",
       "        text-align: right;\n",
       "    }\n",
       "</style>\n",
       "<table border=\"1\" class=\"dataframe\">\n",
       "  <thead>\n",
       "    <tr style=\"text-align: right;\">\n",
       "      <th></th>\n",
       "      <th>Predicted not fast-growing</th>\n",
       "      <th>Predicted fast-growing</th>\n",
       "    </tr>\n",
       "  </thead>\n",
       "  <tbody>\n",
       "    <tr>\n",
       "      <th>Actual not fast-growing</th>\n",
       "      <td>3002</td>\n",
       "      <td>182</td>\n",
       "    </tr>\n",
       "    <tr>\n",
       "      <th>Actual fast-growing</th>\n",
       "      <td>489</td>\n",
       "      <td>136</td>\n",
       "    </tr>\n",
       "  </tbody>\n",
       "</table>\n",
       "</div>"
      ],
      "text/plain": [
       "                         Predicted not fast-growing  Predicted fast-growing\n",
       "Actual not fast-growing                        3002                     182\n",
       "Actual fast-growing                             489                     136"
      ]
     },
     "execution_count": 103,
     "metadata": {},
     "output_type": "execute_result"
    }
   ],
   "source": [
    "# we can apply different thresholds\n",
    "\n",
    "threshold = 0.3\n",
    "holdout_prediction = np.where(logit_predicted_probabilities_holdout < threshold, 0, 1)\n",
    "cm_object1b = confusion_matrix(y_holdout, holdout_prediction, labels=[0,1])\n",
    "cm1b = pd.DataFrame(cm_object1b, \n",
    "    index=['Actual not fast-growing', 'Actual fast-growing'], \n",
    "    columns=['Predicted not fast-growing', 'Predicted fast-growing'])\n",
    "cm1b"
   ]
  },
  {
   "cell_type": "code",
   "execution_count": 104,
   "id": "74c866e2",
   "metadata": {},
   "outputs": [
    {
     "data": {
      "text/plain": [
       "0.166"
      ]
     },
     "execution_count": 104,
     "metadata": {},
     "output_type": "execute_result"
    }
   ],
   "source": [
    "# a sensible choice: mean of predicted probabilities\n",
    "mean_predicted_fast_growth_prob = np.mean(logit_predicted_probabilities_holdout)\n",
    "round(mean_predicted_fast_growth_prob, 3)"
   ]
  },
  {
   "cell_type": "code",
   "execution_count": 105,
   "id": "908b998c",
   "metadata": {},
   "outputs": [
    {
     "data": {
      "text/html": [
       "<div>\n",
       "<style scoped>\n",
       "    .dataframe tbody tr th:only-of-type {\n",
       "        vertical-align: middle;\n",
       "    }\n",
       "\n",
       "    .dataframe tbody tr th {\n",
       "        vertical-align: top;\n",
       "    }\n",
       "\n",
       "    .dataframe thead th {\n",
       "        text-align: right;\n",
       "    }\n",
       "</style>\n",
       "<table border=\"1\" class=\"dataframe\">\n",
       "  <thead>\n",
       "    <tr style=\"text-align: right;\">\n",
       "      <th></th>\n",
       "      <th>Predicted not fast-growing</th>\n",
       "      <th>Predicted fast-growing</th>\n",
       "    </tr>\n",
       "  </thead>\n",
       "  <tbody>\n",
       "    <tr>\n",
       "      <th>Actual not fast-growing</th>\n",
       "      <td>2137</td>\n",
       "      <td>1047</td>\n",
       "    </tr>\n",
       "    <tr>\n",
       "      <th>Actual fast-growing</th>\n",
       "      <td>266</td>\n",
       "      <td>359</td>\n",
       "    </tr>\n",
       "  </tbody>\n",
       "</table>\n",
       "</div>"
      ],
      "text/plain": [
       "                         Predicted not fast-growing  Predicted fast-growing\n",
       "Actual not fast-growing                        2137                    1047\n",
       "Actual fast-growing                             266                     359"
      ]
     },
     "execution_count": 105,
     "metadata": {},
     "output_type": "execute_result"
    }
   ],
   "source": [
    "holdout_prediction = np.where(logit_predicted_probabilities_holdout < mean_predicted_fast_growth_prob, 0, 1)\n",
    "cm_object2 = confusion_matrix(y_holdout, holdout_prediction, labels=[0,1])\n",
    "cm2 = pd.DataFrame(cm_object2, \n",
    "    index=['Actual not fast-growing', 'Actual fast-growing'], \n",
    "    columns=['Predicted not fast-growing', 'Predicted fast-growing'])\n",
    "cm2"
   ]
  },
  {
   "cell_type": "code",
   "execution_count": 106,
   "id": "bef788d7",
   "metadata": {
    "scrolled": false
   },
   "outputs": [
    {
     "data": {
      "image/png": "[encoded data removed]",
      "text/plain": [
       "<Figure size 640x480 with 1 Axes>"
      ]
     },
     "metadata": {},
     "output_type": "display_data"
    },
    {
     "data": {
      "text/plain": [
       "<ggplot: (8782908142818)>"
      ]
     },
     "execution_count": 106,
     "metadata": {},
     "output_type": "execute_result"
    }
   ],
   "source": [
    "# Calibration curve -----------------------------------------------------------\n",
    "# how well do estimated vs actual event probabilities relate to each other?\n",
    "\n",
    "holdout = pd.concat([best_model_X_holdout, y_holdout], axis=1)\n",
    "holdout[\"best_logit_no_loss_pred\"] = logit_predicted_probabilities_holdout\n",
    "create_calibration_plot(holdout, file_name = \"ch17-figure-1-logit-m4-calibration\",\\\n",
    "                        prob_var='best_logit_no_loss_pred', actual_var='fast_growth',\\\n",
    "                        y_lab=\"Actual event probability\", n_bins=10, breaks=None)"
   ]
  },
  {
   "cell_type": "markdown",
   "id": "64a4f911",
   "metadata": {},
   "source": [
    "# PART II: Classification"
   ]
  },
  {
   "cell_type": "markdown",
   "id": "e339845b",
   "metadata": {},
   "source": [
    "## We have a loss function\n",
    "\n",
    "Now I need to define the cost of false negative and false positive\n",
    "\n",
    "Let's see the growth rate of fast-growing firms and non-fast-growing firms"
   ]
  },
  {
   "cell_type": "code",
   "execution_count": 107,
   "id": "896efec2",
   "metadata": {},
   "outputs": [
    {
     "name": "stdout",
     "output_type": "stream",
     "text": [
      "The sales growth rate of fast-growing firms is 78.30 percent\n",
      "The sales growth rate of non-fast-growing firms is -6.36 percent\n"
     ]
    }
   ],
   "source": [
    "print(\"The sales growth rate of fast-growing firms is {:.2f} percent\".format(\n",
    "    data.groupby(['fast_growth'])['d1_sales'].median()[1]*100))\n",
    "print(\"The sales growth rate of non-fast-growing firms is {:.2f} percent\".format(\n",
    "    data.groupby(['fast_growth'])['d1_sales'].median()[0]*100))"
   ]
  },
  {
   "cell_type": "markdown",
   "id": "f0b2163c",
   "metadata": {},
   "source": [
    "Suppose I have 1000 EUR and I want to invest in firms. \n",
    "\n",
    "If I invest in fast-growing firm, I will get 1783 EUR on average (assuming sales growth rate is 1-to-1 correlated with the profit you get as an investor)\n",
    "\n",
    "If I invest in non-fast-growing firm, I will get 936 EUR on average (assuming sales growth rate is 1-to-1 correlated with the profit you get as an investor)\n",
    "\n",
    "That is why FP = 1780, FN = 936"
   ]
  },
  {
   "cell_type": "code",
   "execution_count": 108,
   "id": "b87db4ba",
   "metadata": {},
   "outputs": [],
   "source": [
    "# Introduce loss function\n",
    "# relative cost of of a false negative classification (as compared with a false positive classification)\n",
    "FP = 1781\n",
    "FN = 937\n",
    "cost = FN/FP\n",
    "# the prevalence, or the proportion of cases in the population (n.cases/(n.controls+n.cases))\n",
    "prevelance = y_train.sum()/len(y_train)"
   ]
  },
  {
   "cell_type": "code",
   "execution_count": 109,
   "id": "1f5de00a",
   "metadata": {},
   "outputs": [],
   "source": [
    "# Draw ROC Curve and find optimal threshold with loss function --------------------------\n",
    "# The optimal cut-off is the threshold that maximizes the distance to the identity (diagonal) line\n",
    "\n",
    "best_thresholds_cv = dict()\n",
    "expected_loss_cv = dict()\n",
    "fold5_threshold = dict()\n",
    "fold5_expected_loss = dict()\n",
    "fold5_all_coords = dict()\n",
    "\n",
    "for i, model_name in enumerate(logit_models):\n",
    "    best_thresholds = []\n",
    "    expected_loss =[]\n",
    "    if model_name != 'LASSO':\n",
    "        X = logit_model_vars[i]\n",
    "        c_index = 0\n",
    "    else:\n",
    "        X = normalized_logitvars\n",
    "        c_index = best_lambda_i\n",
    "    fold = 0\n",
    "    for train_index, test_index in k.split(X):\n",
    "        X_fold = X.iloc[test_index,:]\n",
    "        y_fold = y_train.iloc[test_index]\n",
    "        pred_fold = generate_fold_prediction(logit_models[model_name], X_fold, fold, c_index)\n",
    "        false_pos_rate, true_pos_rate, thresholds = roc_curve(y_fold, pred_fold)\n",
    "        optimal_threshold = sorted(list(zip(\n",
    "            np.abs(true_pos_rate + (1 - prevelance)/(cost * prevelance)*(1-false_pos_rate)),\\\n",
    "                                       thresholds)), key=lambda i: i[0], reverse=True)[0][1]\n",
    "        best_thresholds.append(optimal_threshold)\n",
    "        threshold_prediction = np.where(pred_fold < optimal_threshold, 0, 1)\n",
    "        tn, fp, fn, tp = confusion_matrix(y_fold, threshold_prediction, labels=[0,1]).ravel()\n",
    "        curr_exp_loss = (fp*FP + fn*FN)/len(y_fold)\n",
    "        expected_loss.append(curr_exp_loss)\n",
    "        fold = fold+1\n",
    "\n",
    "    best_thresholds_cv[model_name] = np.mean(best_thresholds)\n",
    "    expected_loss_cv[model_name] = np.mean(expected_loss)\n",
    "\n",
    "    # for fold #5\n",
    "    fold5_threshold[model_name] = optimal_threshold\n",
    "    fold5_expected_loss[model_name] = curr_exp_loss\n",
    "\n",
    "    all_coords = pd.DataFrame({\n",
    "        'false_pos': false_pos_rate*sum(y_fold == 0),\n",
    "        'true_pos': true_pos_rate*sum(y_fold == 1),\n",
    "        'false_neg': sum(y_fold == 1) - true_pos_rate*sum(y_fold == 1),\n",
    "        'true_neg': sum(y_fold == 0) - false_pos_rate*sum(y_fold == 0),\n",
    "        'pos': sum(y_fold == 1),\n",
    "        'neg': sum(y_fold == 0),\n",
    "        'n': len(y_fold),\n",
    "        'thresholds': thresholds\n",
    "    })\n",
    "    \n",
    "    fold5_all_coords[model_name] = all_coords"
   ]
  },
  {
   "cell_type": "code",
   "execution_count": 110,
   "id": "c14927b5",
   "metadata": {},
   "outputs": [],
   "source": [
    "logit_summary2 = pd.DataFrame(best_thresholds_cv.items(),columns=['Model', 'Avg of optimal thresholds'])\n",
    "logit_summary2['Threshold for Fold5'] = fold5_threshold.values()\n",
    "logit_summary2['Avg expected loss'] = expected_loss_cv.values()\n",
    "logit_summary2['Expected loss for Fold5'] = fold5_expected_loss.values()"
   ]
  },
  {
   "cell_type": "code",
   "execution_count": 111,
   "id": "cadb386f",
   "metadata": {
    "scrolled": true
   },
   "outputs": [
    {
     "data": {
      "text/html": [
       "<div>\n",
       "<style scoped>\n",
       "    .dataframe tbody tr th:only-of-type {\n",
       "        vertical-align: middle;\n",
       "    }\n",
       "\n",
       "    .dataframe tbody tr th {\n",
       "        vertical-align: top;\n",
       "    }\n",
       "\n",
       "    .dataframe thead th {\n",
       "        text-align: right;\n",
       "    }\n",
       "</style>\n",
       "<table border=\"1\" class=\"dataframe\">\n",
       "  <thead>\n",
       "    <tr style=\"text-align: right;\">\n",
       "      <th></th>\n",
       "      <th>Model</th>\n",
       "      <th>Avg of optimal thresholds</th>\n",
       "      <th>Threshold for Fold5</th>\n",
       "      <th>Avg expected loss</th>\n",
       "      <th>Expected loss for Fold5</th>\n",
       "    </tr>\n",
       "  </thead>\n",
       "  <tbody>\n",
       "    <tr>\n",
       "      <th>0</th>\n",
       "      <td>X1</td>\n",
       "      <td>1.130123</td>\n",
       "      <td>1.542663</td>\n",
       "      <td>155.900093</td>\n",
       "      <td>162.983262</td>\n",
       "    </tr>\n",
       "    <tr>\n",
       "      <th>1</th>\n",
       "      <td>X2</td>\n",
       "      <td>1.188185</td>\n",
       "      <td>1.603432</td>\n",
       "      <td>155.887864</td>\n",
       "      <td>162.983262</td>\n",
       "    </tr>\n",
       "    <tr>\n",
       "      <th>2</th>\n",
       "      <td>X3</td>\n",
       "      <td>1.274898</td>\n",
       "      <td>1.986992</td>\n",
       "      <td>155.949371</td>\n",
       "      <td>162.983262</td>\n",
       "    </tr>\n",
       "    <tr>\n",
       "      <th>3</th>\n",
       "      <td>X4</td>\n",
       "      <td>0.637328</td>\n",
       "      <td>0.670993</td>\n",
       "      <td>154.394153</td>\n",
       "      <td>162.307187</td>\n",
       "    </tr>\n",
       "    <tr>\n",
       "      <th>4</th>\n",
       "      <td>X5</td>\n",
       "      <td>0.889903</td>\n",
       "      <td>1.999953</td>\n",
       "      <td>154.801142</td>\n",
       "      <td>162.983262</td>\n",
       "    </tr>\n",
       "    <tr>\n",
       "      <th>5</th>\n",
       "      <td>LASSO</td>\n",
       "      <td>0.920649</td>\n",
       "      <td>1.999922</td>\n",
       "      <td>155.095905</td>\n",
       "      <td>162.983262</td>\n",
       "    </tr>\n",
       "  </tbody>\n",
       "</table>\n",
       "</div>"
      ],
      "text/plain": [
       "   Model  Avg of optimal thresholds  Threshold for Fold5  Avg expected loss  \\\n",
       "0     X1                   1.130123             1.542663         155.900093   \n",
       "1     X2                   1.188185             1.603432         155.887864   \n",
       "2     X3                   1.274898             1.986992         155.949371   \n",
       "3     X4                   0.637328             0.670993         154.394153   \n",
       "4     X5                   0.889903             1.999953         154.801142   \n",
       "5  LASSO                   0.920649             1.999922         155.095905   \n",
       "\n",
       "   Expected loss for Fold5  \n",
       "0               162.983262  \n",
       "1               162.983262  \n",
       "2               162.983262  \n",
       "3               162.307187  \n",
       "4               162.983262  \n",
       "5               162.983262  "
      ]
     },
     "execution_count": 111,
     "metadata": {},
     "output_type": "execute_result"
    }
   ],
   "source": [
    "logit_summary2"
   ]
  },
  {
   "cell_type": "code",
   "execution_count": 112,
   "id": "729512d0",
   "metadata": {},
   "outputs": [
    {
     "data": {
      "image/png": "[encoded data removed]",
      "text/plain": [
       "<Figure size 640x480 with 1 Axes>"
      ]
     },
     "metadata": {},
     "output_type": "display_data"
    },
    {
     "data": {
      "text/plain": [
       "<ggplot: (8782928483434)>"
      ]
     },
     "execution_count": 112,
     "metadata": {},
     "output_type": "execute_result"
    }
   ],
   "source": [
    "# Create loss plot based on Fold5 in CV ----------------------------------------------\n",
    "# select model to plot\n",
    "model_to_plot = 'X1'\n",
    "create_loss_plot(fold5_all_coords[model_to_plot], fold5_threshold[model_to_plot], fold5_expected_loss[model_to_plot])"
   ]
  },
  {
   "cell_type": "code",
   "execution_count": 113,
   "id": "740d339e",
   "metadata": {},
   "outputs": [
    {
     "data": {
      "image/png": "[encoded data removed]",
      "text/plain": [
       "<Figure size 640x480 with 1 Axes>"
      ]
     },
     "metadata": {},
     "output_type": "display_data"
    },
    {
     "data": {
      "text/plain": [
       "<ggplot: (8782928467050)>"
      ]
     },
     "execution_count": 113,
     "metadata": {},
     "output_type": "execute_result"
    }
   ],
   "source": [
    "# Create roc plot plot based on Fold5 in CV ----------------------------------------------\n",
    "# select model to plot\n",
    "model_to_plot = 'X1'\n",
    "create_roc_plot_with_optimal(fold5_all_coords[model_to_plot], fold5_threshold[model_to_plot])"
   ]
  },
  {
   "cell_type": "code",
   "execution_count": 114,
   "id": "b225cdb5",
   "metadata": {},
   "outputs": [
    {
     "data": {
      "text/plain": [
       "152.888"
      ]
     },
     "execution_count": 114,
     "metadata": {},
     "output_type": "execute_result"
    }
   ],
   "source": [
    "# Pick best model based on average expected loss ----------------------------------\n",
    "#X4\n",
    "best_logit_optimal_threshold = best_thresholds_cv[\"X4\"]\n",
    "\n",
    "# Get expected loss on holdout\n",
    "holdout_threshold = np.where(logit_predicted_probabilities_holdout < best_logit_optimal_threshold, 0, 1)\n",
    "tn, fp, fn, tp = confusion_matrix(y_holdout, holdout_threshold, labels=[0,1]).ravel()\n",
    "expected_loss_holdout = (fp*FP + fn*FN)/len(y_holdout)\n",
    "round(expected_loss_holdout, 3)"
   ]
  },
  {
   "cell_type": "code",
   "execution_count": 115,
   "id": "33fa95a9",
   "metadata": {},
   "outputs": [
    {
     "data": {
      "text/html": [
       "<div>\n",
       "<style scoped>\n",
       "    .dataframe tbody tr th:only-of-type {\n",
       "        vertical-align: middle;\n",
       "    }\n",
       "\n",
       "    .dataframe tbody tr th {\n",
       "        vertical-align: top;\n",
       "    }\n",
       "\n",
       "    .dataframe thead th {\n",
       "        text-align: right;\n",
       "    }\n",
       "</style>\n",
       "<table border=\"1\" class=\"dataframe\">\n",
       "  <thead>\n",
       "    <tr style=\"text-align: right;\">\n",
       "      <th></th>\n",
       "      <th>Predicted not fast-growing</th>\n",
       "      <th>Predicted fast-growing</th>\n",
       "    </tr>\n",
       "  </thead>\n",
       "  <tbody>\n",
       "    <tr>\n",
       "      <th>Actual not fast-growing</th>\n",
       "      <td>3179</td>\n",
       "      <td>5</td>\n",
       "    </tr>\n",
       "    <tr>\n",
       "      <th>Actual fast-growing</th>\n",
       "      <td>612</td>\n",
       "      <td>13</td>\n",
       "    </tr>\n",
       "  </tbody>\n",
       "</table>\n",
       "</div>"
      ],
      "text/plain": [
       "                         Predicted not fast-growing  Predicted fast-growing\n",
       "Actual not fast-growing                        3179                       5\n",
       "Actual fast-growing                             612                      13"
      ]
     },
     "execution_count": 115,
     "metadata": {},
     "output_type": "execute_result"
    }
   ],
   "source": [
    "cm_object3 = confusion_matrix(y_holdout, holdout_threshold, labels=[0,1])\n",
    "cm3 = pd.DataFrame(cm_object3, \n",
    "    index=['Actual not fast-growing', 'Actual fast-growing'], \n",
    "    columns=['Predicted not fast-growing', 'Predicted fast-growing'])\n",
    "cm3"
   ]
  },
  {
   "cell_type": "markdown",
   "id": "fde10d75",
   "metadata": {},
   "source": [
    "# PREDICTION WITH RANDOM FOREST"
   ]
  },
  {
   "cell_type": "code",
   "execution_count": 118,
   "id": "52cff6f7",
   "metadata": {},
   "outputs": [],
   "source": [
    "rfvars.fillna(rfvars.mean(), inplace=True)\n",
    "rfvars_train = rfvars.iloc[index_train]\n",
    "rfvars_holdout = rfvars.iloc[index_holdout]"
   ]
  },
  {
   "cell_type": "markdown",
   "id": "2936d1e8",
   "metadata": {},
   "source": [
    "## Graph example"
   ]
  },
  {
   "cell_type": "code",
   "execution_count": 119,
   "id": "9f804bc3",
   "metadata": {},
   "outputs": [
    {
     "data": {
      "text/plain": [
       "<Figure size 640x480 with 0 Axes>"
      ]
     },
     "metadata": {},
     "output_type": "display_data"
    },
    {
     "data": {
      "image/png": "[encoded data removed]",
      "text/plain": [
       "<Figure size 1100x1100 with 1 Axes>"
      ]
     },
     "metadata": {},
     "output_type": "display_data"
    }
   ],
   "source": [
    "from sklearn.tree import DecisionTreeClassifier\n",
    "from sklearn.tree import plot_tree\n",
    "\n",
    "data_for_graph = rfvars_train[['sales','profit_loss_year','foreign_management']]\n",
    "rf_for_graph = DecisionTreeClassifier(ccp_alpha=0.0028, min_samples_leaf=100, max_depth=3, random_state=41).fit(\n",
    "    data_for_graph, y_train)\n",
    "\n",
    "plt.figure()\n",
    "plt.figure(figsize=(11,11))\n",
    "plot_tree(rf_for_graph, \n",
    "          feature_names = data_for_graph.columns, filled=True, rounded=True, proportion=True, fontsize = 10)\n",
    "plt.title(\"Decision trees\")\n",
    "plt.show() "
   ]
  },
  {
   "cell_type": "markdown",
   "id": "2fe5eb31",
   "metadata": {},
   "source": [
    "## Probability forest\n",
    "\n",
    "Split by gini, ratio of 1's in each tree, average over trees"
   ]
  },
  {
   "cell_type": "code",
   "execution_count": 120,
   "id": "7a38e09c",
   "metadata": {},
   "outputs": [],
   "source": [
    "grid = {'max_features': [5, 6, 7],\n",
    "        'criterion':['gini'],\n",
    "        'min_samples_split': [11, 16]} #1 more than in R because here condition for min node size is >= while > in R "
   ]
  },
  {
   "cell_type": "code",
   "execution_count": 121,
   "id": "952bcc86",
   "metadata": {},
   "outputs": [],
   "source": [
    "prob_forest = RandomForestClassifier(random_state=42, n_estimators=500, oob_score=True)\n",
    "prob_forest_grid = GridSearchCV(prob_forest, grid, cv=k, refit='accuracy',\n",
    "                                scoring = ['accuracy', 'roc_auc', 'neg_brier_score'], n_jobs=-1)"
   ]
  },
  {
   "cell_type": "code",
   "execution_count": 122,
   "id": "a33f5829",
   "metadata": {},
   "outputs": [],
   "source": [
    "prob_forest_fit = prob_forest_grid.fit(rfvars_train, y_train)"
   ]
  },
  {
   "cell_type": "code",
   "execution_count": 123,
   "id": "3cea5dc3",
   "metadata": {},
   "outputs": [],
   "source": [
    "#create CV summary table\n",
    "cv_accuracy = np.zeros([6])\n",
    "for i in range(5):\n",
    "    cv_accuracy = cv_accuracy + prob_forest_fit.cv_results_['split' + str(i) + '_test_accuracy']\n",
    "cv_accuracy = cv_accuracy/5\n",
    "\n",
    "cv_auc = np.zeros([6])\n",
    "for i in range(5):\n",
    "    cv_auc = cv_auc + prob_forest_fit.cv_results_['split' + str(i) + '_test_roc_auc']\n",
    "cv_auc = cv_auc/5\n",
    "\n",
    "cv_rmse = np.zeros([6])\n",
    "for i in range(5):\n",
    "    cv_rmse = cv_rmse +np.sqrt(-1*(prob_forest_fit.cv_results_['split' + str(i) + '_test_neg_brier_score'])).tolist()\n",
    "cv_rmse = cv_rmse/5\n",
    "\n",
    "prob_forest_cv_results = pd.DataFrame({\n",
    "    'max_features': prob_forest_fit.cv_results_['param_max_features'],\n",
    "    'min_samples_split': prob_forest_fit.cv_results_['param_min_samples_split'],\n",
    "    'cv_accuracy': cv_accuracy,\n",
    "    'cv_auc': cv_auc,\n",
    "    'cv_rmse': cv_rmse\n",
    "})"
   ]
  },
  {
   "cell_type": "code",
   "execution_count": 124,
   "id": "dacb359d",
   "metadata": {},
   "outputs": [
    {
     "data": {
      "text/html": [
       "<div>\n",
       "<style scoped>\n",
       "    .dataframe tbody tr th:only-of-type {\n",
       "        vertical-align: middle;\n",
       "    }\n",
       "\n",
       "    .dataframe tbody tr th {\n",
       "        vertical-align: top;\n",
       "    }\n",
       "\n",
       "    .dataframe thead th {\n",
       "        text-align: right;\n",
       "    }\n",
       "</style>\n",
       "<table border=\"1\" class=\"dataframe\">\n",
       "  <thead>\n",
       "    <tr style=\"text-align: right;\">\n",
       "      <th></th>\n",
       "      <th>max_features</th>\n",
       "      <th>min_samples_split</th>\n",
       "      <th>cv_accuracy</th>\n",
       "      <th>cv_auc</th>\n",
       "      <th>cv_rmse</th>\n",
       "    </tr>\n",
       "  </thead>\n",
       "  <tbody>\n",
       "    <tr>\n",
       "      <th>0</th>\n",
       "      <td>5</td>\n",
       "      <td>11</td>\n",
       "      <td>0.839262</td>\n",
       "      <td>0.673936</td>\n",
       "      <td>0.358153</td>\n",
       "    </tr>\n",
       "    <tr>\n",
       "      <th>1</th>\n",
       "      <td>5</td>\n",
       "      <td>16</td>\n",
       "      <td>0.839656</td>\n",
       "      <td>0.674524</td>\n",
       "      <td>0.357880</td>\n",
       "    </tr>\n",
       "    <tr>\n",
       "      <th>2</th>\n",
       "      <td>6</td>\n",
       "      <td>11</td>\n",
       "      <td>0.839590</td>\n",
       "      <td>0.673340</td>\n",
       "      <td>0.358278</td>\n",
       "    </tr>\n",
       "    <tr>\n",
       "      <th>3</th>\n",
       "      <td>6</td>\n",
       "      <td>16</td>\n",
       "      <td>0.839722</td>\n",
       "      <td>0.674963</td>\n",
       "      <td>0.358013</td>\n",
       "    </tr>\n",
       "    <tr>\n",
       "      <th>4</th>\n",
       "      <td>7</td>\n",
       "      <td>11</td>\n",
       "      <td>0.839394</td>\n",
       "      <td>0.671758</td>\n",
       "      <td>0.358561</td>\n",
       "    </tr>\n",
       "    <tr>\n",
       "      <th>5</th>\n",
       "      <td>7</td>\n",
       "      <td>16</td>\n",
       "      <td>0.840312</td>\n",
       "      <td>0.673676</td>\n",
       "      <td>0.358234</td>\n",
       "    </tr>\n",
       "  </tbody>\n",
       "</table>\n",
       "</div>"
      ],
      "text/plain": [
       "  max_features min_samples_split  cv_accuracy    cv_auc   cv_rmse\n",
       "0            5                11     0.839262  0.673936  0.358153\n",
       "1            5                16     0.839656  0.674524  0.357880\n",
       "2            6                11     0.839590  0.673340  0.358278\n",
       "3            6                16     0.839722  0.674963  0.358013\n",
       "4            7                11     0.839394  0.671758  0.358561\n",
       "5            7                16     0.840312  0.673676  0.358234"
      ]
     },
     "execution_count": 124,
     "metadata": {},
     "output_type": "execute_result"
    }
   ],
   "source": [
    "prob_forest_cv_results"
   ]
  },
  {
   "cell_type": "code",
   "execution_count": 125,
   "id": "690a73f7",
   "metadata": {},
   "outputs": [
    {
     "data": {
      "text/plain": [
       "{'criterion': 'gini', 'max_features': 7, 'min_samples_split': 16}"
      ]
     },
     "execution_count": 125,
     "metadata": {},
     "output_type": "execute_result"
    }
   ],
   "source": [
    "#obtain optimal parameter values\n",
    "best_mtry = prob_forest_fit.best_params_['max_features']\n",
    "best_min_node_size = prob_forest_fit.best_params_['min_samples_split']\n",
    "prob_forest_fit.best_params_"
   ]
  },
  {
   "cell_type": "code",
   "execution_count": 126,
   "id": "5410616e",
   "metadata": {},
   "outputs": [],
   "source": [
    "# Get average (ie over the folds) RMSE and AUC ------------------------------------\n",
    "prob_forest_best_results = prob_forest_cv_results[(prob_forest_cv_results.max_features == best_mtry) & \n",
    "                      (prob_forest_cv_results.min_samples_split == best_min_node_size)]\n",
    "prob_forest_best_results_index = prob_forest_best_results.index.values[0]\n",
    "\n",
    "CV_RMSE['rf_p'] = prob_forest_best_results.cv_rmse.values[0]\n",
    "CV_AUC['rf_p'] = prob_forest_best_results.cv_auc.values[0]"
   ]
  },
  {
   "cell_type": "code",
   "execution_count": 127,
   "id": "eae8b0bb",
   "metadata": {},
   "outputs": [],
   "source": [
    "# Get fold level RMSE and AUC ------------------------------------\n",
    "\n",
    "CV_RMSE_folds_rf_p = list()\n",
    "for i in range(5):\n",
    "    rmse = np.sqrt(-1*(prob_forest_fit.cv_results_['split' + str(i) + '_test_neg_brier_score'])).tolist()[prob_forest_best_results_index]\n",
    "    CV_RMSE_folds_rf_p.append(rmse)\n",
    "CV_RMSE_folds['rf_p'] = CV_RMSE_folds_rf_p\n",
    "\n",
    "CV_AUC_folds_rf_p = list()\n",
    "for i in range(5):\n",
    "    rmse = prob_forest_fit.cv_results_['split' + str(i) + '_test_roc_auc'][prob_forest_best_results_index]\n",
    "    CV_AUC_folds_rf_p.append(rmse)\n",
    "CV_AUC_folds['rf_p'] = CV_AUC_folds_rf_p"
   ]
  },
  {
   "cell_type": "code",
   "execution_count": 128,
   "id": "ace852b4",
   "metadata": {},
   "outputs": [],
   "source": [
    "# Now use loss function and search for best thresholds and expected loss over folds -----\n",
    "best_thresholds = list()\n",
    "expected_loss = list()\n",
    "\n",
    "fold = 0\n",
    "for train_index, test_index in k.split(rfvars_train):\n",
    "    X_fold = rfvars_train.iloc[test_index,:]\n",
    "    y_fold = y_train.iloc[test_index]\n",
    "    \n",
    "    X_fold_train = rfvars_train.iloc[train_index,:]\n",
    "    y_fold_train = y_train.iloc[train_index]\n",
    "    \n",
    "    prob_forest_best = RandomForestClassifier(random_state=42, n_estimators=500, oob_score=True,\n",
    "                    criterion = 'gini', max_features = best_mtry, min_samples_split = best_min_node_size)\n",
    "    prob_forest_best_fold = prob_forest_best.fit(X_fold_train, y_fold_train)\n",
    "    pred_fold = prob_forest_best_fold.predict_proba(X_fold)[:,1]\n",
    "\n",
    "    false_pos_rate, true_pos_rate, threshold = roc_curve(y_fold, pred_fold)\n",
    "    best_threshold = sorted(list(zip(np.abs(true_pos_rate + (1 - prevelance)/(cost * prevelance)*(1-false_pos_rate)),\\\n",
    "                                       threshold)), key=lambda x: x[0], reverse=True)[0][1]\n",
    "    best_thresholds.append(best_threshold)\n",
    "    threshold_prediction = np.where(pred_fold < best_threshold, 0, 1)\n",
    "    tn, fp, fn, tp = confusion_matrix(y_fold, threshold_prediction, labels=[0,1]).ravel()\n",
    "    curr_exp_loss = (fp*FP + fn*FN)/len(y_fold)\n",
    "    expected_loss.append(curr_exp_loss)\n",
    "    \n",
    "fold5_threshold_rf = best_threshold\n",
    "fold5_expected_loss_rf = curr_exp_loss\n",
    "\n",
    "all_coords_rf = pd.DataFrame({\n",
    "    'false_pos': false_pos_rate*sum(y_fold == 0),\n",
    "    'true_pos': true_pos_rate*sum(y_fold == 1),\n",
    "    'false_neg': sum(y_fold == 1) - true_pos_rate*sum(y_fold == 1),\n",
    "    'true_neg': sum(y_fold == 0) - false_pos_rate*sum(y_fold == 0),\n",
    "    'pos': sum(y_fold == 1),\n",
    "    'neg': sum(y_fold == 0),\n",
    "    'n': len(y_fold),\n",
    "    'thresholds': threshold\n",
    "})"
   ]
  },
  {
   "cell_type": "code",
   "execution_count": 129,
   "id": "2509f0a0",
   "metadata": {},
   "outputs": [],
   "source": [
    "fold5_threshold_rf = best_threshold\n",
    "fold5_expected_loss_rf = curr_exp_loss\n",
    "\n",
    "all_coords_rf = pd.DataFrame({\n",
    "    'false_pos': false_pos_rate*sum(y_fold == 0),\n",
    "    'true_pos': true_pos_rate*sum(y_fold == 1),\n",
    "    'false_neg': sum(y_fold == 1) - true_pos_rate*sum(y_fold == 1),\n",
    "    'true_neg': sum(y_fold == 0) - false_pos_rate*sum(y_fold == 0),\n",
    "    'pos': sum(y_fold == 1),\n",
    "    'neg': sum(y_fold == 0),\n",
    "    'n': len(y_fold),\n",
    "    'thresholds': threshold\n",
    "})"
   ]
  },
  {
   "cell_type": "code",
   "execution_count": 130,
   "id": "319e5b5b",
   "metadata": {},
   "outputs": [],
   "source": [
    "expected_loss_cv['rf_p'] = np.mean(expected_loss)\n",
    "best_thresholds_cv['rf_p'] = np.mean(best_thresholds)"
   ]
  },
  {
   "cell_type": "code",
   "execution_count": 131,
   "id": "c9d5e5e3",
   "metadata": {},
   "outputs": [
    {
     "data": {
      "text/html": [
       "<div>\n",
       "<style scoped>\n",
       "    .dataframe tbody tr th:only-of-type {\n",
       "        vertical-align: middle;\n",
       "    }\n",
       "\n",
       "    .dataframe tbody tr th {\n",
       "        vertical-align: top;\n",
       "    }\n",
       "\n",
       "    .dataframe thead th {\n",
       "        text-align: right;\n",
       "    }\n",
       "</style>\n",
       "<table border=\"1\" class=\"dataframe\">\n",
       "  <thead>\n",
       "    <tr style=\"text-align: right;\">\n",
       "      <th></th>\n",
       "      <th>CV RMSE</th>\n",
       "      <th>CV AUC</th>\n",
       "      <th>Avg of optimal thresholds</th>\n",
       "      <th>Threshold for Fold5</th>\n",
       "      <th>Avg expected loss</th>\n",
       "      <th>Expected loss for Fold5</th>\n",
       "    </tr>\n",
       "  </thead>\n",
       "  <tbody>\n",
       "    <tr>\n",
       "      <th>0</th>\n",
       "      <td>0.358</td>\n",
       "      <td>0.674</td>\n",
       "      <td>0.631</td>\n",
       "      <td>0.561</td>\n",
       "      <td>152.993</td>\n",
       "      <td>158.035</td>\n",
       "    </tr>\n",
       "  </tbody>\n",
       "</table>\n",
       "</div>"
      ],
      "text/plain": [
       "   CV RMSE  CV AUC  Avg of optimal thresholds  Threshold for Fold5  \\\n",
       "0    0.358   0.674                      0.631                0.561   \n",
       "\n",
       "   Avg expected loss  Expected loss for Fold5  \n",
       "0            152.993                  158.035  "
      ]
     },
     "execution_count": 131,
     "metadata": {},
     "output_type": "execute_result"
    }
   ],
   "source": [
    "rf_summary = pd.DataFrame(\n",
    "    {'CV RMSE': [round(CV_RMSE['rf_p'], 3)],\n",
    "     'CV AUC': [round(CV_AUC['rf_p'], 3)],\n",
    "     'Avg of optimal thresholds': [round(best_thresholds_cv['rf_p'], 3)],\n",
    "     'Threshold for Fold5': [round(best_threshold, 3)],\n",
    "     'Avg expected loss': [round(expected_loss_cv['rf_p'], 3)],\n",
    "     'Expected loss for Fold5': [round(curr_exp_loss, 3)]})\n",
    "\n",
    "rf_summary"
   ]
  },
  {
   "cell_type": "code",
   "execution_count": 132,
   "id": "ee8b338a",
   "metadata": {},
   "outputs": [
    {
     "data": {
      "image/png": "[encoded data removed]",
      "text/plain": [
       "<Figure size 640x480 with 1 Axes>"
      ]
     },
     "metadata": {},
     "output_type": "display_data"
    },
    {
     "data": {
      "text/plain": [
       "<ggplot: (8782942056888)>"
      ]
     },
     "execution_count": 132,
     "metadata": {},
     "output_type": "execute_result"
    }
   ],
   "source": [
    "# Create plots based on Fold5 in CV ----------------------------------------------\n",
    "create_loss_plot(all_coords_rf, fold5_threshold_rf, fold5_expected_loss_rf)"
   ]
  },
  {
   "cell_type": "code",
   "execution_count": 133,
   "id": "28be1b61",
   "metadata": {},
   "outputs": [
    {
     "data": {
      "image/png": "[encoded data removed]",
      "text/plain": [
       "<Figure size 640x480 with 1 Axes>"
      ]
     },
     "metadata": {},
     "output_type": "display_data"
    },
    {
     "data": {
      "text/plain": [
       "<ggplot: (8782908370408)>"
      ]
     },
     "execution_count": 133,
     "metadata": {},
     "output_type": "execute_result"
    }
   ],
   "source": [
    "create_roc_plot_with_optimal(all_coords_rf, fold5_threshold_rf)"
   ]
  },
  {
   "cell_type": "code",
   "execution_count": 134,
   "id": "461fad1a",
   "metadata": {},
   "outputs": [
    {
     "data": {
      "text/plain": [
       "0.357"
      ]
     },
     "execution_count": 134,
     "metadata": {},
     "output_type": "execute_result"
    }
   ],
   "source": [
    "# Take model to holdout and estimate RMSE, AUC and expected loss ------------------------------------\n",
    "prob_forest_fit_best = prob_forest_fit.best_estimator_\n",
    "rf_predicted_probabilities_holdout = prob_forest_fit_best.predict_proba(rfvars_holdout)[:,1]\n",
    "rmse_rf = np.sqrt(mean_squared_error(y_holdout, rf_predicted_probabilities_holdout))\n",
    "round(rmse_rf, 3)"
   ]
  },
  {
   "cell_type": "code",
   "execution_count": 135,
   "id": "1a748afd",
   "metadata": {},
   "outputs": [
    {
     "data": {
      "text/plain": [
       "0.678"
      ]
     },
     "execution_count": 135,
     "metadata": {},
     "output_type": "execute_result"
    }
   ],
   "source": [
    "# ROC AUC  on holdout\n",
    "auc_rf = roc_auc_score(y_holdout, rf_predicted_probabilities_holdout)\n",
    "round(auc_rf, 3)"
   ]
  },
  {
   "cell_type": "code",
   "execution_count": 136,
   "id": "591cb000",
   "metadata": {},
   "outputs": [
    {
     "data": {
      "text/plain": [
       "151.166"
      ]
     },
     "execution_count": 136,
     "metadata": {},
     "output_type": "execute_result"
    }
   ],
   "source": [
    "# Get expected loss on holdout\n",
    "holdout_threshold = np.where(rf_predicted_probabilities_holdout < best_thresholds_cv['rf_p'], 0, 1)\n",
    "tn, fp, fn, tp = confusion_matrix(y_holdout, holdout_threshold, labels=[0,1]).ravel()\n",
    "expected_loss_holdout = (fp*FP + fn*FN)/len(y_holdout)\n",
    "round(expected_loss_holdout, 3)"
   ]
  },
  {
   "cell_type": "code",
   "execution_count": 137,
   "id": "2caa1099",
   "metadata": {},
   "outputs": [
    {
     "data": {
      "text/html": [
       "<div>\n",
       "<style scoped>\n",
       "    .dataframe tbody tr th:only-of-type {\n",
       "        vertical-align: middle;\n",
       "    }\n",
       "\n",
       "    .dataframe tbody tr th {\n",
       "        vertical-align: top;\n",
       "    }\n",
       "\n",
       "    .dataframe thead th {\n",
       "        text-align: right;\n",
       "    }\n",
       "</style>\n",
       "<table border=\"1\" class=\"dataframe\">\n",
       "  <thead>\n",
       "    <tr style=\"text-align: right;\">\n",
       "      <th></th>\n",
       "      <th>Predicted not fast-growing</th>\n",
       "      <th>Predicted fast-growing</th>\n",
       "    </tr>\n",
       "  </thead>\n",
       "  <tbody>\n",
       "    <tr>\n",
       "      <th>Actual not fast-growing</th>\n",
       "      <td>3179</td>\n",
       "      <td>5</td>\n",
       "    </tr>\n",
       "    <tr>\n",
       "      <th>Actual fast-growing</th>\n",
       "      <td>605</td>\n",
       "      <td>20</td>\n",
       "    </tr>\n",
       "  </tbody>\n",
       "</table>\n",
       "</div>"
      ],
      "text/plain": [
       "                         Predicted not fast-growing  Predicted fast-growing\n",
       "Actual not fast-growing                        3179                       5\n",
       "Actual fast-growing                             605                      20"
      ]
     },
     "execution_count": 137,
     "metadata": {},
     "output_type": "execute_result"
    }
   ],
   "source": [
    "cm_object4 = confusion_matrix(y_holdout, holdout_threshold, labels=[0,1])\n",
    "cm4 = pd.DataFrame(cm_object4, \n",
    "    index=['Actual not fast-growing', 'Actual fast-growing'], \n",
    "    columns=['Predicted not fast-growing', 'Predicted fast-growing'])\n",
    "cm4"
   ]
  },
  {
   "cell_type": "markdown",
   "id": "dcd3e80a",
   "metadata": {},
   "source": [
    "## Final results"
   ]
  },
  {
   "cell_type": "code",
   "execution_count": 138,
   "id": "11c3091d",
   "metadata": {},
   "outputs": [],
   "source": [
    "#Note: in R length(rfvars) counts 1 for category variables (39), here they count category number-1 (44)\n",
    "nvars['rf_p'] = len(rfvars.columns)"
   ]
  },
  {
   "cell_type": "code",
   "execution_count": 139,
   "id": "b9b9aa8a",
   "metadata": {},
   "outputs": [],
   "source": [
    "summary_results = pd.DataFrame({\"Model\": list(nvars.keys()),\n",
    "                              \"Number of predictors\": list(nvars.values()),\n",
    "                              \"CV RMSE\": list(CV_RMSE.values()),\n",
    "                              \"CV AUC\": list(CV_AUC.values()),\n",
    "                              \"CV threshold\": list(best_thresholds_cv.values()),\n",
    "                              \"CV expected Loss\": list(expected_loss_cv.values())\n",
    "                               })"
   ]
  },
  {
   "cell_type": "markdown",
   "id": "6c0db154",
   "metadata": {},
   "source": [
    "# PART III Discussion of results"
   ]
  },
  {
   "cell_type": "code",
   "execution_count": 140,
   "id": "79444cd4",
   "metadata": {},
   "outputs": [
    {
     "data": {
      "text/html": [
       "<div>\n",
       "<style scoped>\n",
       "    .dataframe tbody tr th:only-of-type {\n",
       "        vertical-align: middle;\n",
       "    }\n",
       "\n",
       "    .dataframe tbody tr th {\n",
       "        vertical-align: top;\n",
       "    }\n",
       "\n",
       "    .dataframe thead th {\n",
       "        text-align: right;\n",
       "    }\n",
       "</style>\n",
       "<table border=\"1\" class=\"dataframe\">\n",
       "  <thead>\n",
       "    <tr style=\"text-align: right;\">\n",
       "      <th></th>\n",
       "      <th>Model</th>\n",
       "      <th>Number of predictors</th>\n",
       "      <th>CV RMSE</th>\n",
       "      <th>CV AUC</th>\n",
       "      <th>CV threshold</th>\n",
       "      <th>CV expected Loss</th>\n",
       "    </tr>\n",
       "  </thead>\n",
       "  <tbody>\n",
       "    <tr>\n",
       "      <th>0</th>\n",
       "      <td>X1</td>\n",
       "      <td>11</td>\n",
       "      <td>0.369202</td>\n",
       "      <td>0.597642</td>\n",
       "      <td>1.130123</td>\n",
       "      <td>155.900093</td>\n",
       "    </tr>\n",
       "    <tr>\n",
       "      <th>1</th>\n",
       "      <td>X2</td>\n",
       "      <td>18</td>\n",
       "      <td>0.364582</td>\n",
       "      <td>0.645786</td>\n",
       "      <td>1.188185</td>\n",
       "      <td>155.887864</td>\n",
       "    </tr>\n",
       "    <tr>\n",
       "      <th>2</th>\n",
       "      <td>X3</td>\n",
       "      <td>39</td>\n",
       "      <td>0.361908</td>\n",
       "      <td>0.663511</td>\n",
       "      <td>1.274898</td>\n",
       "      <td>155.949371</td>\n",
       "    </tr>\n",
       "    <tr>\n",
       "      <th>3</th>\n",
       "      <td>X4</td>\n",
       "      <td>83</td>\n",
       "      <td>0.359364</td>\n",
       "      <td>0.669700</td>\n",
       "      <td>0.637328</td>\n",
       "      <td>154.394153</td>\n",
       "    </tr>\n",
       "    <tr>\n",
       "      <th>4</th>\n",
       "      <td>X5</td>\n",
       "      <td>164</td>\n",
       "      <td>0.359817</td>\n",
       "      <td>0.669209</td>\n",
       "      <td>0.889903</td>\n",
       "      <td>154.801142</td>\n",
       "    </tr>\n",
       "    <tr>\n",
       "      <th>5</th>\n",
       "      <td>LASSO</td>\n",
       "      <td>131</td>\n",
       "      <td>0.359821</td>\n",
       "      <td>0.669833</td>\n",
       "      <td>0.920649</td>\n",
       "      <td>155.095905</td>\n",
       "    </tr>\n",
       "    <tr>\n",
       "      <th>6</th>\n",
       "      <td>rf_p</td>\n",
       "      <td>45</td>\n",
       "      <td>0.358234</td>\n",
       "      <td>0.673676</td>\n",
       "      <td>0.630669</td>\n",
       "      <td>152.992638</td>\n",
       "    </tr>\n",
       "  </tbody>\n",
       "</table>\n",
       "</div>"
      ],
      "text/plain": [
       "   Model  Number of predictors   CV RMSE    CV AUC  CV threshold  \\\n",
       "0     X1                    11  0.369202  0.597642      1.130123   \n",
       "1     X2                    18  0.364582  0.645786      1.188185   \n",
       "2     X3                    39  0.361908  0.663511      1.274898   \n",
       "3     X4                    83  0.359364  0.669700      0.637328   \n",
       "4     X5                   164  0.359817  0.669209      0.889903   \n",
       "5  LASSO                   131  0.359821  0.669833      0.920649   \n",
       "6   rf_p                    45  0.358234  0.673676      0.630669   \n",
       "\n",
       "   CV expected Loss  \n",
       "0        155.900093  \n",
       "1        155.887864  \n",
       "2        155.949371  \n",
       "3        154.394153  \n",
       "4        154.801142  \n",
       "5        155.095905  \n",
       "6        152.992638  "
      ]
     },
     "execution_count": 140,
     "metadata": {},
     "output_type": "execute_result"
    }
   ],
   "source": [
    "summary_results"
   ]
  },
  {
   "cell_type": "markdown",
   "id": "606ddc8c",
   "metadata": {},
   "source": [
    "Summary results show us that the random forest gives the less expected loss.\n",
    "\n",
    "To understand how random forest predicts the fast growing firms, let’s look on the confusion matrix."
   ]
  },
  {
   "cell_type": "code",
   "execution_count": 141,
   "id": "949ba275",
   "metadata": {},
   "outputs": [
    {
     "data": {
      "text/html": [
       "<div>\n",
       "<style scoped>\n",
       "    .dataframe tbody tr th:only-of-type {\n",
       "        vertical-align: middle;\n",
       "    }\n",
       "\n",
       "    .dataframe tbody tr th {\n",
       "        vertical-align: top;\n",
       "    }\n",
       "\n",
       "    .dataframe thead th {\n",
       "        text-align: right;\n",
       "    }\n",
       "</style>\n",
       "<table border=\"1\" class=\"dataframe\">\n",
       "  <thead>\n",
       "    <tr style=\"text-align: right;\">\n",
       "      <th></th>\n",
       "      <th>Predicted not fast-growing</th>\n",
       "      <th>Predicted fast-growing</th>\n",
       "    </tr>\n",
       "  </thead>\n",
       "  <tbody>\n",
       "    <tr>\n",
       "      <th>Actual not fast-growing</th>\n",
       "      <td>3179</td>\n",
       "      <td>5</td>\n",
       "    </tr>\n",
       "    <tr>\n",
       "      <th>Actual fast-growing</th>\n",
       "      <td>605</td>\n",
       "      <td>20</td>\n",
       "    </tr>\n",
       "  </tbody>\n",
       "</table>\n",
       "</div>"
      ],
      "text/plain": [
       "                         Predicted not fast-growing  Predicted fast-growing\n",
       "Actual not fast-growing                        3179                       5\n",
       "Actual fast-growing                             605                      20"
      ]
     },
     "execution_count": 141,
     "metadata": {},
     "output_type": "execute_result"
    }
   ],
   "source": [
    "# confusion matrix for random forest\n",
    "cm4"
   ]
  },
  {
   "cell_type": "code",
   "execution_count": 142,
   "id": "e0a62f93",
   "metadata": {},
   "outputs": [
    {
     "data": {
      "text/html": [
       "<div>\n",
       "<style scoped>\n",
       "    .dataframe tbody tr th:only-of-type {\n",
       "        vertical-align: middle;\n",
       "    }\n",
       "\n",
       "    .dataframe tbody tr th {\n",
       "        vertical-align: top;\n",
       "    }\n",
       "\n",
       "    .dataframe thead th {\n",
       "        text-align: right;\n",
       "    }\n",
       "</style>\n",
       "<table border=\"1\" class=\"dataframe\">\n",
       "  <thead>\n",
       "    <tr style=\"text-align: right;\">\n",
       "      <th></th>\n",
       "      <th>Predicted not fast-growing</th>\n",
       "      <th>Predicted fast-growing</th>\n",
       "    </tr>\n",
       "  </thead>\n",
       "  <tbody>\n",
       "    <tr>\n",
       "      <th>Actual not fast-growing</th>\n",
       "      <td>3002</td>\n",
       "      <td>182</td>\n",
       "    </tr>\n",
       "    <tr>\n",
       "      <th>Actual fast-growing</th>\n",
       "      <td>489</td>\n",
       "      <td>136</td>\n",
       "    </tr>\n",
       "  </tbody>\n",
       "</table>\n",
       "</div>"
      ],
      "text/plain": [
       "                         Predicted not fast-growing  Predicted fast-growing\n",
       "Actual not fast-growing                        3002                     182\n",
       "Actual fast-growing                             489                     136"
      ]
     },
     "execution_count": 142,
     "metadata": {},
     "output_type": "execute_result"
    }
   ],
   "source": [
    "# confusion matrix for Model 4, threshold = 0.3\n",
    "cm1b"
   ]
  },
  {
   "cell_type": "markdown",
   "id": "fd459653",
   "metadata": {},
   "source": [
    "Now return to our investor example. The model predicted that there are 25 fast-growing firms. Suppose I invest 1000 EUR to each company. I will spend 25,000 EUR and get in return $5*937 + 20*1781 = 40,305$ EUR. That is a whooping $61.22$% return.\n",
    "\n",
    "Now suppose that I did not have a loss function. The benchmark model was Model 4, and the threshold = 0.3. Suppose I invest 1000 EUR to each company. I will spend 318,000 EUR and get in return $182*937 + 136*1781 = 412,750$ EUR. That is $29.8$% return, which is much less than in previous case, by a great margin. \n",
    "\n",
    "This is how relevant the model can be, especially if financing is not abundant, and investors are quite risk averse. What we are doing is that we are essentially increaing the rate of return on investment by being more selective.\n",
    "\n",
    "Having more domain knowledge of the industries in which these firms operate and of accounting would allow to specify more fitting loss functions. One this that could be done is splitting firm by industry and grouping similar ones together. When I say similar I mean in accounting terms. e.g. firms in retail, food, or any industry that requires a lot of inventory turnover require a high level of working capital as a percentage of total assets, whilst that is the opposite for firms in construction for example. The point of all of this is that the same number on the balance sheet could mean a very different thing depending on industry. While it is true that we could control for industry and that would be the end of that, but it would make more sense for investors to have a model for each industry group as it fits well with the way that portfolio managers think and it would be a lot easier for them to use and to convince others of their choices. "
   ]
  }
 ],
 "metadata": {
  "kernelspec": {
   "display_name": "Python 3 (ipykernel)",
   "language": "python",
   "name": "python3"
  },
  "language_info": {
   "codemirror_mode": {
    "name": "ipython",
    "version": 3
   },
   "file_extension": ".py",
   "mimetype": "text/x-python",
   "name": "python",
   "nbconvert_exporter": "python",
   "pygments_lexer": "ipython3",
   "version": "3.9.13"
  }
 },
 "nbformat": 4,
 "nbformat_minor": 5
}
